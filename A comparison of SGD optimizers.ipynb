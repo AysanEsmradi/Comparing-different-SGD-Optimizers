{
 "cells": [
  {
   "cell_type": "markdown",
   "id": "abe0700b",
   "metadata": {},
   "source": [
    "# Machine Learning\n",
    "## A comparison of SGD optimizers\n",
    "\n",
    "### Name: Aysan Esmradi \n",
    "\n"
   ]
  },
  {
   "cell_type": "code",
   "execution_count": 786,
   "id": "eb2d1d5f",
   "metadata": {},
   "outputs": [
    {
     "name": "stderr",
     "output_type": "stream",
     "text": [
      "WARNING: Ignoring invalid distribution -orch (c:\\users\\aysan\\anaconda3\\lib\\site-packages)\n",
      "WARNING: Ignoring invalid distribution -orch (c:\\users\\aysan\\anaconda3\\lib\\site-packages)\n",
      "WARNING: Ignoring invalid distribution -orch (c:\\users\\aysan\\anaconda3\\lib\\site-packages)\n",
      "WARNING: Ignoring invalid distribution -orch (c:\\users\\aysan\\anaconda3\\lib\\site-packages)\n",
      "WARNING: Ignoring invalid distribution -orch (c:\\users\\aysan\\anaconda3\\lib\\site-packages)\n",
      "WARNING: Ignoring invalid distribution -orch (c:\\users\\aysan\\anaconda3\\lib\\site-packages)\n"
     ]
    },
    {
     "name": "stdout",
     "output_type": "stream",
     "text": [
      "Requirement already satisfied: d2l in c:\\users\\aysan\\anaconda3\\lib\\site-packages (0.17.5)\n",
      "Requirement already satisfied: pandas==1.2.4 in c:\\users\\aysan\\anaconda3\\lib\\site-packages (from d2l) (1.2.4)\n",
      "Requirement already satisfied: jupyter==1.0.0 in c:\\users\\aysan\\anaconda3\\lib\\site-packages (from d2l) (1.0.0)\n",
      "Requirement already satisfied: requests==2.25.1 in c:\\users\\aysan\\anaconda3\\lib\\site-packages (from d2l) (2.25.1)\n",
      "Requirement already satisfied: numpy==1.21.5 in c:\\users\\aysan\\anaconda3\\lib\\site-packages (from d2l) (1.21.5)\n",
      "Requirement already satisfied: matplotlib==3.5.1 in c:\\users\\aysan\\anaconda3\\lib\\site-packages (from d2l) (3.5.1)\n",
      "Requirement already satisfied: ipykernel in c:\\users\\aysan\\anaconda3\\lib\\site-packages (from jupyter==1.0.0->d2l) (6.4.1)\n",
      "Requirement already satisfied: qtconsole in c:\\users\\aysan\\anaconda3\\lib\\site-packages (from jupyter==1.0.0->d2l) (5.2.2)\n",
      "Requirement already satisfied: notebook in c:\\users\\aysan\\anaconda3\\lib\\site-packages (from jupyter==1.0.0->d2l) (6.4.8)\n",
      "Requirement already satisfied: jupyter-console in c:\\users\\aysan\\anaconda3\\lib\\site-packages (from jupyter==1.0.0->d2l) (6.4.0)\n",
      "Requirement already satisfied: nbconvert in c:\\users\\aysan\\anaconda3\\lib\\site-packages (from jupyter==1.0.0->d2l) (6.1.0)\n",
      "Requirement already satisfied: ipywidgets in c:\\users\\aysan\\anaconda3\\lib\\site-packages (from jupyter==1.0.0->d2l) (7.6.5)\n",
      "Requirement already satisfied: pillow>=6.2.0 in c:\\users\\aysan\\anaconda3\\lib\\site-packages (from matplotlib==3.5.1->d2l) (8.4.0)\n",
      "Requirement already satisfied: fonttools>=4.22.0 in c:\\users\\aysan\\anaconda3\\lib\\site-packages (from matplotlib==3.5.1->d2l) (4.25.0)\n",
      "Requirement already satisfied: packaging>=20.0 in c:\\users\\aysan\\anaconda3\\lib\\site-packages (from matplotlib==3.5.1->d2l) (21.3)\n",
      "Requirement already satisfied: python-dateutil>=2.7 in c:\\users\\aysan\\anaconda3\\lib\\site-packages (from matplotlib==3.5.1->d2l) (2.8.2)\n",
      "Requirement already satisfied: pyparsing>=2.2.1 in c:\\users\\aysan\\anaconda3\\lib\\site-packages (from matplotlib==3.5.1->d2l) (3.0.4)\n",
      "Requirement already satisfied: cycler>=0.10 in c:\\users\\aysan\\anaconda3\\lib\\site-packages (from matplotlib==3.5.1->d2l) (0.11.0)\n",
      "Requirement already satisfied: kiwisolver>=1.0.1 in c:\\users\\aysan\\anaconda3\\lib\\site-packages (from matplotlib==3.5.1->d2l) (1.3.2)\n",
      "Requirement already satisfied: pytz>=2017.3 in c:\\users\\aysan\\anaconda3\\lib\\site-packages (from pandas==1.2.4->d2l) (2021.3)\n",
      "Requirement already satisfied: idna<3,>=2.5 in c:\\users\\aysan\\anaconda3\\lib\\site-packages (from requests==2.25.1->d2l) (2.10)\n",
      "Requirement already satisfied: urllib3<1.27,>=1.21.1 in c:\\users\\aysan\\anaconda3\\lib\\site-packages (from requests==2.25.1->d2l) (1.22)\n",
      "Requirement already satisfied: chardet<5,>=3.0.2 in c:\\users\\aysan\\anaconda3\\lib\\site-packages (from requests==2.25.1->d2l) (3.0.4)\n",
      "Requirement already satisfied: certifi>=2017.4.17 in c:\\users\\aysan\\anaconda3\\lib\\site-packages (from requests==2.25.1->d2l) (2021.10.8)\n",
      "Requirement already satisfied: six>=1.5 in c:\\users\\aysan\\anaconda3\\lib\\site-packages (from python-dateutil>=2.7->matplotlib==3.5.1->d2l) (1.16.0)\n",
      "Requirement already satisfied: traitlets<6.0,>=4.1.0 in c:\\users\\aysan\\anaconda3\\lib\\site-packages (from ipykernel->jupyter==1.0.0->d2l) (5.1.1)\n",
      "Requirement already satisfied: jupyter-client<8.0 in c:\\users\\aysan\\anaconda3\\lib\\site-packages (from ipykernel->jupyter==1.0.0->d2l) (6.1.12)\n",
      "Requirement already satisfied: matplotlib-inline<0.2.0,>=0.1.0 in c:\\users\\aysan\\anaconda3\\lib\\site-packages (from ipykernel->jupyter==1.0.0->d2l) (0.1.2)\n",
      "Requirement already satisfied: debugpy<2.0,>=1.0.0 in c:\\users\\aysan\\anaconda3\\lib\\site-packages (from ipykernel->jupyter==1.0.0->d2l) (1.5.1)\n",
      "Requirement already satisfied: ipython-genutils in c:\\users\\aysan\\anaconda3\\lib\\site-packages (from ipykernel->jupyter==1.0.0->d2l) (0.2.0)\n",
      "Requirement already satisfied: ipython<8.0,>=7.23.1 in c:\\users\\aysan\\anaconda3\\lib\\site-packages (from ipykernel->jupyter==1.0.0->d2l) (7.31.1)\n",
      "Requirement already satisfied: tornado<7.0,>=4.2 in c:\\users\\aysan\\anaconda3\\lib\\site-packages (from ipykernel->jupyter==1.0.0->d2l) (6.1)\n",
      "Requirement already satisfied: setuptools>=18.5 in c:\\users\\aysan\\anaconda3\\lib\\site-packages (from ipython<8.0,>=7.23.1->ipykernel->jupyter==1.0.0->d2l) (58.0.4)\n",
      "Requirement already satisfied: colorama in c:\\users\\aysan\\anaconda3\\lib\\site-packages (from ipython<8.0,>=7.23.1->ipykernel->jupyter==1.0.0->d2l) (0.4.4)\n",
      "Requirement already satisfied: prompt-toolkit!=3.0.0,!=3.0.1,<3.1.0,>=2.0.0 in c:\\users\\aysan\\anaconda3\\lib\\site-packages (from ipython<8.0,>=7.23.1->ipykernel->jupyter==1.0.0->d2l) (3.0.20)\n",
      "Requirement already satisfied: backcall in c:\\users\\aysan\\anaconda3\\lib\\site-packages (from ipython<8.0,>=7.23.1->ipykernel->jupyter==1.0.0->d2l) (0.2.0)\n",
      "Requirement already satisfied: jedi>=0.16 in c:\\users\\aysan\\anaconda3\\lib\\site-packages (from ipython<8.0,>=7.23.1->ipykernel->jupyter==1.0.0->d2l) (0.18.1)\n",
      "Requirement already satisfied: pickleshare in c:\\users\\aysan\\anaconda3\\lib\\site-packages (from ipython<8.0,>=7.23.1->ipykernel->jupyter==1.0.0->d2l) (0.7.5)\n",
      "Requirement already satisfied: decorator in c:\\users\\aysan\\anaconda3\\lib\\site-packages (from ipython<8.0,>=7.23.1->ipykernel->jupyter==1.0.0->d2l) (5.1.1)\n",
      "Requirement already satisfied: pygments in c:\\users\\aysan\\anaconda3\\lib\\site-packages (from ipython<8.0,>=7.23.1->ipykernel->jupyter==1.0.0->d2l) (2.11.2)\n",
      "Requirement already satisfied: parso<0.9.0,>=0.8.0 in c:\\users\\aysan\\anaconda3\\lib\\site-packages (from jedi>=0.16->ipython<8.0,>=7.23.1->ipykernel->jupyter==1.0.0->d2l) (0.8.3)\n",
      "Requirement already satisfied: pyzmq>=13 in c:\\users\\aysan\\anaconda3\\lib\\site-packages (from jupyter-client<8.0->ipykernel->jupyter==1.0.0->d2l) (22.3.0)\n",
      "Requirement already satisfied: jupyter-core>=4.6.0 in c:\\users\\aysan\\anaconda3\\lib\\site-packages (from jupyter-client<8.0->ipykernel->jupyter==1.0.0->d2l) (4.9.1)\n",
      "Requirement already satisfied: pywin32>=1.0 in c:\\users\\aysan\\anaconda3\\lib\\site-packages (from jupyter-core>=4.6.0->jupyter-client<8.0->ipykernel->jupyter==1.0.0->d2l) (302)\n",
      "Requirement already satisfied: wcwidth in c:\\users\\aysan\\anaconda3\\lib\\site-packages (from prompt-toolkit!=3.0.0,!=3.0.1,<3.1.0,>=2.0.0->ipython<8.0,>=7.23.1->ipykernel->jupyter==1.0.0->d2l) (0.2.5)\n",
      "Requirement already satisfied: widgetsnbextension~=3.5.0 in c:\\users\\aysan\\anaconda3\\lib\\site-packages (from ipywidgets->jupyter==1.0.0->d2l) (3.5.2)\n",
      "Requirement already satisfied: nbformat>=4.2.0 in c:\\users\\aysan\\anaconda3\\lib\\site-packages (from ipywidgets->jupyter==1.0.0->d2l) (5.1.3)\n",
      "Requirement already satisfied: jupyterlab-widgets>=1.0.0 in c:\\users\\aysan\\anaconda3\\lib\\site-packages (from ipywidgets->jupyter==1.0.0->d2l) (1.0.0)\n",
      "Requirement already satisfied: jsonschema!=2.5.0,>=2.4 in c:\\users\\aysan\\anaconda3\\lib\\site-packages (from nbformat>=4.2.0->ipywidgets->jupyter==1.0.0->d2l) (3.2.0)\n",
      "Requirement already satisfied: pyrsistent>=0.14.0 in c:\\users\\aysan\\anaconda3\\lib\\site-packages (from jsonschema!=2.5.0,>=2.4->nbformat>=4.2.0->ipywidgets->jupyter==1.0.0->d2l) (0.18.0)\n",
      "Requirement already satisfied: attrs>=17.4.0 in c:\\users\\aysan\\anaconda3\\lib\\site-packages (from jsonschema!=2.5.0,>=2.4->nbformat>=4.2.0->ipywidgets->jupyter==1.0.0->d2l) (21.4.0)\n",
      "Requirement already satisfied: prometheus-client in c:\\users\\aysan\\anaconda3\\lib\\site-packages (from notebook->jupyter==1.0.0->d2l) (0.13.1)\n",
      "Requirement already satisfied: Send2Trash>=1.8.0 in c:\\users\\aysan\\anaconda3\\lib\\site-packages (from notebook->jupyter==1.0.0->d2l) (1.8.0)\n",
      "Requirement already satisfied: terminado>=0.8.3 in c:\\users\\aysan\\anaconda3\\lib\\site-packages (from notebook->jupyter==1.0.0->d2l) (0.13.1)\n",
      "Requirement already satisfied: argon2-cffi in c:\\users\\aysan\\anaconda3\\lib\\site-packages (from notebook->jupyter==1.0.0->d2l) (21.3.0)\n",
      "Requirement already satisfied: nest-asyncio>=1.5 in c:\\users\\aysan\\anaconda3\\lib\\site-packages (from notebook->jupyter==1.0.0->d2l) (1.5.1)\n",
      "Requirement already satisfied: jinja2 in c:\\users\\aysan\\anaconda3\\lib\\site-packages (from notebook->jupyter==1.0.0->d2l) (2.11.3)\n",
      "Requirement already satisfied: pywinpty>=1.1.0 in c:\\users\\aysan\\anaconda3\\lib\\site-packages (from terminado>=0.8.3->notebook->jupyter==1.0.0->d2l) (2.0.2)\n",
      "Requirement already satisfied: argon2-cffi-bindings in c:\\users\\aysan\\anaconda3\\lib\\site-packages (from argon2-cffi->notebook->jupyter==1.0.0->d2l) (21.2.0)\n",
      "Requirement already satisfied: cffi>=1.0.1 in c:\\users\\aysan\\anaconda3\\lib\\site-packages (from argon2-cffi-bindings->argon2-cffi->notebook->jupyter==1.0.0->d2l) (1.15.0)\n",
      "Requirement already satisfied: pycparser in c:\\users\\aysan\\anaconda3\\lib\\site-packages (from cffi>=1.0.1->argon2-cffi-bindings->argon2-cffi->notebook->jupyter==1.0.0->d2l) (2.21)\n",
      "Requirement already satisfied: MarkupSafe>=0.23 in c:\\users\\aysan\\anaconda3\\lib\\site-packages (from jinja2->notebook->jupyter==1.0.0->d2l) (1.1.1)\n",
      "Requirement already satisfied: mistune<2,>=0.8.1 in c:\\users\\aysan\\anaconda3\\lib\\site-packages (from nbconvert->jupyter==1.0.0->d2l) (0.8.4)\n",
      "Requirement already satisfied: defusedxml in c:\\users\\aysan\\anaconda3\\lib\\site-packages (from nbconvert->jupyter==1.0.0->d2l) (0.7.1)\n",
      "Requirement already satisfied: entrypoints>=0.2.2 in c:\\users\\aysan\\anaconda3\\lib\\site-packages (from nbconvert->jupyter==1.0.0->d2l) (0.3)\n",
      "Requirement already satisfied: pandocfilters>=1.4.1 in c:\\users\\aysan\\anaconda3\\lib\\site-packages (from nbconvert->jupyter==1.0.0->d2l) (1.5.0)\n",
      "Requirement already satisfied: testpath in c:\\users\\aysan\\anaconda3\\lib\\site-packages (from nbconvert->jupyter==1.0.0->d2l) (0.5.0)\n",
      "Requirement already satisfied: jupyterlab-pygments in c:\\users\\aysan\\anaconda3\\lib\\site-packages (from nbconvert->jupyter==1.0.0->d2l) (0.1.2)\n",
      "Requirement already satisfied: bleach in c:\\users\\aysan\\anaconda3\\lib\\site-packages (from nbconvert->jupyter==1.0.0->d2l) (4.1.0)\n",
      "Requirement already satisfied: nbclient<0.6.0,>=0.5.0 in c:\\users\\aysan\\anaconda3\\lib\\site-packages (from nbconvert->jupyter==1.0.0->d2l) (0.5.11)\n",
      "Requirement already satisfied: webencodings in c:\\users\\aysan\\anaconda3\\lib\\site-packages (from bleach->nbconvert->jupyter==1.0.0->d2l) (0.5.1)\n",
      "Requirement already satisfied: qtpy in c:\\users\\aysan\\anaconda3\\lib\\site-packages (from qtconsole->jupyter==1.0.0->d2l) (1.11.2)\n"
     ]
    }
   ],
   "source": [
    "!pip install -U d2l"
   ]
  },
  {
   "cell_type": "code",
   "execution_count": 828,
   "id": "6428dacf",
   "metadata": {},
   "outputs": [],
   "source": [
    "import timeit"
   ]
  },
  {
   "cell_type": "code",
   "execution_count": 829,
   "id": "8983f8a8",
   "metadata": {},
   "outputs": [],
   "source": [
    "import pandas as pd\n",
    "import numpy as np\n",
    "import torch\n",
    "import torch.nn as nn\n",
    "import torch.optim as optim  \n",
    "import torchvision\n",
    "import torchvision.transforms as transforms\n",
    "import torchvision.datasets as datasets\n",
    "from torch.utils.data.sampler import SubsetRandomSampler\n",
    "from sklearn.metrics import confusion_matrix\n",
    "import seaborn as sns\n",
    "from torch.utils.data import DataLoader\n",
    "from torchvision import datasets\n",
    "from torchvision.transforms import ToTensor, Lambda\n",
    "import random\n",
    "import matplotlib.pyplot as plt\n",
    "%matplotlib inline"
   ]
  },
  {
   "cell_type": "markdown",
   "id": "55e412eb",
   "metadata": {},
   "source": [
    "## First Task: Image Classification with Neural Network\n",
    "In here, We implement a neural networks using PyTorch to classify images of Fashion MNIST dataset which this dataset consists of images from 10 categories, each represented by 6000 images in the training dataset and by 1000 in the test dataset. Each example is a 28x28 grayscale image, associated with a label from 10 classes."
   ]
  },
  {
   "cell_type": "code",
   "execution_count": 830,
   "id": "31a5e762",
   "metadata": {},
   "outputs": [],
   "source": [
    "# Load the train and test dataset\n",
    "training_data = datasets.FashionMNIST(\n",
    "    root=\"data\",\n",
    "    train=True,\n",
    "    download=True,\n",
    "    transform=ToTensor()\n",
    ")\n",
    "\n",
    "test_data = datasets.FashionMNIST(\n",
    "    root=\"data\",\n",
    "    train=False,\n",
    "    download=True,\n",
    "    transform=ToTensor()\n",
    ")\n",
    "\n",
    "train_dataloader = DataLoader(training_data, batch_size=128)\n",
    "test_dataloader = DataLoader(test_data, batch_size=128)"
   ]
  },
  {
   "cell_type": "code",
   "execution_count": 831,
   "id": "e061cb42",
   "metadata": {},
   "outputs": [
    {
     "data": {
      "text/plain": [
       "469"
      ]
     },
     "execution_count": 831,
     "metadata": {},
     "output_type": "execute_result"
    }
   ],
   "source": [
    "len(train_dataloader)"
   ]
  },
  {
   "cell_type": "code",
   "execution_count": 832,
   "id": "c7f31d67",
   "metadata": {},
   "outputs": [
    {
     "data": {
      "text/plain": [
       "10000"
      ]
     },
     "execution_count": 832,
     "metadata": {},
     "output_type": "execute_result"
    }
   ],
   "source": [
    "len(test_dataloader.dataset)"
   ]
  },
  {
   "cell_type": "code",
   "execution_count": 833,
   "id": "1416f7d4",
   "metadata": {},
   "outputs": [
    {
     "data": {
      "text/plain": [
       "79"
      ]
     },
     "execution_count": 833,
     "metadata": {},
     "output_type": "execute_result"
    }
   ],
   "source": [
    "len(test_dataloader)"
   ]
  },
  {
   "cell_type": "code",
   "execution_count": 834,
   "id": "760a4ba8",
   "metadata": {},
   "outputs": [],
   "source": [
    "#Constrict our model, The model includes a linear layer then relu layer, linear layer, relu layer, linear layer.\n",
    "\n",
    "class NeuralNetwork(nn.Module):\n",
    "    def __init__(self):\n",
    "        super(NeuralNetwork, self).__init__()\n",
    "        self.flatten = nn.Flatten()\n",
    "        self.linear_relu_stack = nn.Sequential(\n",
    "            nn.Linear(28*28, 512),\n",
    "            nn.ReLU(),\n",
    "            nn.Linear(512, 512),\n",
    "            nn.ReLU(),\n",
    "            nn.Linear(512, 10),\n",
    "        )\n",
    "\n",
    "    def forward(self, x):\n",
    "        x = self.flatten(x)\n",
    "        logits = self.linear_relu_stack(x)\n",
    "        return logits\n",
    "\n",
    "model = NeuralNetwork()"
   ]
  },
  {
   "cell_type": "code",
   "execution_count": 835,
   "id": "645e7f5e",
   "metadata": {},
   "outputs": [],
   "source": [
    "#Setting the hyperparameter for training\n",
    "\n",
    "learning_rate = 1e-3\n",
    "batch_size = 512"
   ]
  },
  {
   "cell_type": "code",
   "execution_count": 836,
   "id": "cceab8b7",
   "metadata": {},
   "outputs": [],
   "source": [
    "# Initialize the loss function\n",
    "loss_fn = nn.CrossEntropyLoss()"
   ]
  },
  {
   "cell_type": "markdown",
   "id": "aa59b19a",
   "metadata": {},
   "source": [
    "### SGD"
   ]
  },
  {
   "cell_type": "code",
   "execution_count": 837,
   "id": "1329d49c",
   "metadata": {},
   "outputs": [],
   "source": [
    "#Set The optimizer , The purpose of this project is to compare the results of different optimizers. \n",
    "#At the first, we are using from the Stochastic Gradient Descent.\n",
    "\n",
    "optimizer = torch.optim.SGD(model.parameters(), lr=learning_rate)"
   ]
  },
  {
   "cell_type": "code",
   "execution_count": 838,
   "id": "a0d92e16",
   "metadata": {},
   "outputs": [],
   "source": [
    "def train_loop(dataloader, model, loss_fn, optimizer):\n",
    "    size = len(dataloader.dataset)\n",
    "    for batch, (X, y) in enumerate(dataloader):\n",
    "        # Compute prediction and loss\n",
    "        pred = model(X)\n",
    "        loss = loss_fn(pred, y)\n",
    "\n",
    "        # Backpropagation\n",
    "        optimizer.zero_grad()\n",
    "        loss.backward()\n",
    "        optimizer.step()\n",
    "\n",
    "        if batch % 100 == 0:\n",
    "            loss, current = loss.item(), batch * len(X)\n",
    "            print(f\"loss: {loss:>7f}  [{current:>5d}/{size:>5d}]\")\n",
    "\n",
    "\n",
    "def test_loop(dataloader, model, loss_fn):\n",
    "    size = len(dataloader.dataset)\n",
    "    num_batches = len(dataloader)\n",
    "    test_loss, correct = 0, 0\n",
    "\n",
    "\n",
    "    with torch.no_grad():\n",
    "        for X, y in dataloader:\n",
    "            pred = model(X)\n",
    "            test_loss += loss_fn(pred, y).item()\n",
    "            correct += (pred.argmax(1) == y).type(torch.float).sum().item()\n",
    "            \n",
    "    test_loss /= num_batches\n",
    "    correct /= size\n",
    "    #print(f\"Test Error: \\n Accuracy: {(100*correct):>0.1f}%, Avg loss: {test_loss:>8f} \\n\")\n",
    "    Acc_test = 100*correct\n",
    "    Avg_loss = test_loss\n",
    "    return Acc_test , Avg_loss"
   ]
  },
  {
   "cell_type": "code",
   "execution_count": 839,
   "id": "0caefd4f",
   "metadata": {},
   "outputs": [],
   "source": [
    "# Specify a list to store the result\n",
    "result_list = []\n",
    "def store_result(cur_result_list, i_opt, i_epoch, i_Acc, i_Avg):\n",
    "    new_result={\n",
    "        'Optimizer': i_opt,\n",
    "        'epoch': i_epoch,\n",
    "        'Accuracy': i_Acc,\n",
    "        'Avg loss': i_Avg\n",
    "    }\n",
    "    cur_result_list.append(new_result)\n",
    "    \n",
    "    return cur_result_list"
   ]
  },
  {
   "cell_type": "code",
   "execution_count": 840,
   "id": "4f046f2a",
   "metadata": {},
   "outputs": [],
   "source": [
    "#Specify a list to store the run time of the optimizers\n",
    "run_time_list = []\n",
    "def store_time(cur_result_list, i_opt, i_time):\n",
    "    new_result={\n",
    "        'Optimizer': i_opt,\n",
    "        'run time': i_time\n",
    "    }\n",
    "    cur_result_list.append(new_result)\n",
    "    \n",
    "    return cur_result_list\n"
   ]
  },
  {
   "cell_type": "code",
   "execution_count": 841,
   "id": "78a168fb",
   "metadata": {},
   "outputs": [
    {
     "name": "stdout",
     "output_type": "stream",
     "text": [
      "Epoch 1\n",
      "-------------------------------\n",
      "loss: 2.298554  [    0/60000]\n",
      "loss: 2.276199  [12800/60000]\n",
      "loss: 2.257149  [25600/60000]\n",
      "loss: 2.254340  [38400/60000]\n",
      "loss: 2.229220  [51200/60000]\n",
      "Test Error: \n",
      " Accuracy: 34.7%, Avg loss: 2.218270 \n",
      "\n",
      "Epoch 2\n",
      "-------------------------------\n",
      "loss: 2.221452  [    0/60000]\n",
      "loss: 2.188886  [12800/60000]\n",
      "loss: 2.173527  [25600/60000]\n",
      "loss: 2.172279  [38400/60000]\n",
      "loss: 2.136991  [51200/60000]\n",
      "Test Error: \n",
      " Accuracy: 40.5%, Avg loss: 2.123207 \n",
      "\n",
      "Epoch 3\n",
      "-------------------------------\n",
      "loss: 2.124773  [    0/60000]\n",
      "loss: 2.077135  [12800/60000]\n",
      "loss: 2.061651  [25600/60000]\n",
      "loss: 2.056193  [38400/60000]\n",
      "loss: 2.010720  [51200/60000]\n",
      "Test Error: \n",
      " Accuracy: 46.8%, Avg loss: 1.989730 \n",
      "\n",
      "Epoch 4\n",
      "-------------------------------\n",
      "loss: 1.985373  [    0/60000]\n",
      "loss: 1.918671  [12800/60000]\n",
      "loss: 1.902418  [25600/60000]\n",
      "loss: 1.888849  [38400/60000]\n",
      "loss: 1.843741  [51200/60000]\n",
      "Test Error: \n",
      " Accuracy: 50.1%, Avg loss: 1.813331 \n",
      "\n",
      "Epoch 5\n",
      "-------------------------------\n",
      "loss: 1.799777  [    0/60000]\n",
      "loss: 1.720731  [12800/60000]\n",
      "loss: 1.707258  [25600/60000]\n",
      "loss: 1.690648  [38400/60000]\n",
      "loss: 1.659579  [51200/60000]\n",
      "Test Error: \n",
      " Accuracy: 55.2%, Avg loss: 1.625240 \n",
      "\n",
      "Epoch 6\n",
      "-------------------------------\n",
      "loss: 1.605416  [    0/60000]\n",
      "loss: 1.527237  [12800/60000]\n",
      "loss: 1.521483  [25600/60000]\n",
      "loss: 1.505344  [38400/60000]\n",
      "loss: 1.492092  [51200/60000]\n",
      "Test Error: \n",
      " Accuracy: 60.2%, Avg loss: 1.461076 \n",
      "\n",
      "Epoch 7\n",
      "-------------------------------\n",
      "loss: 1.439368  [    0/60000]\n",
      "loss: 1.366295  [12800/60000]\n",
      "loss: 1.367197  [25600/60000]\n",
      "loss: 1.352854  [38400/60000]\n",
      "loss: 1.354416  [51200/60000]\n",
      "Test Error: \n",
      " Accuracy: 61.8%, Avg loss: 1.329755 \n",
      "\n",
      "Epoch 8\n",
      "-------------------------------\n",
      "loss: 1.306487  [    0/60000]\n",
      "loss: 1.237287  [12800/60000]\n",
      "loss: 1.242697  [25600/60000]\n",
      "loss: 1.232618  [38400/60000]\n",
      "loss: 1.244781  [51200/60000]\n",
      "Test Error: \n",
      " Accuracy: 63.0%, Avg loss: 1.226067 \n",
      "\n",
      "Epoch 9\n",
      "-------------------------------\n",
      "loss: 1.199848  [    0/60000]\n",
      "loss: 1.132923  [12800/60000]\n",
      "loss: 1.142569  [25600/60000]\n",
      "loss: 1.137134  [38400/60000]\n",
      "loss: 1.156701  [51200/60000]\n",
      "Test Error: \n",
      " Accuracy: 63.9%, Avg loss: 1.142864 \n",
      "\n",
      "Epoch 10\n",
      "-------------------------------\n",
      "loss: 1.112613  [    0/60000]\n",
      "loss: 1.047335  [12800/60000]\n",
      "loss: 1.061996  [25600/60000]\n",
      "loss: 1.060325  [38400/60000]\n",
      "loss: 1.084749  [51200/60000]\n",
      "Test Error: \n",
      " Accuracy: 64.7%, Avg loss: 1.075089 \n",
      "\n",
      "Done!\n"
     ]
    }
   ],
   "source": [
    "#conduct the train and test\n",
    "loss_fn = nn.CrossEntropyLoss()\n",
    "optimizer = torch.optim.SGD(model.parameters(), lr=learning_rate)\n",
    "\n",
    "Acc_list_SGD = []\n",
    "Avg_list_SGD = []\n",
    "optimizer_name = 'SGD'\n",
    "start = timeit.default_timer()\n",
    "\n",
    "epochs = 10\n",
    "for t in range(epochs):\n",
    "    print(f\"Epoch {t+1}\\n-------------------------------\")\n",
    "    train_loop(train_dataloader, model, loss_fn, optimizer)\n",
    "    #test_loop(test_dataloader, model, loss_fn)\n",
    "    Acc_test , Avg_loss = test_loop(test_dataloader, model, loss_fn)\n",
    "    Acc_list_SGD.append(Acc_test)\n",
    "    Avg_list_SGD.append(Avg_loss)\n",
    "    print(f\"Test Error: \\n Accuracy: {(Acc_test):>0.1f}%, Avg loss: { Avg_loss:>8f} \\n\")\n",
    "    result_list= store_result(result_list, optimizer_name, \n",
    "                               t, Acc_test,Avg_loss)\n",
    "    \n",
    "stop = timeit.default_timer()\n",
    "run_time = stop - start  \n",
    "run_time_list = store_time(run_time_list,optimizer_name,run_time)\n",
    "print(\"Done!\")"
   ]
  },
  {
   "cell_type": "code",
   "execution_count": 842,
   "id": "7c28c4d9",
   "metadata": {},
   "outputs": [
    {
     "data": {
      "text/plain": [
       "[{'Optimizer': 'SGD', 'run time': 195.771498600021}]"
      ]
     },
     "execution_count": 842,
     "metadata": {},
     "output_type": "execute_result"
    }
   ],
   "source": [
    "run_time_list"
   ]
  },
  {
   "cell_type": "code",
   "execution_count": 843,
   "id": "12d6d9fe",
   "metadata": {},
   "outputs": [
    {
     "data": {
      "image/png": "[encoded data removed]",
      "text/plain": [
       "<Figure size 432x288 with 1 Axes>"
      ]
     },
     "metadata": {
      "needs_background": "light"
     },
     "output_type": "display_data"
    }
   ],
   "source": [
    "#plot accuracy in each epoch\n",
    "k_epoch = [0,1,2,3,4,5,6,7,8,9]\n",
    "plt.plot(k_epoch,Acc_list_SGD,label='Accuracy')\n",
    "\n",
    "plt.title('Accuracy with SGD optimizer')\n",
    "plt.xlabel('epoch')\n",
    "plt.ylabel('Accuracy')\n",
    "plt.legend()\n",
    "plt.show()"
   ]
  },
  {
   "cell_type": "code",
   "execution_count": 844,
   "id": "061d9594",
   "metadata": {},
   "outputs": [
    {
     "data": {
      "image/png": "[encoded data removed]",
      "text/plain": [
       "<Figure size 432x288 with 1 Axes>"
      ]
     },
     "metadata": {
      "needs_background": "light"
     },
     "output_type": "display_data"
    }
   ],
   "source": [
    "#plot Avg loss in each epoch\n",
    "k_epoch = [0,1,2,3,4,5,6,7,8,9]\n",
    "plt.plot(k_epoch,Avg_list_SGD,label='Avg loss')\n",
    "\n",
    "plt.title('Average loss with SGD optimizer')\n",
    "plt.xlabel('epoch')\n",
    "plt.ylabel('Avg loss')\n",
    "plt.legend()\n",
    "plt.show()"
   ]
  },
  {
   "cell_type": "markdown",
   "id": "a398f362",
   "metadata": {},
   "source": [
    "### SGD with Momentum"
   ]
  },
  {
   "cell_type": "code",
   "execution_count": 845,
   "id": "262e0ec9",
   "metadata": {},
   "outputs": [
    {
     "name": "stdout",
     "output_type": "stream",
     "text": [
      "Epoch 1\n",
      "-------------------------------\n",
      "loss: 1.040099  [    0/60000]\n",
      "loss: 0.880528  [12800/60000]\n",
      "loss: 0.838497  [25600/60000]\n",
      "loss: 0.808203  [38400/60000]\n",
      "loss: 0.798421  [51200/60000]\n",
      "Test Error: \n",
      " Accuracy: 71.0%, Avg loss: 0.785112 \n",
      "\n",
      "Epoch 2\n",
      "-------------------------------\n",
      "loss: 0.703435  [    0/60000]\n",
      "loss: 0.627298  [12800/60000]\n",
      "loss: 0.662562  [25600/60000]\n",
      "loss: 0.672996  [38400/60000]\n",
      "loss: 0.683852  [51200/60000]\n",
      "Test Error: \n",
      " Accuracy: 75.7%, Avg loss: 0.682730 \n",
      "\n",
      "Epoch 3\n",
      "-------------------------------\n",
      "loss: 0.575881  [    0/60000]\n",
      "loss: 0.523914  [12800/60000]\n",
      "loss: 0.573212  [25600/60000]\n",
      "loss: 0.593579  [38400/60000]\n",
      "loss: 0.621056  [51200/60000]\n",
      "Test Error: \n",
      " Accuracy: 78.6%, Avg loss: 0.618642 \n",
      "\n",
      "Epoch 4\n",
      "-------------------------------\n",
      "loss: 0.496696  [    0/60000]\n",
      "loss: 0.464826  [12800/60000]\n",
      "loss: 0.520095  [25600/60000]\n",
      "loss: 0.542490  [38400/60000]\n",
      "loss: 0.583863  [51200/60000]\n",
      "Test Error: \n",
      " Accuracy: 79.9%, Avg loss: 0.575929 \n",
      "\n",
      "Epoch 5\n",
      "-------------------------------\n",
      "loss: 0.442396  [    0/60000]\n",
      "loss: 0.428613  [12800/60000]\n",
      "loss: 0.484945  [25600/60000]\n",
      "loss: 0.509531  [38400/60000]\n",
      "loss: 0.560138  [51200/60000]\n",
      "Test Error: \n",
      " Accuracy: 81.0%, Avg loss: 0.546755 \n",
      "\n",
      "Epoch 6\n",
      "-------------------------------\n",
      "loss: 0.403156  [    0/60000]\n",
      "loss: 0.404923  [12800/60000]\n",
      "loss: 0.458283  [25600/60000]\n",
      "loss: 0.487873  [38400/60000]\n",
      "loss: 0.542512  [51200/60000]\n",
      "Test Error: \n",
      " Accuracy: 81.6%, Avg loss: 0.526277 \n",
      "\n",
      "Epoch 7\n",
      "-------------------------------\n",
      "loss: 0.373860  [    0/60000]\n",
      "loss: 0.388857  [12800/60000]\n",
      "loss: 0.437664  [25600/60000]\n",
      "loss: 0.472712  [38400/60000]\n",
      "loss: 0.527228  [51200/60000]\n",
      "Test Error: \n",
      " Accuracy: 82.0%, Avg loss: 0.511290 \n",
      "\n",
      "Epoch 8\n",
      "-------------------------------\n",
      "loss: 0.351582  [    0/60000]\n",
      "loss: 0.376951  [12800/60000]\n",
      "loss: 0.421662  [25600/60000]\n",
      "loss: 0.460909  [38400/60000]\n",
      "loss: 0.513587  [51200/60000]\n",
      "Test Error: \n",
      " Accuracy: 82.3%, Avg loss: 0.499790 \n",
      "\n",
      "Epoch 9\n",
      "-------------------------------\n",
      "loss: 0.333758  [    0/60000]\n",
      "loss: 0.367312  [12800/60000]\n",
      "loss: 0.408930  [25600/60000]\n",
      "loss: 0.450990  [38400/60000]\n",
      "loss: 0.501205  [51200/60000]\n",
      "Test Error: \n",
      " Accuracy: 82.6%, Avg loss: 0.490450 \n",
      "\n",
      "Epoch 10\n",
      "-------------------------------\n",
      "loss: 0.319062  [    0/60000]\n",
      "loss: 0.359166  [12800/60000]\n",
      "loss: 0.398823  [25600/60000]\n",
      "loss: 0.442262  [38400/60000]\n",
      "loss: 0.490206  [51200/60000]\n",
      "Test Error: \n",
      " Accuracy: 82.9%, Avg loss: 0.482588 \n",
      "\n",
      "Done!\n"
     ]
    }
   ],
   "source": [
    "#conduct the train and test\n",
    "#The momentum term is usually set to 0.9\n",
    "loss_fn = nn.CrossEntropyLoss()\n",
    "optimizer = torch.optim.SGD(model.parameters(), lr=learning_rate, momentum=0.9)\n",
    "\n",
    "Acc_list_Momentum = []\n",
    "Avg_list_Momentum = []\n",
    "optimizer_name = 'Momentum'\n",
    "start = timeit.default_timer()\n",
    "\n",
    "epochs = 10\n",
    "for t in range(epochs):\n",
    "    print(f\"Epoch {t+1}\\n-------------------------------\")\n",
    "    train_loop(train_dataloader, model, loss_fn, optimizer)\n",
    "    #test_loop(test_dataloader, model, loss_fn)\n",
    "    Acc_test , Avg_loss = test_loop(test_dataloader, model, loss_fn)\n",
    "    Acc_list_Momentum.append(Acc_test)\n",
    "    Avg_list_Momentum.append(Avg_loss)\n",
    "    print(f\"Test Error: \\n Accuracy: {(Acc_test):>0.1f}%, Avg loss: { Avg_loss:>8f} \\n\")\n",
    "    result_list= store_result(result_list, optimizer_name, \n",
    "                               t, Acc_test,Avg_loss)\n",
    "    \n",
    "stop = timeit.default_timer()\n",
    "run_time = stop - start  \n",
    "run_time_list = store_time(run_time_list,optimizer_name,run_time)\n",
    "print(\"Done!\")"
   ]
  },
  {
   "cell_type": "code",
   "execution_count": 846,
   "id": "a87fd068",
   "metadata": {},
   "outputs": [
    {
     "data": {
      "image/png": "[encoded data removed]",
      "text/plain": [
       "<Figure size 432x288 with 1 Axes>"
      ]
     },
     "metadata": {
      "needs_background": "light"
     },
     "output_type": "display_data"
    }
   ],
   "source": [
    "#plot accuracy in each epoch\n",
    "k_epoch = [0,1,2,3,4,5,6,7,8,9]\n",
    "plt.plot(k_epoch,Acc_list_Momentum,label='Accuracy')\n",
    "\n",
    "plt.title('Accuracy with Momentum optimizer')\n",
    "plt.xlabel('epoch')\n",
    "plt.ylabel('Accuracy')\n",
    "plt.legend()\n",
    "plt.show()"
   ]
  },
  {
   "cell_type": "code",
   "execution_count": 847,
   "id": "c4135598",
   "metadata": {},
   "outputs": [
    {
     "data": {
      "image/png": "[encoded data removed]",
      "text/plain": [
       "<Figure size 432x288 with 1 Axes>"
      ]
     },
     "metadata": {
      "needs_background": "light"
     },
     "output_type": "display_data"
    }
   ],
   "source": [
    "#plot Avg loss in each epoch\n",
    "k_epoch = [0,1,2,3,4,5,6,7,8,9]\n",
    "plt.plot(k_epoch,Avg_list_Momentum,label='Avg loss')\n",
    "\n",
    "plt.title('Average loss with Momentum optimizer')\n",
    "plt.xlabel('epoch')\n",
    "plt.ylabel('Avg loss')\n",
    "plt.legend()\n",
    "plt.show()"
   ]
  },
  {
   "cell_type": "markdown",
   "id": "cc8cc833",
   "metadata": {},
   "source": [
    "### Adagrad"
   ]
  },
  {
   "cell_type": "code",
   "execution_count": 848,
   "id": "80b71fbf",
   "metadata": {},
   "outputs": [],
   "source": [
    "#Implementing with the other optimizers\n",
    "#We can also add some other optional parameters like lr_decay (learning rate decay (default: 0)) but we try to have similar \n",
    "# conditions with SGD to have better comparison.\n",
    "#in here we are using from the prepared function from: https://pytorch.org/docs/stable/optim.html\n",
    "optimizer = torch.optim.Adagrad(model.parameters(), lr=learning_rate)\n"
   ]
  },
  {
   "cell_type": "code",
   "execution_count": 849,
   "id": "ac21ddc3",
   "metadata": {},
   "outputs": [
    {
     "name": "stdout",
     "output_type": "stream",
     "text": [
      "Epoch 1\n",
      "-------------------------------\n",
      "loss: 0.306706  [    0/60000]\n",
      "loss: 0.380393  [12800/60000]\n",
      "loss: 0.370523  [25600/60000]\n",
      "loss: 0.416433  [38400/60000]\n",
      "loss: 0.472949  [51200/60000]\n",
      "Test Error: \n",
      " Accuracy: 84.0%, Avg loss: 0.447883 \n",
      "\n",
      "Epoch 2\n",
      "-------------------------------\n",
      "loss: 0.253491  [    0/60000]\n",
      "loss: 0.325142  [12800/60000]\n",
      "loss: 0.338461  [25600/60000]\n",
      "loss: 0.390046  [38400/60000]\n",
      "loss: 0.443505  [51200/60000]\n",
      "Test Error: \n",
      " Accuracy: 84.7%, Avg loss: 0.430962 \n",
      "\n",
      "Epoch 3\n",
      "-------------------------------\n",
      "loss: 0.241337  [    0/60000]\n",
      "loss: 0.305721  [12800/60000]\n",
      "loss: 0.321278  [25600/60000]\n",
      "loss: 0.374673  [38400/60000]\n",
      "loss: 0.425695  [51200/60000]\n",
      "Test Error: \n",
      " Accuracy: 85.1%, Avg loss: 0.419413 \n",
      "\n",
      "Epoch 4\n",
      "-------------------------------\n",
      "loss: 0.232854  [    0/60000]\n",
      "loss: 0.292406  [12800/60000]\n",
      "loss: 0.310456  [25600/60000]\n",
      "loss: 0.363809  [38400/60000]\n",
      "loss: 0.412838  [51200/60000]\n",
      "Test Error: \n",
      " Accuracy: 85.4%, Avg loss: 0.410792 \n",
      "\n",
      "Epoch 5\n",
      "-------------------------------\n",
      "loss: 0.226246  [    0/60000]\n",
      "loss: 0.281939  [12800/60000]\n",
      "loss: 0.302811  [25600/60000]\n",
      "loss: 0.355610  [38400/60000]\n",
      "loss: 0.402952  [51200/60000]\n",
      "Test Error: \n",
      " Accuracy: 85.6%, Avg loss: 0.403839 \n",
      "\n",
      "Epoch 6\n",
      "-------------------------------\n",
      "loss: 0.220501  [    0/60000]\n",
      "loss: 0.273256  [12800/60000]\n",
      "loss: 0.296849  [25600/60000]\n",
      "loss: 0.349276  [38400/60000]\n",
      "loss: 0.394237  [51200/60000]\n",
      "Test Error: \n",
      " Accuracy: 85.8%, Avg loss: 0.397983 \n",
      "\n",
      "Epoch 7\n",
      "-------------------------------\n",
      "loss: 0.215931  [    0/60000]\n",
      "loss: 0.266401  [12800/60000]\n",
      "loss: 0.292526  [25600/60000]\n",
      "loss: 0.343998  [38400/60000]\n",
      "loss: 0.386418  [51200/60000]\n",
      "Test Error: \n",
      " Accuracy: 85.9%, Avg loss: 0.393030 \n",
      "\n",
      "Epoch 8\n",
      "-------------------------------\n",
      "loss: 0.211977  [    0/60000]\n",
      "loss: 0.260758  [12800/60000]\n",
      "loss: 0.288989  [25600/60000]\n",
      "loss: 0.339222  [38400/60000]\n",
      "loss: 0.379822  [51200/60000]\n",
      "Test Error: \n",
      " Accuracy: 86.1%, Avg loss: 0.388738 \n",
      "\n",
      "Epoch 9\n",
      "-------------------------------\n",
      "loss: 0.208520  [    0/60000]\n",
      "loss: 0.256245  [12800/60000]\n",
      "loss: 0.285477  [25600/60000]\n",
      "loss: 0.335927  [38400/60000]\n",
      "loss: 0.373641  [51200/60000]\n",
      "Test Error: \n",
      " Accuracy: 86.2%, Avg loss: 0.384907 \n",
      "\n",
      "Epoch 10\n",
      "-------------------------------\n",
      "loss: 0.205375  [    0/60000]\n",
      "loss: 0.252278  [12800/60000]\n",
      "loss: 0.283089  [25600/60000]\n",
      "loss: 0.332517  [38400/60000]\n",
      "loss: 0.368070  [51200/60000]\n",
      "Test Error: \n",
      " Accuracy: 86.4%, Avg loss: 0.381504 \n",
      "\n",
      "Done!\n"
     ]
    }
   ],
   "source": [
    "#conduct the train and test\n",
    "loss_fn = nn.CrossEntropyLoss()\n",
    "optimizer = torch.optim.Adagrad(model.parameters(), lr=learning_rate)\n",
    "\n",
    "Acc_list_Adagrad = []\n",
    "Avg_list_Adagrad = []\n",
    "optimizer_name = 'Adagrad'\n",
    "\n",
    "start = timeit.default_timer()\n",
    "epochs = 10\n",
    "\n",
    "for t in range(epochs):\n",
    "    print(f\"Epoch {t+1}\\n-------------------------------\")\n",
    "    train_loop(train_dataloader, model, loss_fn, optimizer)\n",
    "    \n",
    "    Acc_test , Avg_loss = test_loop(test_dataloader, model, loss_fn)\n",
    "    Acc_list_Adagrad.append(Acc_test)\n",
    "    Avg_list_Adagrad.append(Avg_loss)\n",
    "    print(f\"Test Error: \\n Accuracy: {(Acc_test):>0.1f}%, Avg loss: { Avg_loss:>8f} \\n\")\n",
    "    result_list= store_result(result_list, optimizer_name, \n",
    "                               t, Acc_test,Avg_loss)\n",
    "\n",
    "stop = timeit.default_timer()\n",
    "run_time = stop - start  \n",
    "run_time_list = store_time(run_time_list,optimizer_name,run_time)\n",
    "print(\"Done!\")"
   ]
  },
  {
   "cell_type": "code",
   "execution_count": 850,
   "id": "ffb3b51b",
   "metadata": {},
   "outputs": [
    {
     "data": {
      "image/png": "[encoded data removed]",
      "text/plain": [
       "<Figure size 432x288 with 1 Axes>"
      ]
     },
     "metadata": {
      "needs_background": "light"
     },
     "output_type": "display_data"
    }
   ],
   "source": [
    "#plot accuracy in each epoch\n",
    "k_epoch = [0,1,2,3,4,5,6,7,8,9]\n",
    "plt.plot(k_epoch,Acc_list_Adagrad,label='Accuracy')\n",
    "\n",
    "plt.title('Accuracy with Adagrad optimizer')\n",
    "plt.xlabel('epoch')\n",
    "plt.ylabel('Accuracy')\n",
    "plt.legend()\n",
    "plt.show()"
   ]
  },
  {
   "cell_type": "code",
   "execution_count": 851,
   "id": "7f864992",
   "metadata": {},
   "outputs": [
    {
     "data": {
      "image/png": "[encoded data removed]",
      "text/plain": [
       "<Figure size 432x288 with 1 Axes>"
      ]
     },
     "metadata": {
      "needs_background": "light"
     },
     "output_type": "display_data"
    }
   ],
   "source": [
    "#plot Avg loss in each epoch\n",
    "k_epoch = [0,1,2,3,4,5,6,7,8,9]\n",
    "plt.plot(k_epoch,Avg_list_Adagrad,label='Avg loss')\n",
    "\n",
    "plt.title('Average loss with Adagrad optimizer')\n",
    "plt.xlabel('epoch')\n",
    "plt.ylabel('Avg loss')\n",
    "plt.legend()\n",
    "plt.show()"
   ]
  },
  {
   "cell_type": "markdown",
   "id": "6d06cd97",
   "metadata": {},
   "source": [
    "### Adam"
   ]
  },
  {
   "cell_type": "code",
   "execution_count": 852,
   "id": "86b9c7e4",
   "metadata": {},
   "outputs": [
    {
     "name": "stdout",
     "output_type": "stream",
     "text": [
      "Epoch 1\n",
      "-------------------------------\n",
      "loss: 0.202352  [    0/60000]\n",
      "loss: 0.331197  [12800/60000]\n",
      "loss: 0.363116  [25600/60000]\n",
      "loss: 0.378975  [38400/60000]\n",
      "loss: 0.398358  [51200/60000]\n",
      "Test Error: \n",
      " Accuracy: 84.8%, Avg loss: 0.410335 \n",
      "\n",
      "Epoch 2\n",
      "-------------------------------\n",
      "loss: 0.244929  [    0/60000]\n",
      "loss: 0.279142  [12800/60000]\n",
      "loss: 0.296167  [25600/60000]\n",
      "loss: 0.320018  [38400/60000]\n",
      "loss: 0.362416  [51200/60000]\n",
      "Test Error: \n",
      " Accuracy: 86.0%, Avg loss: 0.378056 \n",
      "\n",
      "Epoch 3\n",
      "-------------------------------\n",
      "loss: 0.222689  [    0/60000]\n",
      "loss: 0.241746  [12800/60000]\n",
      "loss: 0.301774  [25600/60000]\n",
      "loss: 0.267646  [38400/60000]\n",
      "loss: 0.309364  [51200/60000]\n",
      "Test Error: \n",
      " Accuracy: 86.8%, Avg loss: 0.361153 \n",
      "\n",
      "Epoch 4\n",
      "-------------------------------\n",
      "loss: 0.213496  [    0/60000]\n",
      "loss: 0.216219  [12800/60000]\n",
      "loss: 0.300099  [25600/60000]\n",
      "loss: 0.223492  [38400/60000]\n",
      "loss: 0.257111  [51200/60000]\n",
      "Test Error: \n",
      " Accuracy: 86.8%, Avg loss: 0.355994 \n",
      "\n",
      "Epoch 5\n",
      "-------------------------------\n",
      "loss: 0.197204  [    0/60000]\n",
      "loss: 0.201718  [12800/60000]\n",
      "loss: 0.277191  [25600/60000]\n",
      "loss: 0.213144  [38400/60000]\n",
      "loss: 0.224088  [51200/60000]\n",
      "Test Error: \n",
      " Accuracy: 87.0%, Avg loss: 0.356823 \n",
      "\n",
      "Epoch 6\n",
      "-------------------------------\n",
      "loss: 0.178656  [    0/60000]\n",
      "loss: 0.267087  [12800/60000]\n",
      "loss: 0.269985  [25600/60000]\n",
      "loss: 0.227318  [38400/60000]\n",
      "loss: 0.221767  [51200/60000]\n",
      "Test Error: \n",
      " Accuracy: 87.4%, Avg loss: 0.358129 \n",
      "\n",
      "Epoch 7\n",
      "-------------------------------\n",
      "loss: 0.178762  [    0/60000]\n",
      "loss: 0.194968  [12800/60000]\n",
      "loss: 0.236146  [25600/60000]\n",
      "loss: 0.198681  [38400/60000]\n",
      "loss: 0.202904  [51200/60000]\n",
      "Test Error: \n",
      " Accuracy: 87.9%, Avg loss: 0.349160 \n",
      "\n",
      "Epoch 8\n",
      "-------------------------------\n",
      "loss: 0.156694  [    0/60000]\n",
      "loss: 0.176966  [12800/60000]\n",
      "loss: 0.270941  [25600/60000]\n",
      "loss: 0.183450  [38400/60000]\n",
      "loss: 0.198255  [51200/60000]\n",
      "Test Error: \n",
      " Accuracy: 88.6%, Avg loss: 0.336043 \n",
      "\n",
      "Epoch 9\n",
      "-------------------------------\n",
      "loss: 0.158756  [    0/60000]\n",
      "loss: 0.170397  [12800/60000]\n",
      "loss: 0.244743  [25600/60000]\n",
      "loss: 0.175201  [38400/60000]\n",
      "loss: 0.193107  [51200/60000]\n",
      "Test Error: \n",
      " Accuracy: 88.1%, Avg loss: 0.341335 \n",
      "\n",
      "Epoch 10\n",
      "-------------------------------\n",
      "loss: 0.140787  [    0/60000]\n",
      "loss: 0.163304  [12800/60000]\n",
      "loss: 0.235536  [25600/60000]\n",
      "loss: 0.160842  [38400/60000]\n",
      "loss: 0.171029  [51200/60000]\n",
      "Test Error: \n",
      " Accuracy: 88.3%, Avg loss: 0.353058 \n",
      "\n",
      "Done!\n"
     ]
    }
   ],
   "source": [
    "#conduct the train and test\n",
    "loss_fn = nn.CrossEntropyLoss()\n",
    "optimizer = torch.optim.Adam(model.parameters(), lr=learning_rate)\n",
    "Acc_list_Adam = []\n",
    "Avg_list_Adam = []\n",
    "optimizer_name = 'Adam'\n",
    "start = timeit.default_timer()\n",
    "epochs = 10\n",
    "for t in range(epochs):\n",
    "    print(f\"Epoch {t+1}\\n-------------------------------\")\n",
    "    train_loop(train_dataloader, model, loss_fn, optimizer)\n",
    "    \n",
    "    Acc_test , Avg_loss = test_loop(test_dataloader, model, loss_fn)\n",
    "    Acc_list_Adam.append(Acc_test)\n",
    "    Avg_list_Adam.append(Avg_loss)\n",
    "    print(f\"Test Error: \\n Accuracy: {(Acc_test):>0.1f}%, Avg loss: { Avg_loss:>8f} \\n\")\n",
    "    result_list= store_result(result_list, optimizer_name, \n",
    "                               t, Acc_test,Avg_loss)\n",
    "\n",
    "stop = timeit.default_timer()\n",
    "run_time = stop - start  \n",
    "run_time_list = store_time(run_time_list,optimizer_name,run_time)\n",
    "print(\"Done!\")"
   ]
  },
  {
   "cell_type": "code",
   "execution_count": 853,
   "id": "c1e357fc",
   "metadata": {},
   "outputs": [
    {
     "data": {
      "image/png": "[encoded data removed]",
      "text/plain": [
       "<Figure size 432x288 with 1 Axes>"
      ]
     },
     "metadata": {
      "needs_background": "light"
     },
     "output_type": "display_data"
    }
   ],
   "source": [
    "#plot accuracy in each epoch\n",
    "k_epoch = [0,1,2,3,4,5,6,7,8,9]\n",
    "plt.plot(k_epoch,Acc_list_Adam,label='Accuracy')\n",
    "\n",
    "plt.title('Accuracy with Adam optimizer')\n",
    "plt.xlabel('epoch')\n",
    "plt.ylabel('Accuracy')\n",
    "plt.legend()\n",
    "plt.show()"
   ]
  },
  {
   "cell_type": "code",
   "execution_count": 854,
   "id": "af432218",
   "metadata": {},
   "outputs": [
    {
     "data": {
      "image/png": "[encoded data removed]",
      "text/plain": [
       "<Figure size 432x288 with 1 Axes>"
      ]
     },
     "metadata": {
      "needs_background": "light"
     },
     "output_type": "display_data"
    }
   ],
   "source": [
    "#plot Avg loss in each epoch\n",
    "k_epoch = [0,1,2,3,4,5,6,7,8,9]\n",
    "plt.plot(k_epoch,Avg_list_Adam,label='Avg loss')\n",
    "\n",
    "plt.title('Average loss with Adam optimizer')\n",
    "plt.xlabel('epoch')\n",
    "plt.ylabel('Avg loss')\n",
    "plt.legend()\n",
    "plt.show()"
   ]
  },
  {
   "cell_type": "markdown",
   "id": "3b7303cc",
   "metadata": {},
   "source": [
    "### NAdam"
   ]
  },
  {
   "cell_type": "code",
   "execution_count": 855,
   "id": "07ebf402",
   "metadata": {},
   "outputs": [
    {
     "name": "stdout",
     "output_type": "stream",
     "text": [
      "Epoch 1\n",
      "-------------------------------\n",
      "loss: 0.143319  [    0/60000]\n",
      "loss: 0.165456  [12800/60000]\n",
      "loss: 0.183030  [25600/60000]\n",
      "loss: 0.180064  [38400/60000]\n",
      "loss: 0.172328  [51200/60000]\n",
      "Test Error: \n",
      " Accuracy: 89.0%, Avg loss: 0.334251 \n",
      "\n",
      "Epoch 2\n",
      "-------------------------------\n",
      "loss: 0.122794  [    0/60000]\n",
      "loss: 0.137027  [12800/60000]\n",
      "loss: 0.202586  [25600/60000]\n",
      "loss: 0.117368  [38400/60000]\n",
      "loss: 0.147754  [51200/60000]\n",
      "Test Error: \n",
      " Accuracy: 88.9%, Avg loss: 0.355570 \n",
      "\n",
      "Epoch 3\n",
      "-------------------------------\n",
      "loss: 0.118385  [    0/60000]\n",
      "loss: 0.129049  [12800/60000]\n",
      "loss: 0.163622  [25600/60000]\n",
      "loss: 0.106534  [38400/60000]\n",
      "loss: 0.131825  [51200/60000]\n",
      "Test Error: \n",
      " Accuracy: 89.2%, Avg loss: 0.354707 \n",
      "\n",
      "Epoch 4\n",
      "-------------------------------\n",
      "loss: 0.121603  [    0/60000]\n",
      "loss: 0.118636  [12800/60000]\n",
      "loss: 0.169388  [25600/60000]\n",
      "loss: 0.107648  [38400/60000]\n",
      "loss: 0.164209  [51200/60000]\n",
      "Test Error: \n",
      " Accuracy: 89.1%, Avg loss: 0.366781 \n",
      "\n",
      "Epoch 5\n",
      "-------------------------------\n",
      "loss: 0.090413  [    0/60000]\n",
      "loss: 0.105737  [12800/60000]\n",
      "loss: 0.157801  [25600/60000]\n",
      "loss: 0.112133  [38400/60000]\n",
      "loss: 0.097824  [51200/60000]\n",
      "Test Error: \n",
      " Accuracy: 88.9%, Avg loss: 0.383744 \n",
      "\n",
      "Epoch 6\n",
      "-------------------------------\n",
      "loss: 0.111425  [    0/60000]\n",
      "loss: 0.107564  [12800/60000]\n",
      "loss: 0.133824  [25600/60000]\n",
      "loss: 0.107572  [38400/60000]\n",
      "loss: 0.133721  [51200/60000]\n",
      "Test Error: \n",
      " Accuracy: 89.0%, Avg loss: 0.397708 \n",
      "\n",
      "Epoch 7\n",
      "-------------------------------\n",
      "loss: 0.074532  [    0/60000]\n",
      "loss: 0.112515  [12800/60000]\n",
      "loss: 0.138759  [25600/60000]\n",
      "loss: 0.165841  [38400/60000]\n",
      "loss: 0.094039  [51200/60000]\n",
      "Test Error: \n",
      " Accuracy: 88.9%, Avg loss: 0.412720 \n",
      "\n",
      "Epoch 8\n",
      "-------------------------------\n",
      "loss: 0.090322  [    0/60000]\n",
      "loss: 0.103708  [12800/60000]\n",
      "loss: 0.144832  [25600/60000]\n",
      "loss: 0.103064  [38400/60000]\n",
      "loss: 0.073767  [51200/60000]\n",
      "Test Error: \n",
      " Accuracy: 89.2%, Avg loss: 0.410486 \n",
      "\n",
      "Epoch 9\n",
      "-------------------------------\n",
      "loss: 0.076174  [    0/60000]\n",
      "loss: 0.077442  [12800/60000]\n",
      "loss: 0.122741  [25600/60000]\n",
      "loss: 0.078552  [38400/60000]\n",
      "loss: 0.060664  [51200/60000]\n",
      "Test Error: \n",
      " Accuracy: 89.0%, Avg loss: 0.442933 \n",
      "\n",
      "Epoch 10\n",
      "-------------------------------\n",
      "loss: 0.078231  [    0/60000]\n",
      "loss: 0.108423  [12800/60000]\n",
      "loss: 0.122208  [25600/60000]\n",
      "loss: 0.088842  [38400/60000]\n",
      "loss: 0.066916  [51200/60000]\n",
      "Test Error: \n",
      " Accuracy: 88.8%, Avg loss: 0.443788 \n",
      "\n",
      "Done!\n"
     ]
    }
   ],
   "source": [
    "#conduct the train and test\n",
    "loss_fn = nn.CrossEntropyLoss()\n",
    "optimizer = torch.optim.NAdam(model.parameters(), lr=learning_rate)\n",
    "Acc_list_NAdam = []\n",
    "Avg_list_NAdam = []\n",
    "optimizer_name = 'NAdam'\n",
    "start = timeit.default_timer()\n",
    "epochs = 10\n",
    "for t in range(epochs):\n",
    "    print(f\"Epoch {t+1}\\n-------------------------------\")\n",
    "    train_loop(train_dataloader, model, loss_fn, optimizer)\n",
    "    \n",
    "    Acc_test , Avg_loss = test_loop(test_dataloader, model, loss_fn)\n",
    "    Acc_list_NAdam.append(Acc_test)\n",
    "    Avg_list_NAdam.append(Avg_loss)\n",
    "    print(f\"Test Error: \\n Accuracy: {(Acc_test):>0.1f}%, Avg loss: { Avg_loss:>8f} \\n\")\n",
    "    result_list= store_result(result_list, optimizer_name, \n",
    "                               t, Acc_test,Avg_loss)\n",
    "\n",
    "stop = timeit.default_timer()\n",
    "run_time = stop - start  \n",
    "run_time_list = store_time(run_time_list,optimizer_name,run_time)\n",
    "print(\"Done!\")"
   ]
  },
  {
   "cell_type": "code",
   "execution_count": 856,
   "id": "5a5fb13a",
   "metadata": {},
   "outputs": [
    {
     "data": {
      "image/png": "[encoded data removed]",
      "text/plain": [
       "<Figure size 432x288 with 1 Axes>"
      ]
     },
     "metadata": {
      "needs_background": "light"
     },
     "output_type": "display_data"
    }
   ],
   "source": [
    "#plot accuracy in each epoch\n",
    "k_epoch = [0,1,2,3,4,5,6,7,8,9]\n",
    "plt.plot(k_epoch,Acc_list_NAdam,label='Accuracy')\n",
    "\n",
    "plt.title('Accuracy with NAdam optimizer')\n",
    "plt.xlabel('epoch')\n",
    "plt.ylabel('Accuracy')\n",
    "plt.legend()\n",
    "plt.show()"
   ]
  },
  {
   "cell_type": "code",
   "execution_count": 857,
   "id": "a8051403",
   "metadata": {},
   "outputs": [
    {
     "data": {
      "image/png": "[encoded data removed]",
      "text/plain": [
       "<Figure size 432x288 with 1 Axes>"
      ]
     },
     "metadata": {
      "needs_background": "light"
     },
     "output_type": "display_data"
    }
   ],
   "source": [
    "#plot Avg loss in each epoch\n",
    "k_epoch = [0,1,2,3,4,5,6,7,8,9]\n",
    "plt.plot(k_epoch,Avg_list_NAdam,label='Avg loss')\n",
    "\n",
    "plt.title('Average loss with NAdam optimizer')\n",
    "plt.xlabel('epoch')\n",
    "plt.ylabel('Avg loss')\n",
    "plt.legend()\n",
    "plt.show()"
   ]
  },
  {
   "cell_type": "markdown",
   "id": "2ca15798",
   "metadata": {},
   "source": [
    "### RMSprop"
   ]
  },
  {
   "cell_type": "code",
   "execution_count": 858,
   "id": "dd0f8e8b",
   "metadata": {},
   "outputs": [
    {
     "name": "stdout",
     "output_type": "stream",
     "text": [
      "Epoch 1\n",
      "-------------------------------\n",
      "loss: 0.064095  [    0/60000]\n",
      "loss: 0.172979  [12800/60000]\n",
      "loss: 0.179205  [25600/60000]\n",
      "loss: 0.125778  [38400/60000]\n",
      "loss: 0.114099  [51200/60000]\n",
      "Test Error: \n",
      " Accuracy: 88.4%, Avg loss: 0.463059 \n",
      "\n",
      "Epoch 2\n",
      "-------------------------------\n",
      "loss: 0.044137  [    0/60000]\n",
      "loss: 0.122389  [12800/60000]\n",
      "loss: 0.124243  [25600/60000]\n",
      "loss: 0.095530  [38400/60000]\n",
      "loss: 0.160076  [51200/60000]\n",
      "Test Error: \n",
      " Accuracy: 89.0%, Avg loss: 0.473297 \n",
      "\n",
      "Epoch 3\n",
      "-------------------------------\n",
      "loss: 0.077607  [    0/60000]\n",
      "loss: 0.114093  [12800/60000]\n",
      "loss: 0.121211  [25600/60000]\n",
      "loss: 0.057697  [38400/60000]\n",
      "loss: 0.075921  [51200/60000]\n",
      "Test Error: \n",
      " Accuracy: 88.3%, Avg loss: 0.461653 \n",
      "\n",
      "Epoch 4\n",
      "-------------------------------\n",
      "loss: 0.070745  [    0/60000]\n",
      "loss: 0.136127  [12800/60000]\n",
      "loss: 0.119876  [25600/60000]\n",
      "loss: 0.067221  [38400/60000]\n",
      "loss: 0.072306  [51200/60000]\n",
      "Test Error: \n",
      " Accuracy: 88.8%, Avg loss: 0.458889 \n",
      "\n",
      "Epoch 5\n",
      "-------------------------------\n",
      "loss: 0.049008  [    0/60000]\n",
      "loss: 0.071995  [12800/60000]\n",
      "loss: 0.128199  [25600/60000]\n",
      "loss: 0.080838  [38400/60000]\n",
      "loss: 0.063707  [51200/60000]\n",
      "Test Error: \n",
      " Accuracy: 88.8%, Avg loss: 0.520689 \n",
      "\n",
      "Epoch 6\n",
      "-------------------------------\n",
      "loss: 0.040832  [    0/60000]\n",
      "loss: 0.128469  [12800/60000]\n",
      "loss: 0.097047  [25600/60000]\n",
      "loss: 0.101802  [38400/60000]\n",
      "loss: 0.110212  [51200/60000]\n",
      "Test Error: \n",
      " Accuracy: 88.6%, Avg loss: 0.516386 \n",
      "\n",
      "Epoch 7\n",
      "-------------------------------\n",
      "loss: 0.060040  [    0/60000]\n",
      "loss: 0.100283  [12800/60000]\n",
      "loss: 0.115780  [25600/60000]\n",
      "loss: 0.043245  [38400/60000]\n",
      "loss: 0.062977  [51200/60000]\n",
      "Test Error: \n",
      " Accuracy: 88.6%, Avg loss: 0.510911 \n",
      "\n",
      "Epoch 8\n",
      "-------------------------------\n",
      "loss: 0.043084  [    0/60000]\n",
      "loss: 0.134221  [12800/60000]\n",
      "loss: 0.106436  [25600/60000]\n",
      "loss: 0.056536  [38400/60000]\n",
      "loss: 0.060423  [51200/60000]\n",
      "Test Error: \n",
      " Accuracy: 89.0%, Avg loss: 0.537668 \n",
      "\n",
      "Epoch 9\n",
      "-------------------------------\n",
      "loss: 0.052092  [    0/60000]\n",
      "loss: 0.071173  [12800/60000]\n",
      "loss: 0.072228  [25600/60000]\n",
      "loss: 0.071767  [38400/60000]\n",
      "loss: 0.056490  [51200/60000]\n",
      "Test Error: \n",
      " Accuracy: 89.1%, Avg loss: 0.600100 \n",
      "\n",
      "Epoch 10\n",
      "-------------------------------\n",
      "loss: 0.042583  [    0/60000]\n",
      "loss: 0.096762  [12800/60000]\n",
      "loss: 0.072068  [25600/60000]\n",
      "loss: 0.044964  [38400/60000]\n",
      "loss: 0.063760  [51200/60000]\n",
      "Test Error: \n",
      " Accuracy: 88.6%, Avg loss: 0.591589 \n",
      "\n",
      "Done!\n"
     ]
    }
   ],
   "source": [
    "#conduct the train and test\n",
    "loss_fn = nn.CrossEntropyLoss()\n",
    "optimizer = torch.optim.RMSprop(model.parameters(), lr=learning_rate)\n",
    "Acc_list_RMSprop = []\n",
    "Avg_list_RMSprop = []\n",
    "optimizer_name = 'RMSprop'\n",
    "start = timeit.default_timer()\n",
    "epochs = 10\n",
    "for t in range(epochs):\n",
    "    print(f\"Epoch {t+1}\\n-------------------------------\")\n",
    "    train_loop(train_dataloader, model, loss_fn, optimizer)\n",
    "    \n",
    "    Acc_test , Avg_loss = test_loop(test_dataloader, model, loss_fn)\n",
    "    Acc_list_RMSprop.append(Acc_test)\n",
    "    Avg_list_RMSprop.append(Avg_loss)\n",
    "    print(f\"Test Error: \\n Accuracy: {(Acc_test):>0.1f}%, Avg loss: { Avg_loss:>8f} \\n\")\n",
    "    result_list= store_result(result_list, optimizer_name, \n",
    "                               t, Acc_test,Avg_loss)\n",
    "\n",
    "stop = timeit.default_timer()\n",
    "run_time = stop - start  \n",
    "run_time_list = store_time(run_time_list,optimizer_name,run_time)\n",
    "print(\"Done!\")"
   ]
  },
  {
   "cell_type": "code",
   "execution_count": 859,
   "id": "1c3cdaf0",
   "metadata": {},
   "outputs": [
    {
     "data": {
      "image/png": "[encoded data removed]",
      "text/plain": [
       "<Figure size 432x288 with 1 Axes>"
      ]
     },
     "metadata": {
      "needs_background": "light"
     },
     "output_type": "display_data"
    }
   ],
   "source": [
    "#plot accuracy in each epoch\n",
    "k_epoch = [0,1,2,3,4,5,6,7,8,9]\n",
    "plt.plot(k_epoch,Acc_list_RMSprop,label='Accuracy')\n",
    "\n",
    "plt.title('Accuracy with RMSprop optimizer')\n",
    "plt.xlabel('epoch')\n",
    "plt.ylabel('Accuracy')\n",
    "plt.legend()\n",
    "plt.show()"
   ]
  },
  {
   "cell_type": "code",
   "execution_count": 860,
   "id": "21b71dce",
   "metadata": {},
   "outputs": [
    {
     "data": {
      "image/png": "[encoded data removed]",
      "text/plain": [
       "<Figure size 432x288 with 1 Axes>"
      ]
     },
     "metadata": {
      "needs_background": "light"
     },
     "output_type": "display_data"
    }
   ],
   "source": [
    "#plot Avg loss in each epoch\n",
    "k_epoch = [0,1,2,3,4,5,6,7,8,9]\n",
    "plt.plot(k_epoch,Avg_list_RMSprop,label='Avg loss')\n",
    "\n",
    "plt.title('Average loss with RMSprop optimizer')\n",
    "plt.xlabel('epoch')\n",
    "plt.ylabel('Avg loss')\n",
    "plt.legend()\n",
    "plt.show()"
   ]
  },
  {
   "cell_type": "code",
   "execution_count": 861,
   "id": "75164650",
   "metadata": {},
   "outputs": [
    {
     "data": {
      "text/html": [
       "<div>\n",
       "<style scoped>\n",
       "    .dataframe tbody tr th:only-of-type {\n",
       "        vertical-align: middle;\n",
       "    }\n",
       "\n",
       "    .dataframe tbody tr th {\n",
       "        vertical-align: top;\n",
       "    }\n",
       "\n",
       "    .dataframe thead th {\n",
       "        text-align: right;\n",
       "    }\n",
       "</style>\n",
       "<table border=\"1\" class=\"dataframe\">\n",
       "  <thead>\n",
       "    <tr style=\"text-align: right;\">\n",
       "      <th></th>\n",
       "      <th>Optimizer</th>\n",
       "      <th>epoch</th>\n",
       "      <th>Accuracy</th>\n",
       "      <th>Avg loss</th>\n",
       "    </tr>\n",
       "  </thead>\n",
       "  <tbody>\n",
       "    <tr>\n",
       "      <th>0</th>\n",
       "      <td>SGD</td>\n",
       "      <td>0</td>\n",
       "      <td>34.68</td>\n",
       "      <td>2.218270</td>\n",
       "    </tr>\n",
       "    <tr>\n",
       "      <th>1</th>\n",
       "      <td>SGD</td>\n",
       "      <td>1</td>\n",
       "      <td>40.46</td>\n",
       "      <td>2.123207</td>\n",
       "    </tr>\n",
       "    <tr>\n",
       "      <th>2</th>\n",
       "      <td>SGD</td>\n",
       "      <td>2</td>\n",
       "      <td>46.81</td>\n",
       "      <td>1.989730</td>\n",
       "    </tr>\n",
       "    <tr>\n",
       "      <th>3</th>\n",
       "      <td>SGD</td>\n",
       "      <td>3</td>\n",
       "      <td>50.10</td>\n",
       "      <td>1.813331</td>\n",
       "    </tr>\n",
       "    <tr>\n",
       "      <th>4</th>\n",
       "      <td>SGD</td>\n",
       "      <td>4</td>\n",
       "      <td>55.25</td>\n",
       "      <td>1.625240</td>\n",
       "    </tr>\n",
       "    <tr>\n",
       "      <th>5</th>\n",
       "      <td>SGD</td>\n",
       "      <td>5</td>\n",
       "      <td>60.15</td>\n",
       "      <td>1.461076</td>\n",
       "    </tr>\n",
       "    <tr>\n",
       "      <th>6</th>\n",
       "      <td>SGD</td>\n",
       "      <td>6</td>\n",
       "      <td>61.80</td>\n",
       "      <td>1.329755</td>\n",
       "    </tr>\n",
       "    <tr>\n",
       "      <th>7</th>\n",
       "      <td>SGD</td>\n",
       "      <td>7</td>\n",
       "      <td>63.03</td>\n",
       "      <td>1.226067</td>\n",
       "    </tr>\n",
       "    <tr>\n",
       "      <th>8</th>\n",
       "      <td>SGD</td>\n",
       "      <td>8</td>\n",
       "      <td>63.89</td>\n",
       "      <td>1.142864</td>\n",
       "    </tr>\n",
       "    <tr>\n",
       "      <th>9</th>\n",
       "      <td>SGD</td>\n",
       "      <td>9</td>\n",
       "      <td>64.71</td>\n",
       "      <td>1.075089</td>\n",
       "    </tr>\n",
       "    <tr>\n",
       "      <th>10</th>\n",
       "      <td>Momentum</td>\n",
       "      <td>0</td>\n",
       "      <td>70.98</td>\n",
       "      <td>0.785112</td>\n",
       "    </tr>\n",
       "    <tr>\n",
       "      <th>11</th>\n",
       "      <td>Momentum</td>\n",
       "      <td>1</td>\n",
       "      <td>75.74</td>\n",
       "      <td>0.682730</td>\n",
       "    </tr>\n",
       "    <tr>\n",
       "      <th>12</th>\n",
       "      <td>Momentum</td>\n",
       "      <td>2</td>\n",
       "      <td>78.61</td>\n",
       "      <td>0.618642</td>\n",
       "    </tr>\n",
       "    <tr>\n",
       "      <th>13</th>\n",
       "      <td>Momentum</td>\n",
       "      <td>3</td>\n",
       "      <td>79.91</td>\n",
       "      <td>0.575929</td>\n",
       "    </tr>\n",
       "    <tr>\n",
       "      <th>14</th>\n",
       "      <td>Momentum</td>\n",
       "      <td>4</td>\n",
       "      <td>81.02</td>\n",
       "      <td>0.546755</td>\n",
       "    </tr>\n",
       "    <tr>\n",
       "      <th>15</th>\n",
       "      <td>Momentum</td>\n",
       "      <td>5</td>\n",
       "      <td>81.63</td>\n",
       "      <td>0.526277</td>\n",
       "    </tr>\n",
       "    <tr>\n",
       "      <th>16</th>\n",
       "      <td>Momentum</td>\n",
       "      <td>6</td>\n",
       "      <td>82.00</td>\n",
       "      <td>0.511290</td>\n",
       "    </tr>\n",
       "    <tr>\n",
       "      <th>17</th>\n",
       "      <td>Momentum</td>\n",
       "      <td>7</td>\n",
       "      <td>82.31</td>\n",
       "      <td>0.499790</td>\n",
       "    </tr>\n",
       "    <tr>\n",
       "      <th>18</th>\n",
       "      <td>Momentum</td>\n",
       "      <td>8</td>\n",
       "      <td>82.58</td>\n",
       "      <td>0.490450</td>\n",
       "    </tr>\n",
       "    <tr>\n",
       "      <th>19</th>\n",
       "      <td>Momentum</td>\n",
       "      <td>9</td>\n",
       "      <td>82.89</td>\n",
       "      <td>0.482588</td>\n",
       "    </tr>\n",
       "    <tr>\n",
       "      <th>20</th>\n",
       "      <td>Adagrad</td>\n",
       "      <td>0</td>\n",
       "      <td>84.05</td>\n",
       "      <td>0.447883</td>\n",
       "    </tr>\n",
       "    <tr>\n",
       "      <th>21</th>\n",
       "      <td>Adagrad</td>\n",
       "      <td>1</td>\n",
       "      <td>84.65</td>\n",
       "      <td>0.430962</td>\n",
       "    </tr>\n",
       "    <tr>\n",
       "      <th>22</th>\n",
       "      <td>Adagrad</td>\n",
       "      <td>2</td>\n",
       "      <td>85.07</td>\n",
       "      <td>0.419413</td>\n",
       "    </tr>\n",
       "    <tr>\n",
       "      <th>23</th>\n",
       "      <td>Adagrad</td>\n",
       "      <td>3</td>\n",
       "      <td>85.35</td>\n",
       "      <td>0.410792</td>\n",
       "    </tr>\n",
       "    <tr>\n",
       "      <th>24</th>\n",
       "      <td>Adagrad</td>\n",
       "      <td>4</td>\n",
       "      <td>85.59</td>\n",
       "      <td>0.403839</td>\n",
       "    </tr>\n",
       "    <tr>\n",
       "      <th>25</th>\n",
       "      <td>Adagrad</td>\n",
       "      <td>5</td>\n",
       "      <td>85.76</td>\n",
       "      <td>0.397983</td>\n",
       "    </tr>\n",
       "    <tr>\n",
       "      <th>26</th>\n",
       "      <td>Adagrad</td>\n",
       "      <td>6</td>\n",
       "      <td>85.94</td>\n",
       "      <td>0.393030</td>\n",
       "    </tr>\n",
       "    <tr>\n",
       "      <th>27</th>\n",
       "      <td>Adagrad</td>\n",
       "      <td>7</td>\n",
       "      <td>86.12</td>\n",
       "      <td>0.388738</td>\n",
       "    </tr>\n",
       "    <tr>\n",
       "      <th>28</th>\n",
       "      <td>Adagrad</td>\n",
       "      <td>8</td>\n",
       "      <td>86.25</td>\n",
       "      <td>0.384907</td>\n",
       "    </tr>\n",
       "    <tr>\n",
       "      <th>29</th>\n",
       "      <td>Adagrad</td>\n",
       "      <td>9</td>\n",
       "      <td>86.41</td>\n",
       "      <td>0.381504</td>\n",
       "    </tr>\n",
       "    <tr>\n",
       "      <th>30</th>\n",
       "      <td>Adam</td>\n",
       "      <td>0</td>\n",
       "      <td>84.76</td>\n",
       "      <td>0.410335</td>\n",
       "    </tr>\n",
       "    <tr>\n",
       "      <th>31</th>\n",
       "      <td>Adam</td>\n",
       "      <td>1</td>\n",
       "      <td>86.02</td>\n",
       "      <td>0.378056</td>\n",
       "    </tr>\n",
       "    <tr>\n",
       "      <th>32</th>\n",
       "      <td>Adam</td>\n",
       "      <td>2</td>\n",
       "      <td>86.77</td>\n",
       "      <td>0.361153</td>\n",
       "    </tr>\n",
       "    <tr>\n",
       "      <th>33</th>\n",
       "      <td>Adam</td>\n",
       "      <td>3</td>\n",
       "      <td>86.84</td>\n",
       "      <td>0.355994</td>\n",
       "    </tr>\n",
       "    <tr>\n",
       "      <th>34</th>\n",
       "      <td>Adam</td>\n",
       "      <td>4</td>\n",
       "      <td>87.00</td>\n",
       "      <td>0.356823</td>\n",
       "    </tr>\n",
       "    <tr>\n",
       "      <th>35</th>\n",
       "      <td>Adam</td>\n",
       "      <td>5</td>\n",
       "      <td>87.38</td>\n",
       "      <td>0.358129</td>\n",
       "    </tr>\n",
       "    <tr>\n",
       "      <th>36</th>\n",
       "      <td>Adam</td>\n",
       "      <td>6</td>\n",
       "      <td>87.90</td>\n",
       "      <td>0.349160</td>\n",
       "    </tr>\n",
       "    <tr>\n",
       "      <th>37</th>\n",
       "      <td>Adam</td>\n",
       "      <td>7</td>\n",
       "      <td>88.56</td>\n",
       "      <td>0.336043</td>\n",
       "    </tr>\n",
       "    <tr>\n",
       "      <th>38</th>\n",
       "      <td>Adam</td>\n",
       "      <td>8</td>\n",
       "      <td>88.11</td>\n",
       "      <td>0.341335</td>\n",
       "    </tr>\n",
       "    <tr>\n",
       "      <th>39</th>\n",
       "      <td>Adam</td>\n",
       "      <td>9</td>\n",
       "      <td>88.29</td>\n",
       "      <td>0.353058</td>\n",
       "    </tr>\n",
       "    <tr>\n",
       "      <th>40</th>\n",
       "      <td>NAdam</td>\n",
       "      <td>0</td>\n",
       "      <td>89.01</td>\n",
       "      <td>0.334251</td>\n",
       "    </tr>\n",
       "    <tr>\n",
       "      <th>41</th>\n",
       "      <td>NAdam</td>\n",
       "      <td>1</td>\n",
       "      <td>88.94</td>\n",
       "      <td>0.355570</td>\n",
       "    </tr>\n",
       "    <tr>\n",
       "      <th>42</th>\n",
       "      <td>NAdam</td>\n",
       "      <td>2</td>\n",
       "      <td>89.20</td>\n",
       "      <td>0.354707</td>\n",
       "    </tr>\n",
       "    <tr>\n",
       "      <th>43</th>\n",
       "      <td>NAdam</td>\n",
       "      <td>3</td>\n",
       "      <td>89.07</td>\n",
       "      <td>0.366781</td>\n",
       "    </tr>\n",
       "    <tr>\n",
       "      <th>44</th>\n",
       "      <td>NAdam</td>\n",
       "      <td>4</td>\n",
       "      <td>88.93</td>\n",
       "      <td>0.383744</td>\n",
       "    </tr>\n",
       "    <tr>\n",
       "      <th>45</th>\n",
       "      <td>NAdam</td>\n",
       "      <td>5</td>\n",
       "      <td>89.02</td>\n",
       "      <td>0.397708</td>\n",
       "    </tr>\n",
       "    <tr>\n",
       "      <th>46</th>\n",
       "      <td>NAdam</td>\n",
       "      <td>6</td>\n",
       "      <td>88.87</td>\n",
       "      <td>0.412720</td>\n",
       "    </tr>\n",
       "    <tr>\n",
       "      <th>47</th>\n",
       "      <td>NAdam</td>\n",
       "      <td>7</td>\n",
       "      <td>89.21</td>\n",
       "      <td>0.410486</td>\n",
       "    </tr>\n",
       "    <tr>\n",
       "      <th>48</th>\n",
       "      <td>NAdam</td>\n",
       "      <td>8</td>\n",
       "      <td>89.03</td>\n",
       "      <td>0.442933</td>\n",
       "    </tr>\n",
       "    <tr>\n",
       "      <th>49</th>\n",
       "      <td>NAdam</td>\n",
       "      <td>9</td>\n",
       "      <td>88.84</td>\n",
       "      <td>0.443788</td>\n",
       "    </tr>\n",
       "    <tr>\n",
       "      <th>50</th>\n",
       "      <td>RMSprop</td>\n",
       "      <td>0</td>\n",
       "      <td>88.41</td>\n",
       "      <td>0.463059</td>\n",
       "    </tr>\n",
       "    <tr>\n",
       "      <th>51</th>\n",
       "      <td>RMSprop</td>\n",
       "      <td>1</td>\n",
       "      <td>88.97</td>\n",
       "      <td>0.473297</td>\n",
       "    </tr>\n",
       "    <tr>\n",
       "      <th>52</th>\n",
       "      <td>RMSprop</td>\n",
       "      <td>2</td>\n",
       "      <td>88.34</td>\n",
       "      <td>0.461653</td>\n",
       "    </tr>\n",
       "    <tr>\n",
       "      <th>53</th>\n",
       "      <td>RMSprop</td>\n",
       "      <td>3</td>\n",
       "      <td>88.75</td>\n",
       "      <td>0.458889</td>\n",
       "    </tr>\n",
       "    <tr>\n",
       "      <th>54</th>\n",
       "      <td>RMSprop</td>\n",
       "      <td>4</td>\n",
       "      <td>88.80</td>\n",
       "      <td>0.520689</td>\n",
       "    </tr>\n",
       "    <tr>\n",
       "      <th>55</th>\n",
       "      <td>RMSprop</td>\n",
       "      <td>5</td>\n",
       "      <td>88.63</td>\n",
       "      <td>0.516386</td>\n",
       "    </tr>\n",
       "    <tr>\n",
       "      <th>56</th>\n",
       "      <td>RMSprop</td>\n",
       "      <td>6</td>\n",
       "      <td>88.63</td>\n",
       "      <td>0.510911</td>\n",
       "    </tr>\n",
       "    <tr>\n",
       "      <th>57</th>\n",
       "      <td>RMSprop</td>\n",
       "      <td>7</td>\n",
       "      <td>89.00</td>\n",
       "      <td>0.537668</td>\n",
       "    </tr>\n",
       "    <tr>\n",
       "      <th>58</th>\n",
       "      <td>RMSprop</td>\n",
       "      <td>8</td>\n",
       "      <td>89.14</td>\n",
       "      <td>0.600100</td>\n",
       "    </tr>\n",
       "    <tr>\n",
       "      <th>59</th>\n",
       "      <td>RMSprop</td>\n",
       "      <td>9</td>\n",
       "      <td>88.65</td>\n",
       "      <td>0.591589</td>\n",
       "    </tr>\n",
       "  </tbody>\n",
       "</table>\n",
       "</div>"
      ],
      "text/plain": [
       "   Optimizer  epoch  Accuracy  Avg loss\n",
       "0        SGD      0     34.68  2.218270\n",
       "1        SGD      1     40.46  2.123207\n",
       "2        SGD      2     46.81  1.989730\n",
       "3        SGD      3     50.10  1.813331\n",
       "4        SGD      4     55.25  1.625240\n",
       "5        SGD      5     60.15  1.461076\n",
       "6        SGD      6     61.80  1.329755\n",
       "7        SGD      7     63.03  1.226067\n",
       "8        SGD      8     63.89  1.142864\n",
       "9        SGD      9     64.71  1.075089\n",
       "10  Momentum      0     70.98  0.785112\n",
       "11  Momentum      1     75.74  0.682730\n",
       "12  Momentum      2     78.61  0.618642\n",
       "13  Momentum      3     79.91  0.575929\n",
       "14  Momentum      4     81.02  0.546755\n",
       "15  Momentum      5     81.63  0.526277\n",
       "16  Momentum      6     82.00  0.511290\n",
       "17  Momentum      7     82.31  0.499790\n",
       "18  Momentum      8     82.58  0.490450\n",
       "19  Momentum      9     82.89  0.482588\n",
       "20   Adagrad      0     84.05  0.447883\n",
       "21   Adagrad      1     84.65  0.430962\n",
       "22   Adagrad      2     85.07  0.419413\n",
       "23   Adagrad      3     85.35  0.410792\n",
       "24   Adagrad      4     85.59  0.403839\n",
       "25   Adagrad      5     85.76  0.397983\n",
       "26   Adagrad      6     85.94  0.393030\n",
       "27   Adagrad      7     86.12  0.388738\n",
       "28   Adagrad      8     86.25  0.384907\n",
       "29   Adagrad      9     86.41  0.381504\n",
       "30      Adam      0     84.76  0.410335\n",
       "31      Adam      1     86.02  0.378056\n",
       "32      Adam      2     86.77  0.361153\n",
       "33      Adam      3     86.84  0.355994\n",
       "34      Adam      4     87.00  0.356823\n",
       "35      Adam      5     87.38  0.358129\n",
       "36      Adam      6     87.90  0.349160\n",
       "37      Adam      7     88.56  0.336043\n",
       "38      Adam      8     88.11  0.341335\n",
       "39      Adam      9     88.29  0.353058\n",
       "40     NAdam      0     89.01  0.334251\n",
       "41     NAdam      1     88.94  0.355570\n",
       "42     NAdam      2     89.20  0.354707\n",
       "43     NAdam      3     89.07  0.366781\n",
       "44     NAdam      4     88.93  0.383744\n",
       "45     NAdam      5     89.02  0.397708\n",
       "46     NAdam      6     88.87  0.412720\n",
       "47     NAdam      7     89.21  0.410486\n",
       "48     NAdam      8     89.03  0.442933\n",
       "49     NAdam      9     88.84  0.443788\n",
       "50   RMSprop      0     88.41  0.463059\n",
       "51   RMSprop      1     88.97  0.473297\n",
       "52   RMSprop      2     88.34  0.461653\n",
       "53   RMSprop      3     88.75  0.458889\n",
       "54   RMSprop      4     88.80  0.520689\n",
       "55   RMSprop      5     88.63  0.516386\n",
       "56   RMSprop      6     88.63  0.510911\n",
       "57   RMSprop      7     89.00  0.537668\n",
       "58   RMSprop      8     89.14  0.600100\n",
       "59   RMSprop      9     88.65  0.591589"
      ]
     },
     "execution_count": 861,
     "metadata": {},
     "output_type": "execute_result"
    }
   ],
   "source": [
    "result_df = pd.DataFrame.from_dict(result_list)\n",
    "result_df"
   ]
  },
  {
   "cell_type": "code",
   "execution_count": 862,
   "id": "fbd86667",
   "metadata": {},
   "outputs": [
    {
     "data": {
      "text/html": [
       "<div>\n",
       "<style scoped>\n",
       "    .dataframe tbody tr th:only-of-type {\n",
       "        vertical-align: middle;\n",
       "    }\n",
       "\n",
       "    .dataframe tbody tr th {\n",
       "        vertical-align: top;\n",
       "    }\n",
       "\n",
       "    .dataframe thead th {\n",
       "        text-align: right;\n",
       "    }\n",
       "</style>\n",
       "<table border=\"1\" class=\"dataframe\">\n",
       "  <thead>\n",
       "    <tr style=\"text-align: right;\">\n",
       "      <th></th>\n",
       "      <th>Optimizer</th>\n",
       "      <th>run time</th>\n",
       "    </tr>\n",
       "  </thead>\n",
       "  <tbody>\n",
       "    <tr>\n",
       "      <th>0</th>\n",
       "      <td>SGD</td>\n",
       "      <td>195.771499</td>\n",
       "    </tr>\n",
       "    <tr>\n",
       "      <th>1</th>\n",
       "      <td>Momentum</td>\n",
       "      <td>152.045606</td>\n",
       "    </tr>\n",
       "    <tr>\n",
       "      <th>2</th>\n",
       "      <td>Adagrad</td>\n",
       "      <td>149.414731</td>\n",
       "    </tr>\n",
       "    <tr>\n",
       "      <th>3</th>\n",
       "      <td>Adam</td>\n",
       "      <td>159.105349</td>\n",
       "    </tr>\n",
       "    <tr>\n",
       "      <th>4</th>\n",
       "      <td>NAdam</td>\n",
       "      <td>163.603274</td>\n",
       "    </tr>\n",
       "    <tr>\n",
       "      <th>5</th>\n",
       "      <td>RMSprop</td>\n",
       "      <td>159.611195</td>\n",
       "    </tr>\n",
       "  </tbody>\n",
       "</table>\n",
       "</div>"
      ],
      "text/plain": [
       "  Optimizer    run time\n",
       "0       SGD  195.771499\n",
       "1  Momentum  152.045606\n",
       "2   Adagrad  149.414731\n",
       "3      Adam  159.105349\n",
       "4     NAdam  163.603274\n",
       "5   RMSprop  159.611195"
      ]
     },
     "execution_count": 862,
     "metadata": {},
     "output_type": "execute_result"
    }
   ],
   "source": [
    "time_df = pd.DataFrame.from_dict(run_time_list)\n",
    "time_df"
   ]
  },
  {
   "cell_type": "code",
   "execution_count": 863,
   "id": "ca240116",
   "metadata": {},
   "outputs": [
    {
     "data": {
      "text/plain": [
       "(0.9, 100.0)"
      ]
     },
     "execution_count": 863,
     "metadata": {},
     "output_type": "execute_result"
    },
    {
     "data": {
      "image/png": "[encoded data removed]",
      "text/plain": [
       "<Figure size 432x288 with 1 Axes>"
      ]
     },
     "metadata": {
      "needs_background": "light"
     },
     "output_type": "display_data"
    }
   ],
   "source": [
    "import seaborn as sns\n",
    "\n",
    "fig , ax  = plt.subplots()\n",
    "sns.barplot(x ='Optimizer',y='Accuracy' , data=result_df)\n",
    "ax.set_ylim(0.9,100)"
   ]
  },
  {
   "cell_type": "code",
   "execution_count": 864,
   "id": "0594e355",
   "metadata": {},
   "outputs": [
    {
     "data": {
      "text/plain": [
       "(0.9, 450.0)"
      ]
     },
     "execution_count": 864,
     "metadata": {},
     "output_type": "execute_result"
    },
    {
     "data": {
      "image/png": "[encoded data removed]",
      "text/plain": [
       "<Figure size 432x288 with 1 Axes>"
      ]
     },
     "metadata": {
      "needs_background": "light"
     },
     "output_type": "display_data"
    }
   ],
   "source": [
    "import seaborn as sns\n",
    "\n",
    "fig , ax  = plt.subplots()\n",
    "sns.barplot(x ='Optimizer',y='run time' , data=time_df)\n",
    "ax.set_ylim(0.9,450)"
   ]
  },
  {
   "cell_type": "code",
   "execution_count": 865,
   "id": "2c59e3fc",
   "metadata": {},
   "outputs": [
    {
     "data": {
      "image/png": "[encoded data removed]",
      "text/plain": [
       "<Figure size 432x288 with 1 Axes>"
      ]
     },
     "metadata": {
      "needs_background": "light"
     },
     "output_type": "display_data"
    }
   ],
   "source": [
    "plt.plot(k_epoch,Acc_list_SGD, label = 'SGD')\n",
    "plt.plot(k_epoch,Acc_list_Momentum, label = 'Momentum')\n",
    "plt.plot(k_epoch,Acc_list_Adagrad, label = 'Adagrad')\n",
    "plt.plot(k_epoch,Acc_list_Adam, label = 'Adam')\n",
    "plt.plot(k_epoch,Acc_list_NAdam, label = 'NAdam')\n",
    "plt.plot(k_epoch,Acc_list_NAdam, label = 'RMSprop')\n",
    "plt.xlabel('epoch')\n",
    "plt.ylabel('Accuracy')\n",
    "plt.legend()\n",
    "plt.show()"
   ]
  },
  {
   "cell_type": "code",
   "execution_count": 866,
   "id": "bcfd555b",
   "metadata": {},
   "outputs": [
    {
     "data": {
      "image/png": "[encoded data removed]",
      "text/plain": [
       "<Figure size 432x288 with 1 Axes>"
      ]
     },
     "metadata": {
      "needs_background": "light"
     },
     "output_type": "display_data"
    }
   ],
   "source": [
    "plt.plot(k_epoch,Avg_list_SGD, label = 'SGD')\n",
    "plt.plot(k_epoch,Avg_list_Momentum, label = 'Momentum')\n",
    "plt.plot(k_epoch,Avg_list_Adagrad, label = 'Adagrad')\n",
    "plt.plot(k_epoch,Avg_list_Adam, label = 'Adam')\n",
    "plt.plot(k_epoch,Avg_list_NAdam, label = 'NAdam')\n",
    "plt.plot(k_epoch,Avg_list_NAdam, label = 'RMSprop')\n",
    "plt.xlabel('epoch')\n",
    "plt.ylabel('Avrage loss')\n",
    "plt.legend()\n",
    "plt.show()"
   ]
  },
  {
   "cell_type": "markdown",
   "id": "c11ac2c8",
   "metadata": {},
   "source": [
    "## Second Task: Classification model with simple RNN"
   ]
  },
  {
   "cell_type": "markdown",
   "id": "54e76175",
   "metadata": {},
   "source": [
    "The task is to build a simple classification model that can correctly determine the nationality of a person given their name. "
   ]
  },
  {
   "cell_type": "code",
   "execution_count": 867,
   "id": "e5e4c26f",
   "metadata": {},
   "outputs": [],
   "source": [
    "import numpy as np\n",
    "import math"
   ]
  },
  {
   "cell_type": "code",
   "execution_count": 868,
   "id": "73f67961",
   "metadata": {},
   "outputs": [],
   "source": [
    "import timeit"
   ]
  },
  {
   "cell_type": "code",
   "execution_count": 869,
   "id": "818d4108",
   "metadata": {},
   "outputs": [],
   "source": [
    "import os\n",
    "import random\n",
    "from string import ascii_letters\n",
    "\n",
    "import torch\n",
    "from torch import nn\n",
    "import torch.nn.functional as F\n",
    "from unidecode import unidecode\n",
    "\n",
    "_ = torch.manual_seed(42)"
   ]
  },
  {
   "cell_type": "code",
   "execution_count": 870,
   "id": "a364f602",
   "metadata": {},
   "outputs": [],
   "source": [
    "#specify a directory, specify a directory,construct a dictionary that maps a language to a numerical label.\n",
    "data_dir = \"./data/data/names\"\n",
    "\n",
    "lang2label = {\n",
    "    file_name.split(\".\")[0]: torch.tensor([i], dtype=torch.long)\n",
    "    for i, file_name in enumerate(os.listdir(data_dir))\n",
    "}"
   ]
  },
  {
   "cell_type": "code",
   "execution_count": 871,
   "id": "ca80805e",
   "metadata": {},
   "outputs": [
    {
     "data": {
      "text/plain": [
       "{'Arabic': tensor([0]),\n",
       " 'Chinese': tensor([1]),\n",
       " 'Czech': tensor([2]),\n",
       " 'Dutch': tensor([3]),\n",
       " 'English': tensor([4]),\n",
       " 'French': tensor([5]),\n",
       " 'German': tensor([6]),\n",
       " 'Greek': tensor([7]),\n",
       " 'Irish': tensor([8]),\n",
       " 'Italian': tensor([9]),\n",
       " 'Japanese': tensor([10]),\n",
       " 'Korean': tensor([11]),\n",
       " 'Polish': tensor([12]),\n",
       " 'Portuguese': tensor([13]),\n",
       " 'Russian': tensor([14]),\n",
       " 'Scottish': tensor([15]),\n",
       " 'Spanish': tensor([16]),\n",
       " 'Vietnamese': tensor([17])}"
      ]
     },
     "execution_count": 871,
     "metadata": {},
     "output_type": "execute_result"
    }
   ],
   "source": [
    "lang2label"
   ]
  },
  {
   "cell_type": "code",
   "execution_count": 872,
   "id": "de076efc",
   "metadata": {},
   "outputs": [],
   "source": [
    "num_langs = len(lang2label)"
   ]
  },
  {
   "cell_type": "code",
   "execution_count": 873,
   "id": "1befbbc2",
   "metadata": {},
   "outputs": [
    {
     "data": {
      "text/plain": [
       "'Slusarski'"
      ]
     },
     "execution_count": 873,
     "metadata": {},
     "output_type": "execute_result"
    }
   ],
   "source": [
    "#Preprocessing\n",
    "unidecode(\"Ślusàrski\")"
   ]
  },
  {
   "cell_type": "code",
   "execution_count": 874,
   "id": "880764af",
   "metadata": {},
   "outputs": [
    {
     "name": "stdout",
     "output_type": "stream",
     "text": [
      "59\n"
     ]
    }
   ],
   "source": [
    "char2idx = {letter: i for i, letter in enumerate(ascii_letters + \" .,:;-'\")}\n",
    "num_letters = len(char2idx); num_letters\n",
    "print(num_letters)"
   ]
  },
  {
   "cell_type": "markdown",
   "id": "8f1a3224",
   "metadata": {},
   "source": [
    "We see that there are a total of 59 tokens in our character vocabulary. This includes spaces and punctuations."
   ]
  },
  {
   "cell_type": "code",
   "execution_count": 875,
   "id": "a1ffc61a",
   "metadata": {},
   "outputs": [],
   "source": [
    "def name2tensor(name):\n",
    "    tensor = torch.zeros(len(name), 1, num_letters)\n",
    "    for i, char in enumerate(name):\n",
    "        tensor[i][0][char2idx[char]] = 1\n",
    "    return tensor"
   ]
  },
  {
   "cell_type": "code",
   "execution_count": 876,
   "id": "7a4a0c3b",
   "metadata": {},
   "outputs": [
    {
     "data": {
      "text/plain": [
       "tensor([[[1., 0., 0., 0., 0., 0., 0., 0., 0., 0., 0., 0., 0., 0., 0., 0., 0.,\n",
       "          0., 0., 0., 0., 0., 0., 0., 0., 0., 0., 0., 0., 0., 0., 0., 0., 0.,\n",
       "          0., 0., 0., 0., 0., 0., 0., 0., 0., 0., 0., 0., 0., 0., 0., 0., 0.,\n",
       "          0., 0., 0., 0., 0., 0., 0., 0.]],\n",
       "\n",
       "        [[0., 0., 0., 0., 0., 0., 0., 0., 0., 0., 0., 0., 0., 0., 0., 0., 0.,\n",
       "          0., 0., 0., 0., 0., 0., 0., 1., 0., 0., 0., 0., 0., 0., 0., 0., 0.,\n",
       "          0., 0., 0., 0., 0., 0., 0., 0., 0., 0., 0., 0., 0., 0., 0., 0., 0.,\n",
       "          0., 0., 0., 0., 0., 0., 0., 0.]],\n",
       "\n",
       "        [[0., 0., 0., 0., 0., 0., 0., 0., 0., 0., 0., 0., 0., 0., 0., 0., 0.,\n",
       "          0., 1., 0., 0., 0., 0., 0., 0., 0., 0., 0., 0., 0., 0., 0., 0., 0.,\n",
       "          0., 0., 0., 0., 0., 0., 0., 0., 0., 0., 0., 0., 0., 0., 0., 0., 0.,\n",
       "          0., 0., 0., 0., 0., 0., 0., 0.]],\n",
       "\n",
       "        [[1., 0., 0., 0., 0., 0., 0., 0., 0., 0., 0., 0., 0., 0., 0., 0., 0.,\n",
       "          0., 0., 0., 0., 0., 0., 0., 0., 0., 0., 0., 0., 0., 0., 0., 0., 0.,\n",
       "          0., 0., 0., 0., 0., 0., 0., 0., 0., 0., 0., 0., 0., 0., 0., 0., 0.,\n",
       "          0., 0., 0., 0., 0., 0., 0., 0.]],\n",
       "\n",
       "        [[0., 0., 0., 0., 0., 0., 0., 0., 0., 0., 0., 0., 0., 1., 0., 0., 0.,\n",
       "          0., 0., 0., 0., 0., 0., 0., 0., 0., 0., 0., 0., 0., 0., 0., 0., 0.,\n",
       "          0., 0., 0., 0., 0., 0., 0., 0., 0., 0., 0., 0., 0., 0., 0., 0., 0.,\n",
       "          0., 0., 0., 0., 0., 0., 0., 0.]]])"
      ]
     },
     "execution_count": 876,
     "metadata": {},
     "output_type": "execute_result"
    }
   ],
   "source": [
    "name2tensor(\"aysan\")"
   ]
  },
  {
   "cell_type": "code",
   "execution_count": 877,
   "id": "b3e5c323",
   "metadata": {},
   "outputs": [],
   "source": [
    "#We see that there are a total of 59 tokens in our character vocabulary. This includes spaces and punctuations\n",
    "tensor_names = []\n",
    "target_langs = []\n",
    "\n",
    "for file in os.listdir(data_dir):\n",
    "        f= open(os.path.join(data_dir, file), encoding='utf-8')\n",
    "        lang = file.split(\".\")[0]\n",
    "        names =[unidecode(line.rstrip()) for line in f]\n",
    "        for name in names:\n",
    "            try:\n",
    "                tensor_names.append(name2tensor(name))\n",
    "                target_langs.append(lang2label[lang])\n",
    "            except KeyError:\n",
    "                pass\n"
   ]
  },
  {
   "cell_type": "code",
   "execution_count": 878,
   "id": "934b190d",
   "metadata": {},
   "outputs": [
    {
     "name": "stderr",
     "output_type": "stream",
     "text": [
      "C:\\Users\\Aysan\\anaconda3\\lib\\site-packages\\sklearn\\utils\\validation.py:746: FutureWarning: The input object of type 'Tensor' is an array-like implementing one of the corresponding protocols (`__array__`, `__array_interface__` or `__array_struct__`); but not a sequence (or 0-D). In the future, this object will be coerced as if it was first converted using `np.array(obj)`. To retain the old behaviour, you have to either modify the type 'Tensor', or assign to an empty array created with `np.empty(correct_shape, dtype=object)`.\n",
      "  array = np.asarray(array, order=order, dtype=dtype)\n",
      "C:\\Users\\Aysan\\anaconda3\\lib\\site-packages\\sklearn\\utils\\validation.py:746: VisibleDeprecationWarning: Creating an ndarray from ragged nested sequences (which is a list-or-tuple of lists-or-tuples-or ndarrays with different lengths or shapes) is deprecated. If you meant to do this, you must specify 'dtype=object' when creating the ndarray.\n",
      "  array = np.asarray(array, order=order, dtype=dtype)\n"
     ]
    }
   ],
   "source": [
    "from sklearn.model_selection import train_test_split\n",
    "\n",
    "train_idx, test_idx = train_test_split(\n",
    "    range(len(target_langs)), \n",
    "    test_size=0.1, \n",
    "    shuffle=True, \n",
    "    stratify=target_langs\n",
    ")\n",
    "\n",
    "train_dataset = [\n",
    "    (tensor_names[i], target_langs[i])\n",
    "    for i in train_idx\n",
    "]\n",
    "\n",
    "test_dataset = [\n",
    "    (tensor_names[i], target_langs[i])\n",
    "    for i in test_idx\n",
    "]"
   ]
  },
  {
   "cell_type": "code",
   "execution_count": 879,
   "id": "c0d7faed",
   "metadata": {},
   "outputs": [
    {
     "name": "stdout",
     "output_type": "stream",
     "text": [
      "Train: 18063\n",
      "Test: 2007\n"
     ]
    }
   ],
   "source": [
    "print(f\"Train: {len(train_dataset)}\")\n",
    "print(f\"Test: {len(test_dataset)}\")"
   ]
  },
  {
   "cell_type": "code",
   "execution_count": 880,
   "id": "0212fa13",
   "metadata": {},
   "outputs": [],
   "source": [
    "#Model\n",
    "class MyRNN(nn.Module):\n",
    "    def __init__(self, input_size, hidden_size, output_size):\n",
    "        super(MyRNN, self).__init__()\n",
    "        self.hidden_size = hidden_size\n",
    "        self.in2hidden = nn.Linear(input_size + hidden_size, hidden_size)\n",
    "        self.in2output = nn.Linear(input_size + hidden_size, output_size)\n",
    "    \n",
    "    def forward(self, x, hidden_state):\n",
    "        combined = torch.cat((x, hidden_state), 1)\n",
    "        hidden = torch.sigmoid(self.in2hidden(combined))\n",
    "        output = self.in2output(combined)\n",
    "        return output, hidden\n",
    "    \n",
    "    def init_hidden(self):\n",
    "        return nn.init.kaiming_uniform_(torch.empty(1, self.hidden_size))"
   ]
  },
  {
   "cell_type": "code",
   "execution_count": 881,
   "id": "02431763",
   "metadata": {},
   "outputs": [],
   "source": [
    "#Specify a list to store the run time of the optimizers\n",
    "run_time_list = []\n",
    "def store_time(cur_result_list, i_opt, i_time):\n",
    "    new_result={\n",
    "        'Optimizer': i_opt,\n",
    "        'run time': i_time\n",
    "    }\n",
    "    cur_result_list.append(new_result)\n",
    "    \n",
    "    return cur_result_list\n"
   ]
  },
  {
   "cell_type": "code",
   "execution_count": 882,
   "id": "c4b5d3ef",
   "metadata": {},
   "outputs": [],
   "source": [
    "# Specify a list to store the result\n",
    "result_list = []\n",
    "def store_result(cur_result_list,i_opt,i_epoch,i_step,i_loss):\n",
    "    new_result={\n",
    "        'Optimizer': i_opt,\n",
    "        'epoch': i_epoch,\n",
    "        'step': i_step,\n",
    "        'Loss': i_loss\n",
    "    }\n",
    "    cur_result_list.append(new_result)\n",
    "    \n",
    "    return cur_result_list"
   ]
  },
  {
   "cell_type": "code",
   "execution_count": 883,
   "id": "e3c03074",
   "metadata": {},
   "outputs": [],
   "source": [
    "# Specify a list to store the result\n",
    "test_list = []\n",
    "def store_accuracy(cur_result_list,i_opt,i_acc):\n",
    "    new_result={\n",
    "        'Optimizer': i_opt,\n",
    "        'Accuracy': i_acc\n",
    "    }\n",
    "    cur_result_list.append(new_result)\n",
    "    \n",
    "    return cur_result_list"
   ]
  },
  {
   "cell_type": "code",
   "execution_count": 884,
   "id": "15d48765",
   "metadata": {},
   "outputs": [],
   "source": [
    "#training\n",
    "hidden_size = 256\n",
    "learning_rate = 0.001\n",
    "\n",
    "model = MyRNN(num_letters, hidden_size, num_langs)\n",
    "criterion = nn.CrossEntropyLoss()\n"
   ]
  },
  {
   "cell_type": "markdown",
   "id": "2f1a4488",
   "metadata": {},
   "source": [
    "### SGD"
   ]
  },
  {
   "cell_type": "code",
   "execution_count": 885,
   "id": "45eb469b",
   "metadata": {},
   "outputs": [
    {
     "name": "stdout",
     "output_type": "stream",
     "text": [
      "Epoch [1/5], Step [3000/18063], Loss: 0.1500\n",
      "Epoch [1/5], Step [6000/18063], Loss: 5.8198\n",
      "Epoch [1/5], Step [9000/18063], Loss: 0.0927\n",
      "Epoch [1/5], Step [12000/18063], Loss: 4.0013\n",
      "Epoch [1/5], Step [15000/18063], Loss: 0.1064\n",
      "Epoch [1/5], Step [18000/18063], Loss: 0.1017\n",
      "Epoch [2/5], Step [3000/18063], Loss: 0.1215\n",
      "Epoch [2/5], Step [6000/18063], Loss: 0.0902\n",
      "Epoch [2/5], Step [9000/18063], Loss: 3.4358\n",
      "Epoch [2/5], Step [12000/18063], Loss: 0.1007\n",
      "Epoch [2/5], Step [15000/18063], Loss: 0.0743\n",
      "Epoch [2/5], Step [18000/18063], Loss: 3.0920\n",
      "Epoch [3/5], Step [3000/18063], Loss: 3.1726\n",
      "Epoch [3/5], Step [6000/18063], Loss: 0.0918\n",
      "Epoch [3/5], Step [9000/18063], Loss: 0.0560\n",
      "Epoch [3/5], Step [12000/18063], Loss: 5.7987\n",
      "Epoch [3/5], Step [15000/18063], Loss: 4.6805\n",
      "Epoch [3/5], Step [18000/18063], Loss: 0.0572\n",
      "Epoch [4/5], Step [3000/18063], Loss: 0.0737\n",
      "Epoch [4/5], Step [6000/18063], Loss: 2.9386\n",
      "Epoch [4/5], Step [9000/18063], Loss: 3.5226\n",
      "Epoch [4/5], Step [12000/18063], Loss: 5.7372\n",
      "Epoch [4/5], Step [15000/18063], Loss: 5.6274\n",
      "Epoch [4/5], Step [18000/18063], Loss: 0.0448\n",
      "Epoch [5/5], Step [3000/18063], Loss: 3.1887\n",
      "Epoch [5/5], Step [6000/18063], Loss: 2.8316\n",
      "Epoch [5/5], Step [9000/18063], Loss: 0.0928\n",
      "Epoch [5/5], Step [12000/18063], Loss: 0.1031\n",
      "Epoch [5/5], Step [15000/18063], Loss: 0.0630\n",
      "Epoch [5/5], Step [18000/18063], Loss: 3.2835\n",
      "Done!\n"
     ]
    }
   ],
   "source": [
    "num_epochs = 5\n",
    "print_interval = 3000\n",
    "optimizer = torch.optim.SGD(model.parameters(), lr=learning_rate)\n",
    "\n",
    "Epoch_list_SGD = []\n",
    "Step_list_SGD = []\n",
    "Loss_list_SGD= []\n",
    "\n",
    "optimizer_name = 'SGD'\n",
    "\n",
    "start = timeit.default_timer()\n",
    "\n",
    "for epoch in range(num_epochs):\n",
    "    random.shuffle(train_dataset)\n",
    "    for i, (name, label) in enumerate(train_dataset):\n",
    "        hidden_state = model.init_hidden()\n",
    "        for char in name:\n",
    "            output, hidden_state = model(char, hidden_state)\n",
    "        loss = criterion(output, label)\n",
    "\n",
    "        optimizer.zero_grad()\n",
    "        loss.backward()\n",
    "        nn.utils.clip_grad_norm_(model.parameters(), 1)\n",
    "        optimizer.step()\n",
    "        \n",
    "        if (i + 1) % print_interval == 0:\n",
    "            Epoch = (epoch + 1)/num_epochs\n",
    "            Step = (i + 1)/len(train_dataset)\n",
    "            Loss = loss.item()\n",
    "            Epoch_list_SGD.append(Epoch)\n",
    "            Step_list_SGD.append(Step)\n",
    "            Loss_list_SGD.append(Loss)\n",
    "            print(\n",
    "                f\"Epoch [{epoch + 1}/{num_epochs}], \"\n",
    "                f\"Step [{i + 1}/{len(train_dataset)}], \"\n",
    "                f\"Loss: {loss.item():.4f}\"\n",
    "            )\n",
    "\n",
    "            result_list= store_result(result_list, optimizer_name,Epoch,Step,Loss)\n",
    "                      \n",
    "stop = timeit.default_timer()\n",
    "run_time = stop - start  \n",
    "run_time_list = store_time(run_time_list,optimizer_name,run_time)\n",
    "print(\"Done!\") "
   ]
  },
  {
   "cell_type": "code",
   "execution_count": 886,
   "id": "0f2d88bc",
   "metadata": {},
   "outputs": [
    {
     "name": "stdout",
     "output_type": "stream",
     "text": [
      "Accuracy: 46.8859%\n"
     ]
    }
   ],
   "source": [
    "#testing\n",
    "num_correct = 0\n",
    "num_samples = len(test_dataset)\n",
    "\n",
    "model.eval()\n",
    "optimizer_name = 'SGD'\n",
    "with torch.no_grad():\n",
    "    for name, label in test_dataset:\n",
    "        hidden_state = model.init_hidden()\n",
    "        for char in name:\n",
    "            output, hidden_state = model(char, hidden_state)\n",
    "        _, pred = torch.max(output, dim=1)\n",
    "        num_correct += bool(pred == label)\n",
    "Accuracy = num_correct / num_samples * 100\n",
    "test_list=store_accuracy(test_list,optimizer_name,Accuracy)\n",
    "print(f\"Accuracy: {num_correct / num_samples * 100:.4f}%\")"
   ]
  },
  {
   "cell_type": "code",
   "execution_count": 887,
   "id": "47867737",
   "metadata": {},
   "outputs": [],
   "source": [
    "label2lang = {label.item(): lang for lang, label in lang2label.items()}\n",
    "\n",
    "def myrnn_predict(name):\n",
    "    model.eval()\n",
    "    tensor_name = name2tensor(name)\n",
    "    with torch.no_grad():\n",
    "        hidden_state = model.init_hidden()\n",
    "        for char in tensor_name:\n",
    "            output, hidden_state = model(char, hidden_state)\n",
    "        _, pred = torch.max(output, dim=1)\n",
    "    model.train()    \n",
    "    return label2lang[pred.item()]"
   ]
  },
  {
   "cell_type": "code",
   "execution_count": 888,
   "id": "eb711a5f",
   "metadata": {},
   "outputs": [
    {
     "data": {
      "text/plain": [
       "'Russian'"
      ]
     },
     "execution_count": 888,
     "metadata": {},
     "output_type": "execute_result"
    }
   ],
   "source": [
    "myrnn_predict(\"Aysan\")"
   ]
  },
  {
   "cell_type": "code",
   "execution_count": 889,
   "id": "b52b1f6f",
   "metadata": {},
   "outputs": [
    {
     "data": {
      "text/plain": [
       "'Russian'"
      ]
     },
     "execution_count": 889,
     "metadata": {},
     "output_type": "execute_result"
    }
   ],
   "source": [
    "myrnn_predict(\"Fung\")"
   ]
  },
  {
   "cell_type": "code",
   "execution_count": 890,
   "id": "e3ad32c3",
   "metadata": {},
   "outputs": [
    {
     "data": {
      "text/plain": [
       "'Russian'"
      ]
     },
     "execution_count": 890,
     "metadata": {},
     "output_type": "execute_result"
    }
   ],
   "source": [
    "myrnn_predict(\"Dimitris\")"
   ]
  },
  {
   "cell_type": "markdown",
   "id": "5ec00284",
   "metadata": {},
   "source": [
    "### SGD with Momentum"
   ]
  },
  {
   "cell_type": "code",
   "execution_count": 891,
   "id": "d22089f6",
   "metadata": {},
   "outputs": [
    {
     "name": "stdout",
     "output_type": "stream",
     "text": [
      "Epoch [1/5], Step [3000/18063], Loss: 0.0595\n",
      "Epoch [1/5], Step [6000/18063], Loss: 0.2335\n",
      "Epoch [1/5], Step [9000/18063], Loss: 4.6435\n",
      "Epoch [1/5], Step [12000/18063], Loss: 0.1490\n",
      "Epoch [1/5], Step [15000/18063], Loss: 0.1924\n",
      "Epoch [1/5], Step [18000/18063], Loss: 0.8132\n",
      "Epoch [2/5], Step [3000/18063], Loss: 2.7328\n",
      "Epoch [2/5], Step [6000/18063], Loss: 4.6088\n",
      "Epoch [2/5], Step [9000/18063], Loss: 0.0221\n",
      "Epoch [2/5], Step [12000/18063], Loss: 0.1077\n",
      "Epoch [2/5], Step [15000/18063], Loss: 4.4223\n",
      "Epoch [2/5], Step [18000/18063], Loss: 1.0949\n",
      "Epoch [3/5], Step [3000/18063], Loss: 2.8619\n",
      "Epoch [3/5], Step [6000/18063], Loss: 3.8382\n",
      "Epoch [3/5], Step [9000/18063], Loss: 0.0624\n",
      "Epoch [3/5], Step [12000/18063], Loss: 1.1446\n",
      "Epoch [3/5], Step [15000/18063], Loss: 1.8616\n",
      "Epoch [3/5], Step [18000/18063], Loss: 0.2107\n",
      "Epoch [4/5], Step [3000/18063], Loss: 0.0150\n",
      "Epoch [4/5], Step [6000/18063], Loss: 0.0458\n",
      "Epoch [4/5], Step [9000/18063], Loss: 2.9939\n",
      "Epoch [4/5], Step [12000/18063], Loss: 0.0116\n",
      "Epoch [4/5], Step [15000/18063], Loss: 0.3746\n",
      "Epoch [4/5], Step [18000/18063], Loss: 0.0180\n",
      "Epoch [5/5], Step [3000/18063], Loss: 1.1556\n",
      "Epoch [5/5], Step [6000/18063], Loss: 0.0521\n",
      "Epoch [5/5], Step [9000/18063], Loss: 1.9464\n",
      "Epoch [5/5], Step [12000/18063], Loss: 1.8485\n",
      "Epoch [5/5], Step [15000/18063], Loss: 3.5086\n",
      "Epoch [5/5], Step [18000/18063], Loss: 3.1531\n",
      "Done!\n"
     ]
    }
   ],
   "source": [
    "num_epochs = 5\n",
    "print_interval = 3000\n",
    "optimizer = torch.optim.SGD(model.parameters(), lr=learning_rate,momentum=0.9)\n",
    "\n",
    "Epoch_list_Momentum = []\n",
    "Step_list_Momentum = []\n",
    "Loss_list_Momentum = []\n",
    "\n",
    "optimizer_name = 'Momentum'\n",
    "\n",
    "start = timeit.default_timer()\n",
    "\n",
    "for epoch in range(num_epochs):\n",
    "    random.shuffle(train_dataset)\n",
    "    for i, (name, label) in enumerate(train_dataset):\n",
    "        hidden_state = model.init_hidden()\n",
    "        for char in name:\n",
    "            output, hidden_state = model(char, hidden_state)\n",
    "        loss = criterion(output, label)\n",
    "\n",
    "        optimizer.zero_grad()\n",
    "        loss.backward()\n",
    "        nn.utils.clip_grad_norm_(model.parameters(), 1)\n",
    "        optimizer.step()\n",
    "        \n",
    "        if (i + 1) % print_interval == 0:\n",
    "            Epoch = (epoch + 1)/num_epochs\n",
    "            Step = (i + 1)/len(train_dataset)\n",
    "            Loss = loss.item()\n",
    "            Epoch_list_Momentum.append(Epoch)\n",
    "            Step_list_Momentum.append(Step)\n",
    "            Loss_list_Momentum.append(Loss)\n",
    "            print(\n",
    "                f\"Epoch [{epoch + 1}/{num_epochs}], \"\n",
    "                f\"Step [{i + 1}/{len(train_dataset)}], \"\n",
    "                f\"Loss: {loss.item():.4f}\"\n",
    "            )\n",
    "\n",
    "            result_list= store_result(result_list, optimizer_name,Epoch,Step,Loss)\n",
    "                      \n",
    "stop = timeit.default_timer()\n",
    "run_time = stop - start  \n",
    "run_time_list = store_time(run_time_list,optimizer_name,run_time)\n",
    "print(\"Done!\")  "
   ]
  },
  {
   "cell_type": "code",
   "execution_count": 892,
   "id": "5eb097cc",
   "metadata": {},
   "outputs": [
    {
     "name": "stdout",
     "output_type": "stream",
     "text": [
      "Accuracy: 54.1106%\n"
     ]
    }
   ],
   "source": [
    "#testing\n",
    "num_correct = 0\n",
    "num_samples = len(test_dataset)\n",
    "\n",
    "model.eval()\n",
    "optimizer_name = 'Momentum'\n",
    "with torch.no_grad():\n",
    "    for name, label in test_dataset:\n",
    "        hidden_state = model.init_hidden()\n",
    "        for char in name:\n",
    "            output, hidden_state = model(char, hidden_state)\n",
    "        _, pred = torch.max(output, dim=1)\n",
    "        num_correct += bool(pred == label)\n",
    "Accuracy = num_correct / num_samples * 100\n",
    "test_list=store_accuracy(test_list,optimizer_name,Accuracy)\n",
    "print(f\"Accuracy: {num_correct / num_samples * 100:.4f}%\")"
   ]
  },
  {
   "cell_type": "markdown",
   "id": "a1d3646c",
   "metadata": {},
   "source": [
    "### Adagrad"
   ]
  },
  {
   "cell_type": "code",
   "execution_count": 893,
   "id": "9132ddf8",
   "metadata": {},
   "outputs": [
    {
     "name": "stdout",
     "output_type": "stream",
     "text": [
      "Epoch [1/5], Step [3000/18063], Loss: 4.8895\n",
      "Epoch [1/5], Step [6000/18063], Loss: 0.0096\n",
      "Epoch [1/5], Step [9000/18063], Loss: 4.9945\n",
      "Epoch [1/5], Step [12000/18063], Loss: 0.0077\n",
      "Epoch [1/5], Step [15000/18063], Loss: 2.3604\n",
      "Epoch [1/5], Step [18000/18063], Loss: 1.8382\n",
      "Epoch [2/5], Step [3000/18063], Loss: 0.0324\n",
      "Epoch [2/5], Step [6000/18063], Loss: 3.6174\n",
      "Epoch [2/5], Step [9000/18063], Loss: 4.3828\n",
      "Epoch [2/5], Step [12000/18063], Loss: 0.0073\n",
      "Epoch [2/5], Step [15000/18063], Loss: 4.6547\n",
      "Epoch [2/5], Step [18000/18063], Loss: 0.4515\n",
      "Epoch [3/5], Step [3000/18063], Loss: 0.9543\n",
      "Epoch [3/5], Step [6000/18063], Loss: 1.3256\n",
      "Epoch [3/5], Step [9000/18063], Loss: 0.1115\n",
      "Epoch [3/5], Step [12000/18063], Loss: 3.1978\n",
      "Epoch [3/5], Step [15000/18063], Loss: 3.3565\n",
      "Epoch [3/5], Step [18000/18063], Loss: 3.0358\n",
      "Epoch [4/5], Step [3000/18063], Loss: 1.7712\n",
      "Epoch [4/5], Step [6000/18063], Loss: 1.9064\n",
      "Epoch [4/5], Step [9000/18063], Loss: 0.0294\n",
      "Epoch [4/5], Step [12000/18063], Loss: 4.0464\n",
      "Epoch [4/5], Step [15000/18063], Loss: 2.3039\n",
      "Epoch [4/5], Step [18000/18063], Loss: 0.5646\n",
      "Epoch [5/5], Step [3000/18063], Loss: 0.5087\n",
      "Epoch [5/5], Step [6000/18063], Loss: 0.4432\n",
      "Epoch [5/5], Step [9000/18063], Loss: 0.0301\n",
      "Epoch [5/5], Step [12000/18063], Loss: 1.5325\n",
      "Epoch [5/5], Step [15000/18063], Loss: 0.4734\n",
      "Epoch [5/5], Step [18000/18063], Loss: 1.0693\n",
      "Done!\n"
     ]
    }
   ],
   "source": [
    "num_epochs = 5\n",
    "print_interval = 3000\n",
    "optimizer = torch.optim.Adagrad(model.parameters(), lr=learning_rate)\n",
    "\n",
    "Epoch_list_Adagrad = []\n",
    "Step_list_Adagrad = []\n",
    "Loss_list_Adagrad = []\n",
    "\n",
    "optimizer_name = 'Adagrad'\n",
    "\n",
    "start = timeit.default_timer()\n",
    "\n",
    "for epoch in range(num_epochs):\n",
    "    random.shuffle(train_dataset)\n",
    "    for i, (name, label) in enumerate(train_dataset):\n",
    "        hidden_state = model.init_hidden()\n",
    "        for char in name:\n",
    "            output, hidden_state = model(char, hidden_state)\n",
    "        loss = criterion(output, label)\n",
    "\n",
    "        optimizer.zero_grad()\n",
    "        loss.backward()\n",
    "        nn.utils.clip_grad_norm_(model.parameters(), 1)\n",
    "        optimizer.step()\n",
    "        \n",
    "        if (i + 1) % print_interval == 0:\n",
    "            Epoch = (epoch + 1)/num_epochs\n",
    "            Step = (i + 1)/len(train_dataset)\n",
    "            Loss = loss.item()\n",
    "            Epoch_list_Adagrad.append(Epoch)\n",
    "            Step_list_Adagrad.append(Step)\n",
    "            Loss_list_Adagrad.append(Loss)\n",
    "            print(\n",
    "                f\"Epoch [{epoch + 1}/{num_epochs}], \"\n",
    "                f\"Step [{i + 1}/{len(train_dataset)}], \"\n",
    "                f\"Loss: {loss.item():.4f}\"\n",
    "            )\n",
    "\n",
    "            result_list= store_result(result_list, optimizer_name,Epoch,Step,Loss)\n",
    "                      \n",
    "stop = timeit.default_timer()\n",
    "run_time = stop - start  \n",
    "run_time_list = store_time(run_time_list,optimizer_name,run_time)\n",
    "print(\"Done!\")  "
   ]
  },
  {
   "cell_type": "code",
   "execution_count": 894,
   "id": "7e454370",
   "metadata": {},
   "outputs": [
    {
     "name": "stdout",
     "output_type": "stream",
     "text": [
      "Accuracy: 55.8545%\n"
     ]
    }
   ],
   "source": [
    "#testing\n",
    "num_correct = 0\n",
    "num_samples = len(test_dataset)\n",
    "\n",
    "model.eval()\n",
    "optimizer_name = 'Adagrad'\n",
    "with torch.no_grad():\n",
    "    for name, label in test_dataset:\n",
    "        hidden_state = model.init_hidden()\n",
    "        for char in name:\n",
    "            output, hidden_state = model(char, hidden_state)\n",
    "        _, pred = torch.max(output, dim=1)\n",
    "        num_correct += bool(pred == label)\n",
    "Accuracy = num_correct / num_samples * 100\n",
    "test_list=store_accuracy(test_list,optimizer_name,Accuracy)\n",
    "print(f\"Accuracy: {num_correct / num_samples * 100:.4f}%\")"
   ]
  },
  {
   "cell_type": "markdown",
   "id": "08795111",
   "metadata": {},
   "source": [
    "### Adam"
   ]
  },
  {
   "cell_type": "code",
   "execution_count": 895,
   "id": "1532d99b",
   "metadata": {},
   "outputs": [
    {
     "name": "stdout",
     "output_type": "stream",
     "text": [
      "Epoch [1/5], Step [3000/18063], Loss: 0.9184\n",
      "Epoch [1/5], Step [6000/18063], Loss: 3.5995\n",
      "Epoch [1/5], Step [9000/18063], Loss: 0.1365\n",
      "Epoch [1/5], Step [12000/18063], Loss: 0.4763\n",
      "Epoch [1/5], Step [15000/18063], Loss: 0.0523\n",
      "Epoch [1/5], Step [18000/18063], Loss: 0.0016\n",
      "Epoch [2/5], Step [3000/18063], Loss: 1.9079\n",
      "Epoch [2/5], Step [6000/18063], Loss: 0.8873\n",
      "Epoch [2/5], Step [9000/18063], Loss: 0.3316\n",
      "Epoch [2/5], Step [12000/18063], Loss: 1.2096\n",
      "Epoch [2/5], Step [15000/18063], Loss: 0.0001\n",
      "Epoch [2/5], Step [18000/18063], Loss: 0.0000\n",
      "Epoch [3/5], Step [3000/18063], Loss: 0.1065\n",
      "Epoch [3/5], Step [6000/18063], Loss: 1.6960\n",
      "Epoch [3/5], Step [9000/18063], Loss: 0.0705\n",
      "Epoch [3/5], Step [12000/18063], Loss: 1.3771\n",
      "Epoch [3/5], Step [15000/18063], Loss: 1.0598\n",
      "Epoch [3/5], Step [18000/18063], Loss: 1.6466\n",
      "Epoch [4/5], Step [3000/18063], Loss: 0.0012\n",
      "Epoch [4/5], Step [6000/18063], Loss: 0.0361\n",
      "Epoch [4/5], Step [9000/18063], Loss: 0.0072\n",
      "Epoch [4/5], Step [12000/18063], Loss: 0.0237\n",
      "Epoch [4/5], Step [15000/18063], Loss: 0.0000\n",
      "Epoch [4/5], Step [18000/18063], Loss: 2.7292\n",
      "Epoch [5/5], Step [3000/18063], Loss: 0.0056\n",
      "Epoch [5/5], Step [6000/18063], Loss: 0.0000\n",
      "Epoch [5/5], Step [9000/18063], Loss: 0.1191\n",
      "Epoch [5/5], Step [12000/18063], Loss: 4.3334\n",
      "Epoch [5/5], Step [15000/18063], Loss: 0.0004\n",
      "Epoch [5/5], Step [18000/18063], Loss: 7.5329\n",
      "Done!\n"
     ]
    }
   ],
   "source": [
    "num_epochs = 5\n",
    "print_interval = 3000\n",
    "optimizer = torch.optim.Adam(model.parameters(), lr=learning_rate)\n",
    "\n",
    "Epoch_list_Adam = []\n",
    "Step_list_Adam = []\n",
    "Loss_list_Adam = []\n",
    "\n",
    "optimizer_name = 'Adam'\n",
    "\n",
    "start = timeit.default_timer()\n",
    "\n",
    "for epoch in range(num_epochs):\n",
    "    random.shuffle(train_dataset)\n",
    "    for i, (name, label) in enumerate(train_dataset):\n",
    "        hidden_state = model.init_hidden()\n",
    "        for char in name:\n",
    "            output, hidden_state = model(char, hidden_state)\n",
    "        loss = criterion(output, label)\n",
    "\n",
    "        optimizer.zero_grad()\n",
    "        loss.backward()\n",
    "        nn.utils.clip_grad_norm_(model.parameters(), 1)\n",
    "        optimizer.step()\n",
    "        \n",
    "        if (i + 1) % print_interval == 0:\n",
    "            Epoch = (epoch + 1)/num_epochs\n",
    "            Step = (i + 1)/len(train_dataset)\n",
    "            Loss = loss.item()\n",
    "            Epoch_list_Adam.append(Epoch)\n",
    "            Step_list_Adam.append(Step)\n",
    "            Loss_list_Adam.append(Loss)\n",
    "            print(\n",
    "                f\"Epoch [{epoch + 1}/{num_epochs}], \"\n",
    "                f\"Step [{i + 1}/{len(train_dataset)}], \"\n",
    "                f\"Loss: {loss.item():.4f}\"\n",
    "            )\n",
    "\n",
    "            result_list= store_result(result_list, optimizer_name,Epoch,Step,Loss)\n",
    "                      \n",
    "stop = timeit.default_timer()\n",
    "run_time = stop - start  \n",
    "run_time_list = store_time(run_time_list,optimizer_name,run_time)\n",
    "print(\"Done!\")  "
   ]
  },
  {
   "cell_type": "code",
   "execution_count": 896,
   "id": "49f1aa4d",
   "metadata": {},
   "outputs": [
    {
     "name": "stdout",
     "output_type": "stream",
     "text": [
      "Accuracy: 77.5785%\n"
     ]
    }
   ],
   "source": [
    "#testing\n",
    "num_correct = 0\n",
    "num_samples = len(test_dataset)\n",
    "\n",
    "model.eval()\n",
    "optimizer_name = 'Adam'\n",
    "Acc_list_SGD = []\n",
    "with torch.no_grad():\n",
    "    for name, label in test_dataset:\n",
    "        hidden_state = model.init_hidden()\n",
    "        for char in name:\n",
    "            output, hidden_state = model(char, hidden_state)\n",
    "        _, pred = torch.max(output, dim=1)\n",
    "        num_correct += bool(pred == label)\n",
    "Accuracy = num_correct / num_samples * 100\n",
    "test_list=store_accuracy(test_list,optimizer_name,Accuracy)\n",
    "print(f\"Accuracy: {num_correct / num_samples * 100:.4f}%\")"
   ]
  },
  {
   "cell_type": "markdown",
   "id": "399adff9",
   "metadata": {},
   "source": [
    "### NAdam"
   ]
  },
  {
   "cell_type": "code",
   "execution_count": 897,
   "id": "ff7e0ce4",
   "metadata": {},
   "outputs": [
    {
     "name": "stdout",
     "output_type": "stream",
     "text": [
      "Epoch [1/5], Step [3000/18063], Loss: 0.0103\n",
      "Epoch [1/5], Step [6000/18063], Loss: 0.1381\n",
      "Epoch [1/5], Step [9000/18063], Loss: 0.0000\n",
      "Epoch [1/5], Step [12000/18063], Loss: 0.0041\n",
      "Epoch [1/5], Step [15000/18063], Loss: 0.0022\n",
      "Epoch [1/5], Step [18000/18063], Loss: 0.3916\n",
      "Epoch [2/5], Step [3000/18063], Loss: 2.3944\n",
      "Epoch [2/5], Step [6000/18063], Loss: 0.0000\n",
      "Epoch [2/5], Step [9000/18063], Loss: 0.0534\n",
      "Epoch [2/5], Step [12000/18063], Loss: 0.6157\n",
      "Epoch [2/5], Step [15000/18063], Loss: 0.0000\n",
      "Epoch [2/5], Step [18000/18063], Loss: 0.0002\n",
      "Epoch [3/5], Step [3000/18063], Loss: 0.0181\n",
      "Epoch [3/5], Step [6000/18063], Loss: 5.7172\n",
      "Epoch [3/5], Step [9000/18063], Loss: 0.0002\n",
      "Epoch [3/5], Step [12000/18063], Loss: 0.0121\n",
      "Epoch [3/5], Step [15000/18063], Loss: 0.2955\n",
      "Epoch [3/5], Step [18000/18063], Loss: 0.0000\n",
      "Epoch [4/5], Step [3000/18063], Loss: 0.0003\n",
      "Epoch [4/5], Step [6000/18063], Loss: 0.0000\n",
      "Epoch [4/5], Step [9000/18063], Loss: 0.0045\n",
      "Epoch [4/5], Step [12000/18063], Loss: 0.0000\n",
      "Epoch [4/5], Step [15000/18063], Loss: 0.0009\n",
      "Epoch [4/5], Step [18000/18063], Loss: 1.0680\n",
      "Epoch [5/5], Step [3000/18063], Loss: 0.1081\n",
      "Epoch [5/5], Step [6000/18063], Loss: 0.0310\n",
      "Epoch [5/5], Step [9000/18063], Loss: 0.0000\n",
      "Epoch [5/5], Step [12000/18063], Loss: 0.0001\n",
      "Epoch [5/5], Step [15000/18063], Loss: 0.1485\n",
      "Epoch [5/5], Step [18000/18063], Loss: 2.6065\n",
      "Done!\n"
     ]
    }
   ],
   "source": [
    "num_epochs = 5\n",
    "print_interval = 3000\n",
    "optimizer = torch.optim.NAdam(model.parameters(), lr=learning_rate)\n",
    "\n",
    "Epoch_list_NAdam = []\n",
    "Step_list_NAdam = []\n",
    "Loss_list_NAdam = []\n",
    "\n",
    "optimizer_name = 'NAdam'\n",
    "\n",
    "start = timeit.default_timer()\n",
    "\n",
    "for epoch in range(num_epochs):\n",
    "    random.shuffle(train_dataset)\n",
    "    for i, (name, label) in enumerate(train_dataset):\n",
    "        hidden_state = model.init_hidden()\n",
    "        for char in name:\n",
    "            output, hidden_state = model(char, hidden_state)\n",
    "        loss = criterion(output, label)\n",
    "\n",
    "        optimizer.zero_grad()\n",
    "        loss.backward()\n",
    "        nn.utils.clip_grad_norm_(model.parameters(), 1)\n",
    "        optimizer.step()\n",
    "        \n",
    "        if (i + 1) % print_interval == 0:\n",
    "            Epoch = (epoch + 1)/num_epochs\n",
    "            Step = (i + 1)/len(train_dataset)\n",
    "            Loss = loss.item()\n",
    "            Epoch_list_NAdam.append(Epoch)\n",
    "            Step_list_NAdam.append(Step)\n",
    "            Loss_list_NAdam.append(Loss)\n",
    "            print(\n",
    "                f\"Epoch [{epoch + 1}/{num_epochs}], \"\n",
    "                f\"Step [{i + 1}/{len(train_dataset)}], \"\n",
    "                f\"Loss: {loss.item():.4f}\"\n",
    "            )\n",
    "\n",
    "            result_list= store_result(result_list, optimizer_name,Epoch,Step,Loss)\n",
    "                      \n",
    "stop = timeit.default_timer()\n",
    "run_time = stop - start  \n",
    "run_time_list = store_time(run_time_list,optimizer_name,run_time)\n",
    "print(\"Done!\")  "
   ]
  },
  {
   "cell_type": "code",
   "execution_count": 898,
   "id": "82b6b1d3",
   "metadata": {},
   "outputs": [
    {
     "name": "stdout",
     "output_type": "stream",
     "text": [
      "Accuracy: 81.1161%\n"
     ]
    }
   ],
   "source": [
    "#testing\n",
    "num_correct = 0\n",
    "num_samples = len(test_dataset)\n",
    "\n",
    "model.eval()\n",
    "optimizer_name = 'NAdam'\n",
    "Acc_list_SGD = []\n",
    "with torch.no_grad():\n",
    "    for name, label in test_dataset:\n",
    "        hidden_state = model.init_hidden()\n",
    "        for char in name:\n",
    "            output, hidden_state = model(char, hidden_state)\n",
    "        _, pred = torch.max(output, dim=1)\n",
    "        num_correct += bool(pred == label)\n",
    "Accuracy = num_correct / num_samples * 100\n",
    "test_list=store_accuracy(test_list,optimizer_name,Accuracy)\n",
    "print(f\"Accuracy: {num_correct / num_samples * 100:.4f}%\")"
   ]
  },
  {
   "cell_type": "markdown",
   "id": "7ea1a281",
   "metadata": {},
   "source": [
    "### RMSProp"
   ]
  },
  {
   "cell_type": "code",
   "execution_count": 899,
   "id": "49d238a8",
   "metadata": {},
   "outputs": [
    {
     "name": "stdout",
     "output_type": "stream",
     "text": [
      "Epoch [1/5], Step [3000/18063], Loss: 0.0264\n",
      "Epoch [1/5], Step [6000/18063], Loss: 0.0016\n",
      "Epoch [1/5], Step [9000/18063], Loss: 0.0001\n",
      "Epoch [1/5], Step [12000/18063], Loss: 0.0000\n",
      "Epoch [1/5], Step [15000/18063], Loss: 0.0103\n",
      "Epoch [1/5], Step [18000/18063], Loss: 0.0002\n",
      "Epoch [2/5], Step [3000/18063], Loss: 0.0110\n",
      "Epoch [2/5], Step [6000/18063], Loss: 0.0000\n",
      "Epoch [2/5], Step [9000/18063], Loss: 0.4185\n",
      "Epoch [2/5], Step [12000/18063], Loss: 0.0000\n",
      "Epoch [2/5], Step [15000/18063], Loss: 0.0076\n",
      "Epoch [2/5], Step [18000/18063], Loss: 0.4404\n",
      "Epoch [3/5], Step [3000/18063], Loss: 0.0001\n",
      "Epoch [3/5], Step [6000/18063], Loss: 5.8993\n",
      "Epoch [3/5], Step [9000/18063], Loss: 0.0000\n",
      "Epoch [3/5], Step [12000/18063], Loss: 0.0003\n",
      "Epoch [3/5], Step [15000/18063], Loss: 0.0000\n",
      "Epoch [3/5], Step [18000/18063], Loss: 0.0000\n",
      "Epoch [4/5], Step [3000/18063], Loss: 7.4077\n",
      "Epoch [4/5], Step [6000/18063], Loss: 0.0000\n",
      "Epoch [4/5], Step [9000/18063], Loss: 0.0000\n",
      "Epoch [4/5], Step [12000/18063], Loss: 0.0032\n",
      "Epoch [4/5], Step [15000/18063], Loss: 0.0000\n",
      "Epoch [4/5], Step [18000/18063], Loss: 1.2182\n",
      "Epoch [5/5], Step [3000/18063], Loss: 0.0028\n",
      "Epoch [5/5], Step [6000/18063], Loss: 0.0000\n",
      "Epoch [5/5], Step [9000/18063], Loss: 0.0000\n",
      "Epoch [5/5], Step [12000/18063], Loss: 0.0000\n",
      "Epoch [5/5], Step [15000/18063], Loss: 0.0313\n",
      "Epoch [5/5], Step [18000/18063], Loss: 0.0000\n",
      "Done!\n"
     ]
    }
   ],
   "source": [
    "num_epochs = 5\n",
    "print_interval = 3000\n",
    "optimizer = torch.optim.RMSprop(model.parameters(), lr=learning_rate)\n",
    "\n",
    "Epoch_list_RMSprop = []\n",
    "Step_list_RMSprop = []\n",
    "Loss_list_RMSprop = []\n",
    "\n",
    "optimizer_name = 'RMSprop'\n",
    "\n",
    "start = timeit.default_timer()\n",
    "\n",
    "for epoch in range(num_epochs):\n",
    "    random.shuffle(train_dataset)\n",
    "    for i, (name, label) in enumerate(train_dataset):\n",
    "        hidden_state = model.init_hidden()\n",
    "        for char in name:\n",
    "            output, hidden_state = model(char, hidden_state)\n",
    "        loss = criterion(output, label)\n",
    "\n",
    "        optimizer.zero_grad()\n",
    "        loss.backward()\n",
    "        nn.utils.clip_grad_norm_(model.parameters(), 1)\n",
    "        optimizer.step()\n",
    "        \n",
    "        if (i + 1) % print_interval == 0:\n",
    "            Epoch = (epoch + 1)/num_epochs\n",
    "            Step = (i + 1)/len(train_dataset)\n",
    "            Loss = loss.item()\n",
    "            Epoch_list_RMSprop.append(Epoch)\n",
    "            Step_list_RMSprop.append(Step)\n",
    "            Loss_list_RMSprop.append(Loss)\n",
    "            print(\n",
    "                f\"Epoch [{epoch + 1}/{num_epochs}], \"\n",
    "                f\"Step [{i + 1}/{len(train_dataset)}], \"\n",
    "                f\"Loss: {loss.item():.4f}\"\n",
    "            )\n",
    "\n",
    "            result_list= store_result(result_list, optimizer_name,Epoch,Step,Loss)\n",
    "                      \n",
    "stop = timeit.default_timer()\n",
    "run_time = stop - start  \n",
    "run_time_list = store_time(run_time_list,optimizer_name,run_time)\n",
    "print(\"Done!\")  "
   ]
  },
  {
   "cell_type": "code",
   "execution_count": 900,
   "id": "a236868e",
   "metadata": {},
   "outputs": [
    {
     "name": "stdout",
     "output_type": "stream",
     "text": [
      "Accuracy: 80.5680%\n"
     ]
    }
   ],
   "source": [
    "#testing\n",
    "num_correct = 0\n",
    "num_samples = len(test_dataset)\n",
    "\n",
    "model.eval()\n",
    "optimizer_name = 'RMSprop'\n",
    "Acc_list_SGD = []\n",
    "with torch.no_grad():\n",
    "    for name, label in test_dataset:\n",
    "        hidden_state = model.init_hidden()\n",
    "        for char in name:\n",
    "            output, hidden_state = model(char, hidden_state)\n",
    "        _, pred = torch.max(output, dim=1)\n",
    "        num_correct += bool(pred == label)\n",
    "Accuracy = num_correct / num_samples * 100\n",
    "test_list=store_accuracy(test_list,optimizer_name,Accuracy)\n",
    "print(f\"Accuracy: {num_correct / num_samples * 100:.4f}%\")"
   ]
  },
  {
   "cell_type": "code",
   "execution_count": 901,
   "id": "0b718ab1",
   "metadata": {},
   "outputs": [],
   "source": [
    "label2lang = {label.item(): lang for lang, label in lang2label.items()}\n",
    "\n",
    "def myrnn_predict(name):\n",
    "    model.eval()\n",
    "    tensor_name = name2tensor(name)\n",
    "    with torch.no_grad():\n",
    "        hidden_state = model.init_hidden()\n",
    "        for char in tensor_name:\n",
    "            output, hidden_state = model(char, hidden_state)\n",
    "        _, pred = torch.max(output, dim=1)\n",
    "    model.train()    \n",
    "    return label2lang[pred.item()]"
   ]
  },
  {
   "cell_type": "code",
   "execution_count": 902,
   "id": "6cee0da2",
   "metadata": {},
   "outputs": [
    {
     "data": {
      "text/plain": [
       "'Chinese'"
      ]
     },
     "execution_count": 902,
     "metadata": {},
     "output_type": "execute_result"
    }
   ],
   "source": [
    "myrnn_predict(\"Chung\")"
   ]
  },
  {
   "cell_type": "code",
   "execution_count": 920,
   "id": "bb332c83",
   "metadata": {},
   "outputs": [
    {
     "data": {
      "text/plain": [
       "'Italian'"
      ]
     },
     "execution_count": 920,
     "metadata": {},
     "output_type": "execute_result"
    }
   ],
   "source": [
    "myrnn_predict(\"Francesco\")"
   ]
  },
  {
   "cell_type": "code",
   "execution_count": 918,
   "id": "7119e630",
   "metadata": {},
   "outputs": [
    {
     "data": {
      "text/plain": [
       "'Russian'"
      ]
     },
     "execution_count": 918,
     "metadata": {},
     "output_type": "execute_result"
    }
   ],
   "source": [
    "myrnn_predict(\"Dimitris\")"
   ]
  },
  {
   "cell_type": "code",
   "execution_count": 906,
   "id": "51e081fa",
   "metadata": {},
   "outputs": [
    {
     "data": {
      "text/html": [
       "<div>\n",
       "<style scoped>\n",
       "    .dataframe tbody tr th:only-of-type {\n",
       "        vertical-align: middle;\n",
       "    }\n",
       "\n",
       "    .dataframe tbody tr th {\n",
       "        vertical-align: top;\n",
       "    }\n",
       "\n",
       "    .dataframe thead th {\n",
       "        text-align: right;\n",
       "    }\n",
       "</style>\n",
       "<table border=\"1\" class=\"dataframe\">\n",
       "  <thead>\n",
       "    <tr style=\"text-align: right;\">\n",
       "      <th></th>\n",
       "      <th>Optimizer</th>\n",
       "      <th>epoch</th>\n",
       "      <th>step</th>\n",
       "      <th>Loss</th>\n",
       "    </tr>\n",
       "  </thead>\n",
       "  <tbody>\n",
       "    <tr>\n",
       "      <th>0</th>\n",
       "      <td>SGD</td>\n",
       "      <td>0.2</td>\n",
       "      <td>0.166085</td>\n",
       "      <td>1.500255e-01</td>\n",
       "    </tr>\n",
       "    <tr>\n",
       "      <th>1</th>\n",
       "      <td>SGD</td>\n",
       "      <td>0.2</td>\n",
       "      <td>0.332171</td>\n",
       "      <td>5.819794e+00</td>\n",
       "    </tr>\n",
       "    <tr>\n",
       "      <th>2</th>\n",
       "      <td>SGD</td>\n",
       "      <td>0.2</td>\n",
       "      <td>0.498256</td>\n",
       "      <td>9.272457e-02</td>\n",
       "    </tr>\n",
       "    <tr>\n",
       "      <th>3</th>\n",
       "      <td>SGD</td>\n",
       "      <td>0.2</td>\n",
       "      <td>0.664341</td>\n",
       "      <td>4.001279e+00</td>\n",
       "    </tr>\n",
       "    <tr>\n",
       "      <th>4</th>\n",
       "      <td>SGD</td>\n",
       "      <td>0.2</td>\n",
       "      <td>0.830427</td>\n",
       "      <td>1.063962e-01</td>\n",
       "    </tr>\n",
       "    <tr>\n",
       "      <th>...</th>\n",
       "      <td>...</td>\n",
       "      <td>...</td>\n",
       "      <td>...</td>\n",
       "      <td>...</td>\n",
       "    </tr>\n",
       "    <tr>\n",
       "      <th>175</th>\n",
       "      <td>RMSprop</td>\n",
       "      <td>1.0</td>\n",
       "      <td>0.332171</td>\n",
       "      <td>0.000000e+00</td>\n",
       "    </tr>\n",
       "    <tr>\n",
       "      <th>176</th>\n",
       "      <td>RMSprop</td>\n",
       "      <td>1.0</td>\n",
       "      <td>0.498256</td>\n",
       "      <td>1.192093e-07</td>\n",
       "    </tr>\n",
       "    <tr>\n",
       "      <th>177</th>\n",
       "      <td>RMSprop</td>\n",
       "      <td>1.0</td>\n",
       "      <td>0.664341</td>\n",
       "      <td>1.192093e-07</td>\n",
       "    </tr>\n",
       "    <tr>\n",
       "      <th>178</th>\n",
       "      <td>RMSprop</td>\n",
       "      <td>1.0</td>\n",
       "      <td>0.830427</td>\n",
       "      <td>3.128871e-02</td>\n",
       "    </tr>\n",
       "    <tr>\n",
       "      <th>179</th>\n",
       "      <td>RMSprop</td>\n",
       "      <td>1.0</td>\n",
       "      <td>0.996512</td>\n",
       "      <td>4.053108e-06</td>\n",
       "    </tr>\n",
       "  </tbody>\n",
       "</table>\n",
       "<p>180 rows × 4 columns</p>\n",
       "</div>"
      ],
      "text/plain": [
       "    Optimizer  epoch      step          Loss\n",
       "0         SGD    0.2  0.166085  1.500255e-01\n",
       "1         SGD    0.2  0.332171  5.819794e+00\n",
       "2         SGD    0.2  0.498256  9.272457e-02\n",
       "3         SGD    0.2  0.664341  4.001279e+00\n",
       "4         SGD    0.2  0.830427  1.063962e-01\n",
       "..        ...    ...       ...           ...\n",
       "175   RMSprop    1.0  0.332171  0.000000e+00\n",
       "176   RMSprop    1.0  0.498256  1.192093e-07\n",
       "177   RMSprop    1.0  0.664341  1.192093e-07\n",
       "178   RMSprop    1.0  0.830427  3.128871e-02\n",
       "179   RMSprop    1.0  0.996512  4.053108e-06\n",
       "\n",
       "[180 rows x 4 columns]"
      ]
     },
     "execution_count": 906,
     "metadata": {},
     "output_type": "execute_result"
    }
   ],
   "source": [
    "result_df = pd.DataFrame.from_dict(result_list)\n",
    "result_df"
   ]
  },
  {
   "cell_type": "code",
   "execution_count": 907,
   "id": "51461ab0",
   "metadata": {},
   "outputs": [
    {
     "data": {
      "text/html": [
       "<div>\n",
       "<style scoped>\n",
       "    .dataframe tbody tr th:only-of-type {\n",
       "        vertical-align: middle;\n",
       "    }\n",
       "\n",
       "    .dataframe tbody tr th {\n",
       "        vertical-align: top;\n",
       "    }\n",
       "\n",
       "    .dataframe thead th {\n",
       "        text-align: right;\n",
       "    }\n",
       "</style>\n",
       "<table border=\"1\" class=\"dataframe\">\n",
       "  <thead>\n",
       "    <tr style=\"text-align: right;\">\n",
       "      <th></th>\n",
       "      <th>Optimizer</th>\n",
       "      <th>Accuracy</th>\n",
       "    </tr>\n",
       "  </thead>\n",
       "  <tbody>\n",
       "    <tr>\n",
       "      <th>0</th>\n",
       "      <td>SGD</td>\n",
       "      <td>46.885899</td>\n",
       "    </tr>\n",
       "    <tr>\n",
       "      <th>1</th>\n",
       "      <td>Momentum</td>\n",
       "      <td>54.110613</td>\n",
       "    </tr>\n",
       "    <tr>\n",
       "      <th>2</th>\n",
       "      <td>Adagrad</td>\n",
       "      <td>55.854509</td>\n",
       "    </tr>\n",
       "    <tr>\n",
       "      <th>3</th>\n",
       "      <td>Adam</td>\n",
       "      <td>77.578475</td>\n",
       "    </tr>\n",
       "    <tr>\n",
       "      <th>4</th>\n",
       "      <td>NAdam</td>\n",
       "      <td>81.116094</td>\n",
       "    </tr>\n",
       "    <tr>\n",
       "      <th>5</th>\n",
       "      <td>RMSprop</td>\n",
       "      <td>80.568012</td>\n",
       "    </tr>\n",
       "  </tbody>\n",
       "</table>\n",
       "</div>"
      ],
      "text/plain": [
       "  Optimizer   Accuracy\n",
       "0       SGD  46.885899\n",
       "1  Momentum  54.110613\n",
       "2   Adagrad  55.854509\n",
       "3      Adam  77.578475\n",
       "4     NAdam  81.116094\n",
       "5   RMSprop  80.568012"
      ]
     },
     "execution_count": 907,
     "metadata": {},
     "output_type": "execute_result"
    }
   ],
   "source": [
    "test_df = pd.DataFrame.from_dict(test_list)\n",
    "test_df"
   ]
  },
  {
   "cell_type": "code",
   "execution_count": 908,
   "id": "aebeb6db",
   "metadata": {},
   "outputs": [
    {
     "data": {
      "text/html": [
       "<div>\n",
       "<style scoped>\n",
       "    .dataframe tbody tr th:only-of-type {\n",
       "        vertical-align: middle;\n",
       "    }\n",
       "\n",
       "    .dataframe tbody tr th {\n",
       "        vertical-align: top;\n",
       "    }\n",
       "\n",
       "    .dataframe thead th {\n",
       "        text-align: right;\n",
       "    }\n",
       "</style>\n",
       "<table border=\"1\" class=\"dataframe\">\n",
       "  <thead>\n",
       "    <tr style=\"text-align: right;\">\n",
       "      <th></th>\n",
       "      <th>Optimizer</th>\n",
       "      <th>run time</th>\n",
       "    </tr>\n",
       "  </thead>\n",
       "  <tbody>\n",
       "    <tr>\n",
       "      <th>0</th>\n",
       "      <td>SGD</td>\n",
       "      <td>371.542002</td>\n",
       "    </tr>\n",
       "    <tr>\n",
       "      <th>1</th>\n",
       "      <td>Momentum</td>\n",
       "      <td>443.564311</td>\n",
       "    </tr>\n",
       "    <tr>\n",
       "      <th>2</th>\n",
       "      <td>Adagrad</td>\n",
       "      <td>356.249775</td>\n",
       "    </tr>\n",
       "    <tr>\n",
       "      <th>3</th>\n",
       "      <td>Adam</td>\n",
       "      <td>267.374623</td>\n",
       "    </tr>\n",
       "    <tr>\n",
       "      <th>4</th>\n",
       "      <td>NAdam</td>\n",
       "      <td>280.513415</td>\n",
       "    </tr>\n",
       "    <tr>\n",
       "      <th>5</th>\n",
       "      <td>RMSprop</td>\n",
       "      <td>244.494760</td>\n",
       "    </tr>\n",
       "  </tbody>\n",
       "</table>\n",
       "</div>"
      ],
      "text/plain": [
       "  Optimizer    run time\n",
       "0       SGD  371.542002\n",
       "1  Momentum  443.564311\n",
       "2   Adagrad  356.249775\n",
       "3      Adam  267.374623\n",
       "4     NAdam  280.513415\n",
       "5   RMSprop  244.494760"
      ]
     },
     "execution_count": 908,
     "metadata": {},
     "output_type": "execute_result"
    }
   ],
   "source": [
    "runtime_df = pd.DataFrame.from_dict(run_time_list)\n",
    "runtime_df"
   ]
  },
  {
   "cell_type": "code",
   "execution_count": 911,
   "id": "277becf8",
   "metadata": {},
   "outputs": [
    {
     "data": {
      "text/plain": [
       "(0.9, 460.0)"
      ]
     },
     "execution_count": 911,
     "metadata": {},
     "output_type": "execute_result"
    },
    {
     "data": {
      "image/png": "[encoded data removed]",
      "text/plain": [
       "<Figure size 432x288 with 1 Axes>"
      ]
     },
     "metadata": {
      "needs_background": "light"
     },
     "output_type": "display_data"
    }
   ],
   "source": [
    "import seaborn as sns\n",
    "\n",
    "fig , ax  = plt.subplots()\n",
    "sns.barplot(x ='Optimizer',y='run time' , data=runtime_df)\n",
    "ax.set_ylim(0.9,460)"
   ]
  },
  {
   "cell_type": "code",
   "execution_count": 912,
   "id": "59b49aaa",
   "metadata": {},
   "outputs": [
    {
     "data": {
      "text/plain": [
       "(0.9, 100.0)"
      ]
     },
     "execution_count": 912,
     "metadata": {},
     "output_type": "execute_result"
    },
    {
     "data": {
      "image/png": "[encoded data removed]",
      "text/plain": [
       "<Figure size 432x288 with 1 Axes>"
      ]
     },
     "metadata": {
      "needs_background": "light"
     },
     "output_type": "display_data"
    }
   ],
   "source": [
    "import seaborn as sns\n",
    "\n",
    "fig , ax  = plt.subplots()\n",
    "sns.barplot(x ='Optimizer',y='Accuracy' , data=test_df)\n",
    "ax.set_ylim(0.9,100)"
   ]
  },
  {
   "cell_type": "markdown",
   "id": "9665f228",
   "metadata": {},
   "source": [
    "## Third Task: Classification model with CNN"
   ]
  },
  {
   "cell_type": "code",
   "execution_count": 641,
   "id": "b76dae0f",
   "metadata": {},
   "outputs": [],
   "source": [
    "import torch\n",
    "import torch.nn as nn\n",
    "from torch.autograd import Variable\n",
    "import torch.utils.data as Data\n",
    "import torchvision\n",
    "import matplotlib.pyplot as plt"
   ]
  },
  {
   "cell_type": "code",
   "execution_count": 642,
   "id": "4f17cbe6",
   "metadata": {},
   "outputs": [
    {
     "data": {
      "text/plain": [
       "{'train': <torch.utils.data.dataloader.DataLoader at 0x1e643ae07f0>,\n",
       " 'test': <torch.utils.data.dataloader.DataLoader at 0x1e65a61f6d0>}"
      ]
     },
     "execution_count": 642,
     "metadata": {},
     "output_type": "execute_result"
    }
   ],
   "source": [
    "from torchvision import datasets\n",
    "from torchvision.transforms import ToTensor\n",
    "train_data = datasets.MNIST(\n",
    "    root = 'data',\n",
    "    train = True,                         \n",
    "    transform = ToTensor(), \n",
    "    download = True,            \n",
    ")\n",
    "test_data = datasets.MNIST(\n",
    "    root = 'data', \n",
    "    train = False, \n",
    "    transform = ToTensor()\n",
    ")\n",
    "\n",
    "\n",
    "loaders = {\n",
    "    'train' : torch.utils.data.DataLoader(train_data, \n",
    "                                          batch_size=100, \n",
    "                                          shuffle=True),\n",
    "    \n",
    "    'test'  : torch.utils.data.DataLoader(test_data, \n",
    "                                          batch_size=100, \n",
    "                                          shuffle=True),\n",
    "}\n",
    "loaders"
   ]
  },
  {
   "cell_type": "code",
   "execution_count": 643,
   "id": "046ce853",
   "metadata": {},
   "outputs": [
    {
     "name": "stdout",
     "output_type": "stream",
     "text": [
      "Dataset MNIST\n",
      "    Number of datapoints: 60000\n",
      "    Root location: data\n",
      "    Split: Train\n",
      "    StandardTransform\n",
      "Transform: ToTensor()\n"
     ]
    }
   ],
   "source": [
    "print(train_data)"
   ]
  },
  {
   "cell_type": "code",
   "execution_count": 644,
   "id": "dd8a85d6",
   "metadata": {},
   "outputs": [
    {
     "data": {
      "text/plain": [
       "600"
      ]
     },
     "execution_count": 644,
     "metadata": {},
     "output_type": "execute_result"
    }
   ],
   "source": [
    "len(loaders['train'])"
   ]
  },
  {
   "cell_type": "code",
   "execution_count": 645,
   "id": "bff60875",
   "metadata": {},
   "outputs": [
    {
     "data": {
      "text/plain": [
       "60000"
      ]
     },
     "execution_count": 645,
     "metadata": {},
     "output_type": "execute_result"
    }
   ],
   "source": [
    "len(loaders['train'].dataset)"
   ]
  },
  {
   "cell_type": "code",
   "execution_count": 646,
   "id": "133c5d70",
   "metadata": {},
   "outputs": [
    {
     "name": "stdout",
     "output_type": "stream",
     "text": [
      "Dataset MNIST\n",
      "    Number of datapoints: 10000\n",
      "    Root location: data\n",
      "    Split: Test\n",
      "    StandardTransform\n",
      "Transform: ToTensor()\n"
     ]
    }
   ],
   "source": [
    "print(test_data)"
   ]
  },
  {
   "cell_type": "code",
   "execution_count": 647,
   "id": "8c893250",
   "metadata": {},
   "outputs": [
    {
     "name": "stdout",
     "output_type": "stream",
     "text": [
      "torch.Size([60000, 28, 28])\n"
     ]
    }
   ],
   "source": [
    "#The MNIST database contains 60,000 training images and 10,000 testing images.\n",
    "print(train_data.data.size())"
   ]
  },
  {
   "cell_type": "code",
   "execution_count": 648,
   "id": "fb8d1338",
   "metadata": {},
   "outputs": [
    {
     "data": {
      "image/png": "[encoded data removed]",
      "text/plain": [
       "<Figure size 720x576 with 20 Axes>"
      ]
     },
     "metadata": {
      "needs_background": "light"
     },
     "output_type": "display_data"
    }
   ],
   "source": [
    "figure = plt.figure(figsize=(10, 8))\n",
    "cols, rows =5,4\n",
    "for i in range(1, cols * rows + 1):\n",
    "    sample_idx = torch.randint(len(train_data), size=(1,)).item()\n",
    "    img, label = train_data[sample_idx]\n",
    "    figure.add_subplot(rows, cols, i)\n",
    "    plt.title(label)\n",
    "    plt.axis(\"off\")\n",
    "    plt.imshow(img.squeeze(), cmap=\"gray\")\n",
    "plt.show()\n"
   ]
  },
  {
   "cell_type": "code",
   "execution_count": 649,
   "id": "73ef3d8d",
   "metadata": {},
   "outputs": [],
   "source": [
    "#in_channels=1: because our input is a grayscale image.\n",
    "\n",
    "import torch.nn as nn\n",
    "class CNN(nn.Module):\n",
    "    def __init__(self):\n",
    "        super(CNN, self).__init__()\n",
    "        self.conv1 = nn.Sequential(         \n",
    "            nn.Conv2d(\n",
    "                in_channels=1,              \n",
    "                out_channels=16,            \n",
    "                kernel_size=5,              \n",
    "                stride=1,                   \n",
    "                padding=2,                  \n",
    "            ),                              \n",
    "            nn.ReLU(),                      \n",
    "            nn.MaxPool2d(kernel_size=2),    \n",
    "        )\n",
    "        self.conv2 = nn.Sequential(         \n",
    "            nn.Conv2d(16, 32, 5, 1, 2),     \n",
    "            nn.ReLU(),                      \n",
    "            nn.MaxPool2d(2),                \n",
    "        )\n",
    "        # fully connected layer, output 10 classes\n",
    "        self.out = nn.Linear(32 * 7 * 7, 10)\n",
    "    def forward(self, x):\n",
    "        x = self.conv1(x)\n",
    "        x = self.conv2(x)\n",
    "        x = x.view(x.size(0), -1)       \n",
    "        output = self.out(x)\n",
    "        return output, x    # return x for visualization\n",
    "\n",
    "model = CNN()    "
   ]
  },
  {
   "cell_type": "code",
   "execution_count": 650,
   "id": "4f244a59",
   "metadata": {},
   "outputs": [],
   "source": [
    "loss_fn = nn.CrossEntropyLoss()   \n",
    "learning_rate = 0.01"
   ]
  },
  {
   "cell_type": "code",
   "execution_count": 651,
   "id": "1392afe4",
   "metadata": {},
   "outputs": [],
   "source": [
    "def train(loaders,model,loss_fn, optimizer):\n",
    "    \n",
    "    model.train()\n",
    "    total_step = len(loaders.dataset)\n",
    "\n",
    "    for i, (images, labels) in enumerate(loaders):\n",
    "        \n",
    "        # Compute prediction and loss\n",
    "        b_x = Variable(images)   # batch x\n",
    "        b_y = Variable(labels)   # batch y\n",
    "        output = model(b_x)[0]               \n",
    "        loss = loss_fn(output, b_y)\n",
    "        # Backpropagation\n",
    "        optimizer.zero_grad()           \n",
    "        loss.backward()             \n",
    "        optimizer.step()                \n",
    "            \n",
    "        if (i+1) % 100 == 0:\n",
    "            loss, current = loss.item(), (i+1) * len(images)\n",
    "            print(f\"loss: {loss:>7f}  [{current:>5d}/{total_step:>5d}]\")               "
   ]
  },
  {
   "cell_type": "code",
   "execution_count": 652,
   "id": "d816262d",
   "metadata": {},
   "outputs": [],
   "source": [
    "def test(loaders, model, loss_fn):\n",
    "    # Test the model\n",
    "    model.eval()\n",
    "    \n",
    "    total_step = len(loaders.dataset)\n",
    "    num_batches = len(loaders)\n",
    "    correct = 0\n",
    "#   total = 0\n",
    "    test_loss = 0\n",
    "    with torch.no_grad():\n",
    "        for images, labels in loaders:\n",
    "            test_output, last_layer = model(images)   #test_output=pred\n",
    "            test_loss += loss_fn(test_output,labels).item()\n",
    "            \n",
    "            pred_y = torch.max(test_output, 1)[1].data.squeeze()\n",
    "            \n",
    "            correct += (pred_y == labels).sum().item()\n",
    "    \n",
    "    test_loss /= num_batches\n",
    "    correct /= total_step\n",
    "    Acc_test = 100*correct\n",
    "    Avg_loss = test_loss\n",
    "    return Acc_test , Avg_loss\n",
    "\n",
    "    "
   ]
  },
  {
   "cell_type": "code",
   "execution_count": 653,
   "id": "65f2ea08",
   "metadata": {},
   "outputs": [],
   "source": [
    "# Specify a list to store the result\n",
    "result_list = []\n",
    "def store_result(cur_result_list, i_opt, i_epoch, i_Acc, i_Avg):\n",
    "    new_result={\n",
    "        'Optimizer': i_opt,\n",
    "        'epoch': i_epoch,\n",
    "        'Accuracy': i_Acc,\n",
    "        'Avg loss': i_Avg\n",
    "    }\n",
    "    cur_result_list.append(new_result)\n",
    "    \n",
    "    return cur_result_list"
   ]
  },
  {
   "cell_type": "code",
   "execution_count": 654,
   "id": "e557e3a1",
   "metadata": {},
   "outputs": [],
   "source": [
    "#Specify a list to store the run time of the optimizers\n",
    "run_time_list = []\n",
    "def store_time(cur_result_list, i_opt, i_time):\n",
    "    new_result={\n",
    "        'Optimizer': i_opt,\n",
    "        'run time': i_time\n",
    "    }\n",
    "    cur_result_list.append(new_result)\n",
    "    \n",
    "    return cur_result_list"
   ]
  },
  {
   "cell_type": "markdown",
   "id": "7939e7fc",
   "metadata": {},
   "source": [
    "### SGD"
   ]
  },
  {
   "cell_type": "code",
   "execution_count": 655,
   "id": "3e28a4aa",
   "metadata": {},
   "outputs": [
    {
     "name": "stdout",
     "output_type": "stream",
     "text": [
      "Epoch 1\n",
      "-------------------------------\n",
      "loss: 2.122066  [10000/60000]\n",
      "loss: 1.042447  [20000/60000]\n",
      "loss: 0.529839  [30000/60000]\n",
      "loss: 0.383329  [40000/60000]\n",
      "loss: 0.398186  [50000/60000]\n",
      "loss: 0.401836  [60000/60000]\n",
      "Test Error: \n",
      " Accuracy: 90.5%, Avg loss: 0.323557 \n",
      "\n",
      "Epoch 2\n",
      "-------------------------------\n",
      "loss: 0.257684  [10000/60000]\n",
      "loss: 0.501604  [20000/60000]\n",
      "loss: 0.287103  [30000/60000]\n",
      "loss: 0.216696  [40000/60000]\n",
      "loss: 0.264443  [50000/60000]\n",
      "loss: 0.143224  [60000/60000]\n",
      "Test Error: \n",
      " Accuracy: 94.0%, Avg loss: 0.211175 \n",
      "\n",
      "Epoch 3\n",
      "-------------------------------\n",
      "loss: 0.260998  [10000/60000]\n",
      "loss: 0.215635  [20000/60000]\n",
      "loss: 0.280248  [30000/60000]\n",
      "loss: 0.165322  [40000/60000]\n",
      "loss: 0.210517  [50000/60000]\n",
      "loss: 0.222223  [60000/60000]\n",
      "Test Error: \n",
      " Accuracy: 95.4%, Avg loss: 0.161027 \n",
      "\n",
      "Epoch 4\n",
      "-------------------------------\n",
      "loss: 0.203204  [10000/60000]\n",
      "loss: 0.160898  [20000/60000]\n",
      "loss: 0.138771  [30000/60000]\n",
      "loss: 0.117760  [40000/60000]\n",
      "loss: 0.125085  [50000/60000]\n",
      "loss: 0.134082  [60000/60000]\n",
      "Test Error: \n",
      " Accuracy: 96.2%, Avg loss: 0.131370 \n",
      "\n",
      "Epoch 5\n",
      "-------------------------------\n",
      "loss: 0.120802  [10000/60000]\n",
      "loss: 0.214495  [20000/60000]\n",
      "loss: 0.189762  [30000/60000]\n",
      "loss: 0.178555  [40000/60000]\n",
      "loss: 0.069343  [50000/60000]\n",
      "loss: 0.117692  [60000/60000]\n",
      "Test Error: \n",
      " Accuracy: 96.8%, Avg loss: 0.108751 \n",
      "\n",
      "Epoch 6\n",
      "-------------------------------\n",
      "loss: 0.132004  [10000/60000]\n",
      "loss: 0.151907  [20000/60000]\n",
      "loss: 0.219876  [30000/60000]\n",
      "loss: 0.181195  [40000/60000]\n",
      "loss: 0.251635  [50000/60000]\n",
      "loss: 0.189680  [60000/60000]\n",
      "Test Error: \n",
      " Accuracy: 97.2%, Avg loss: 0.096043 \n",
      "\n",
      "Epoch 7\n",
      "-------------------------------\n",
      "loss: 0.111742  [10000/60000]\n",
      "loss: 0.104275  [20000/60000]\n",
      "loss: 0.043586  [30000/60000]\n",
      "loss: 0.071827  [40000/60000]\n",
      "loss: 0.028455  [50000/60000]\n",
      "loss: 0.216137  [60000/60000]\n",
      "Test Error: \n",
      " Accuracy: 97.5%, Avg loss: 0.087410 \n",
      "\n",
      "Epoch 8\n",
      "-------------------------------\n",
      "loss: 0.062154  [10000/60000]\n",
      "loss: 0.096109  [20000/60000]\n",
      "loss: 0.068718  [30000/60000]\n",
      "loss: 0.082392  [40000/60000]\n",
      "loss: 0.039945  [50000/60000]\n",
      "loss: 0.120962  [60000/60000]\n",
      "Test Error: \n",
      " Accuracy: 97.7%, Avg loss: 0.080545 \n",
      "\n",
      "Epoch 9\n",
      "-------------------------------\n",
      "loss: 0.108837  [10000/60000]\n",
      "loss: 0.030441  [20000/60000]\n",
      "loss: 0.114496  [30000/60000]\n",
      "loss: 0.034959  [40000/60000]\n",
      "loss: 0.100994  [50000/60000]\n",
      "loss: 0.125333  [60000/60000]\n",
      "Test Error: \n",
      " Accuracy: 97.6%, Avg loss: 0.080053 \n",
      "\n",
      "Epoch 10\n",
      "-------------------------------\n",
      "loss: 0.103601  [10000/60000]\n",
      "loss: 0.082071  [20000/60000]\n",
      "loss: 0.049750  [30000/60000]\n",
      "loss: 0.039115  [40000/60000]\n",
      "loss: 0.131058  [50000/60000]\n",
      "loss: 0.049951  [60000/60000]\n",
      "Test Error: \n",
      " Accuracy: 98.0%, Avg loss: 0.067889 \n",
      "\n",
      "Done!\n"
     ]
    }
   ],
   "source": [
    "#conduct the train and test\n",
    "loss_fn = nn.CrossEntropyLoss()\n",
    "optimizer = torch.optim.SGD(model.parameters(), lr=learning_rate)\n",
    "\n",
    "Acc_list_SGD = []\n",
    "Avg_list_SGD = []\n",
    "optimizer_name = 'SGD'\n",
    "start = timeit.default_timer()\n",
    "\n",
    "epochs = 10\n",
    "for t in range(epochs):\n",
    "    print(f\"Epoch {t+1}\\n-------------------------------\")\n",
    "    train(loaders['train'], model, loss_fn, optimizer)\n",
    "\n",
    "    Acc_test , Avg_loss = test(loaders['test'], model, loss_fn)\n",
    "    Acc_list_SGD.append(Acc_test)\n",
    "    Avg_list_SGD.append(Avg_loss)\n",
    "    print(f\"Test Error: \\n Accuracy: {(Acc_test):>0.1f}%, Avg loss: { Avg_loss:>8f} \\n\")\n",
    "    result_list= store_result(result_list, optimizer_name, \n",
    "                               t, Acc_test,Avg_loss)\n",
    "    \n",
    "stop = timeit.default_timer()\n",
    "run_time = stop - start  \n",
    "run_time_list = store_time(run_time_list,optimizer_name,run_time)\n",
    "print(\"Done!\")"
   ]
  },
  {
   "cell_type": "code",
   "execution_count": 656,
   "id": "19b0fa41",
   "metadata": {},
   "outputs": [
    {
     "data": {
      "image/png": "[encoded data removed]",
      "text/plain": [
       "<Figure size 432x288 with 1 Axes>"
      ]
     },
     "metadata": {
      "needs_background": "light"
     },
     "output_type": "display_data"
    }
   ],
   "source": [
    "#plot accuracy in each epoch\n",
    "k_epoch = [0,1,2,3,4,5,6,7,8,9]\n",
    "plt.plot(k_epoch,Acc_list_SGD,label='Accuracy')\n",
    "\n",
    "plt.title('Accuracy with SGD optimizer')\n",
    "plt.xlabel('epoch')\n",
    "plt.ylabel('Accuracy')\n",
    "plt.legend()\n",
    "plt.show()"
   ]
  },
  {
   "cell_type": "code",
   "execution_count": 657,
   "id": "7496d048",
   "metadata": {},
   "outputs": [
    {
     "data": {
      "image/png": "[encoded data removed]",
      "text/plain": [
       "<Figure size 432x288 with 1 Axes>"
      ]
     },
     "metadata": {
      "needs_background": "light"
     },
     "output_type": "display_data"
    }
   ],
   "source": [
    "#plot Avg loss in each epoch\n",
    "k_epoch = [0,1,2,3,4,5,6,7,8,9]\n",
    "plt.plot(k_epoch,Avg_list_SGD,label='Avg loss')\n",
    "\n",
    "plt.title('Average loss with SGD optimizer')\n",
    "plt.xlabel('epoch')\n",
    "plt.ylabel('Avg loss')\n",
    "plt.legend()\n",
    "plt.show()"
   ]
  },
  {
   "cell_type": "markdown",
   "id": "331a06e8",
   "metadata": {},
   "source": [
    "### SGD with Momentum"
   ]
  },
  {
   "cell_type": "code",
   "execution_count": 658,
   "id": "a98ee997",
   "metadata": {},
   "outputs": [
    {
     "name": "stdout",
     "output_type": "stream",
     "text": [
      "Epoch 1\n",
      "-------------------------------\n",
      "loss: 0.086960  [10000/60000]\n",
      "loss: 0.039647  [20000/60000]\n",
      "loss: 0.057434  [30000/60000]\n",
      "loss: 0.087532  [40000/60000]\n",
      "loss: 0.089467  [50000/60000]\n",
      "loss: 0.097460  [60000/60000]\n",
      "Test Error: \n",
      " Accuracy: 98.3%, Avg loss: 0.058248 \n",
      "\n",
      "Epoch 2\n",
      "-------------------------------\n",
      "loss: 0.123830  [10000/60000]\n",
      "loss: 0.134650  [20000/60000]\n",
      "loss: 0.048782  [30000/60000]\n",
      "loss: 0.049195  [40000/60000]\n",
      "loss: 0.046884  [50000/60000]\n",
      "loss: 0.051016  [60000/60000]\n",
      "Test Error: \n",
      " Accuracy: 98.6%, Avg loss: 0.043044 \n",
      "\n",
      "Epoch 3\n",
      "-------------------------------\n",
      "loss: 0.024143  [10000/60000]\n",
      "loss: 0.081955  [20000/60000]\n",
      "loss: 0.042959  [30000/60000]\n",
      "loss: 0.015678  [40000/60000]\n",
      "loss: 0.027811  [50000/60000]\n",
      "loss: 0.007761  [60000/60000]\n",
      "Test Error: \n",
      " Accuracy: 98.7%, Avg loss: 0.043634 \n",
      "\n",
      "Epoch 4\n",
      "-------------------------------\n",
      "loss: 0.025905  [10000/60000]\n",
      "loss: 0.058175  [20000/60000]\n",
      "loss: 0.019566  [30000/60000]\n",
      "loss: 0.033267  [40000/60000]\n",
      "loss: 0.050334  [50000/60000]\n",
      "loss: 0.046355  [60000/60000]\n",
      "Test Error: \n",
      " Accuracy: 98.4%, Avg loss: 0.049633 \n",
      "\n",
      "Epoch 5\n",
      "-------------------------------\n",
      "loss: 0.026019  [10000/60000]\n",
      "loss: 0.007986  [20000/60000]\n",
      "loss: 0.112142  [30000/60000]\n",
      "loss: 0.029204  [40000/60000]\n",
      "loss: 0.022826  [50000/60000]\n",
      "loss: 0.013739  [60000/60000]\n",
      "Test Error: \n",
      " Accuracy: 98.9%, Avg loss: 0.031882 \n",
      "\n",
      "Epoch 6\n",
      "-------------------------------\n",
      "loss: 0.035701  [10000/60000]\n",
      "loss: 0.065846  [20000/60000]\n",
      "loss: 0.044223  [30000/60000]\n",
      "loss: 0.009824  [40000/60000]\n",
      "loss: 0.009295  [50000/60000]\n",
      "loss: 0.070191  [60000/60000]\n",
      "Test Error: \n",
      " Accuracy: 98.8%, Avg loss: 0.037237 \n",
      "\n",
      "Epoch 7\n",
      "-------------------------------\n",
      "loss: 0.051324  [10000/60000]\n",
      "loss: 0.016139  [20000/60000]\n",
      "loss: 0.004583  [30000/60000]\n",
      "loss: 0.072820  [40000/60000]\n",
      "loss: 0.017579  [50000/60000]\n",
      "loss: 0.036521  [60000/60000]\n",
      "Test Error: \n",
      " Accuracy: 98.8%, Avg loss: 0.033371 \n",
      "\n",
      "Epoch 8\n",
      "-------------------------------\n",
      "loss: 0.041430  [10000/60000]\n",
      "loss: 0.014237  [20000/60000]\n",
      "loss: 0.025120  [30000/60000]\n",
      "loss: 0.056048  [40000/60000]\n",
      "loss: 0.024847  [50000/60000]\n",
      "loss: 0.043533  [60000/60000]\n",
      "Test Error: \n",
      " Accuracy: 98.8%, Avg loss: 0.035827 \n",
      "\n",
      "Epoch 9\n",
      "-------------------------------\n",
      "loss: 0.012871  [10000/60000]\n",
      "loss: 0.019793  [20000/60000]\n",
      "loss: 0.029088  [30000/60000]\n",
      "loss: 0.023271  [40000/60000]\n",
      "loss: 0.037793  [50000/60000]\n",
      "loss: 0.118086  [60000/60000]\n",
      "Test Error: \n",
      " Accuracy: 98.9%, Avg loss: 0.032075 \n",
      "\n",
      "Epoch 10\n",
      "-------------------------------\n",
      "loss: 0.004893  [10000/60000]\n",
      "loss: 0.004272  [20000/60000]\n",
      "loss: 0.025259  [30000/60000]\n",
      "loss: 0.010166  [40000/60000]\n",
      "loss: 0.039351  [50000/60000]\n",
      "loss: 0.007364  [60000/60000]\n",
      "Test Error: \n",
      " Accuracy: 98.9%, Avg loss: 0.032500 \n",
      "\n",
      "Done!\n"
     ]
    }
   ],
   "source": [
    "#conduct the train and test\n",
    "loss_fn = nn.CrossEntropyLoss()\n",
    "optimizer = torch.optim.SGD(model.parameters(), lr=learning_rate,momentum=0.9)\n",
    "\n",
    "Acc_list_Momentum = []\n",
    "Avg_list_Momentum = []\n",
    "optimizer_name = 'Momentum'\n",
    "start = timeit.default_timer()\n",
    "\n",
    "epochs = 10\n",
    "for t in range(epochs):\n",
    "    print(f\"Epoch {t+1}\\n-------------------------------\")\n",
    "    train(loaders['train'], model, loss_fn, optimizer)\n",
    "\n",
    "    Acc_test , Avg_loss = test(loaders['test'], model, loss_fn)\n",
    "    Acc_list_Momentum.append(Acc_test)\n",
    "    Avg_list_Momentum.append(Avg_loss)\n",
    "    print(f\"Test Error: \\n Accuracy: {(Acc_test):>0.1f}%, Avg loss: { Avg_loss:>8f} \\n\")\n",
    "    result_list= store_result(result_list, optimizer_name, \n",
    "                               t, Acc_test,Avg_loss)\n",
    "    \n",
    "stop = timeit.default_timer()\n",
    "run_time = stop - start  \n",
    "run_time_list = store_time(run_time_list,optimizer_name,run_time)\n",
    "print(\"Done!\")"
   ]
  },
  {
   "cell_type": "code",
   "execution_count": 659,
   "id": "b5f077b2",
   "metadata": {},
   "outputs": [
    {
     "data": {
      "image/png": "[encoded data removed]",
      "text/plain": [
       "<Figure size 432x288 with 1 Axes>"
      ]
     },
     "metadata": {
      "needs_background": "light"
     },
     "output_type": "display_data"
    }
   ],
   "source": [
    "#plot accuracy in each epoch\n",
    "k_epoch = [0,1,2,3,4,5,6,7,8,9]\n",
    "plt.plot(k_epoch,Acc_list_Momentum,label='Accuracy')\n",
    "\n",
    "plt.title('Accuracy with Momentum optimizer')\n",
    "plt.xlabel('epoch')\n",
    "plt.ylabel('Accuracy')\n",
    "plt.legend()\n",
    "plt.show()"
   ]
  },
  {
   "cell_type": "code",
   "execution_count": 660,
   "id": "068c1f51",
   "metadata": {},
   "outputs": [
    {
     "data": {
      "image/png": "[encoded data removed]",
      "text/plain": [
       "<Figure size 432x288 with 1 Axes>"
      ]
     },
     "metadata": {
      "needs_background": "light"
     },
     "output_type": "display_data"
    }
   ],
   "source": [
    "#plot Avg loss in each epoch\n",
    "k_epoch = [0,1,2,3,4,5,6,7,8,9]\n",
    "plt.plot(k_epoch,Avg_list_Momentum,label='Avg loss')\n",
    "\n",
    "plt.title('Average loss with Momentum optimizer')\n",
    "plt.xlabel('epoch')\n",
    "plt.ylabel('Avg loss')\n",
    "plt.legend()\n",
    "plt.show()"
   ]
  },
  {
   "cell_type": "markdown",
   "id": "97f1ad4c",
   "metadata": {},
   "source": [
    "### Adagrad"
   ]
  },
  {
   "cell_type": "code",
   "execution_count": 661,
   "id": "0cf22828",
   "metadata": {},
   "outputs": [
    {
     "name": "stdout",
     "output_type": "stream",
     "text": [
      "Epoch 1\n",
      "-------------------------------\n",
      "loss: 0.062369  [10000/60000]\n",
      "loss: 0.026333  [20000/60000]\n",
      "loss: 0.002510  [30000/60000]\n",
      "loss: 0.017485  [40000/60000]\n",
      "loss: 0.042456  [50000/60000]\n",
      "loss: 0.013846  [60000/60000]\n",
      "Test Error: \n",
      " Accuracy: 99.0%, Avg loss: 0.028548 \n",
      "\n",
      "Epoch 2\n",
      "-------------------------------\n",
      "loss: 0.005039  [10000/60000]\n",
      "loss: 0.022561  [20000/60000]\n",
      "loss: 0.035372  [30000/60000]\n",
      "loss: 0.004158  [40000/60000]\n",
      "loss: 0.001584  [50000/60000]\n",
      "loss: 0.001494  [60000/60000]\n",
      "Test Error: \n",
      " Accuracy: 99.0%, Avg loss: 0.027880 \n",
      "\n",
      "Epoch 3\n",
      "-------------------------------\n",
      "loss: 0.002338  [10000/60000]\n",
      "loss: 0.009198  [20000/60000]\n",
      "loss: 0.002094  [30000/60000]\n",
      "loss: 0.008533  [40000/60000]\n",
      "loss: 0.006793  [50000/60000]\n",
      "loss: 0.003165  [60000/60000]\n",
      "Test Error: \n",
      " Accuracy: 99.1%, Avg loss: 0.025996 \n",
      "\n",
      "Epoch 4\n",
      "-------------------------------\n",
      "loss: 0.002007  [10000/60000]\n",
      "loss: 0.003813  [20000/60000]\n",
      "loss: 0.036240  [30000/60000]\n",
      "loss: 0.020923  [40000/60000]\n",
      "loss: 0.012482  [50000/60000]\n",
      "loss: 0.015155  [60000/60000]\n",
      "Test Error: \n",
      " Accuracy: 99.1%, Avg loss: 0.027303 \n",
      "\n",
      "Epoch 5\n",
      "-------------------------------\n",
      "loss: 0.081523  [10000/60000]\n",
      "loss: 0.001562  [20000/60000]\n",
      "loss: 0.005897  [30000/60000]\n",
      "loss: 0.008750  [40000/60000]\n",
      "loss: 0.021450  [50000/60000]\n",
      "loss: 0.016489  [60000/60000]\n",
      "Test Error: \n",
      " Accuracy: 99.1%, Avg loss: 0.026151 \n",
      "\n",
      "Epoch 6\n",
      "-------------------------------\n",
      "loss: 0.056199  [10000/60000]\n",
      "loss: 0.013027  [20000/60000]\n",
      "loss: 0.001845  [30000/60000]\n",
      "loss: 0.000776  [40000/60000]\n",
      "loss: 0.016893  [50000/60000]\n",
      "loss: 0.003692  [60000/60000]\n",
      "Test Error: \n",
      " Accuracy: 99.0%, Avg loss: 0.026416 \n",
      "\n",
      "Epoch 7\n",
      "-------------------------------\n",
      "loss: 0.001138  [10000/60000]\n",
      "loss: 0.006952  [20000/60000]\n",
      "loss: 0.002023  [30000/60000]\n",
      "loss: 0.020650  [40000/60000]\n",
      "loss: 0.018861  [50000/60000]\n",
      "loss: 0.002162  [60000/60000]\n",
      "Test Error: \n",
      " Accuracy: 99.1%, Avg loss: 0.026152 \n",
      "\n",
      "Epoch 8\n",
      "-------------------------------\n",
      "loss: 0.018661  [10000/60000]\n",
      "loss: 0.004209  [20000/60000]\n",
      "loss: 0.008553  [30000/60000]\n",
      "loss: 0.006908  [40000/60000]\n",
      "loss: 0.002215  [50000/60000]\n",
      "loss: 0.008879  [60000/60000]\n",
      "Test Error: \n",
      " Accuracy: 99.1%, Avg loss: 0.025436 \n",
      "\n",
      "Epoch 9\n",
      "-------------------------------\n",
      "loss: 0.124974  [10000/60000]\n",
      "loss: 0.007750  [20000/60000]\n",
      "loss: 0.003698  [30000/60000]\n",
      "loss: 0.008213  [40000/60000]\n",
      "loss: 0.001857  [50000/60000]\n",
      "loss: 0.010667  [60000/60000]\n",
      "Test Error: \n",
      " Accuracy: 99.0%, Avg loss: 0.026748 \n",
      "\n",
      "Epoch 10\n",
      "-------------------------------\n",
      "loss: 0.007137  [10000/60000]\n",
      "loss: 0.001430  [20000/60000]\n",
      "loss: 0.014845  [30000/60000]\n",
      "loss: 0.040374  [40000/60000]\n",
      "loss: 0.007932  [50000/60000]\n",
      "loss: 0.001253  [60000/60000]\n",
      "Test Error: \n",
      " Accuracy: 99.1%, Avg loss: 0.026682 \n",
      "\n",
      "Done!\n"
     ]
    }
   ],
   "source": [
    "#conduct the train and test\n",
    "loss_fn = nn.CrossEntropyLoss()\n",
    "optimizer = torch.optim.Adagrad(model.parameters(), lr=learning_rate)\n",
    "\n",
    "Acc_list_Adagrad = []\n",
    "Avg_list_Adagrad = []\n",
    "optimizer_name = 'Adagrad'\n",
    "start = timeit.default_timer()\n",
    "\n",
    "epochs = 10\n",
    "for t in range(epochs):\n",
    "    print(f\"Epoch {t+1}\\n-------------------------------\")\n",
    "    train(loaders['train'], model, loss_fn, optimizer)\n",
    "\n",
    "    Acc_test , Avg_loss = test(loaders['test'], model, loss_fn)\n",
    "    Acc_list_Adagrad.append(Acc_test)\n",
    "    Avg_list_Adagrad.append(Avg_loss)\n",
    "    print(f\"Test Error: \\n Accuracy: {(Acc_test):>0.1f}%, Avg loss: { Avg_loss:>8f} \\n\")\n",
    "    result_list= store_result(result_list, optimizer_name, \n",
    "                               t, Acc_test,Avg_loss)\n",
    "    \n",
    "stop = timeit.default_timer()\n",
    "run_time = stop - start  \n",
    "run_time_list = store_time(run_time_list,optimizer_name,run_time)\n",
    "print(\"Done!\")"
   ]
  },
  {
   "cell_type": "code",
   "execution_count": 662,
   "id": "ef4e781f",
   "metadata": {},
   "outputs": [
    {
     "data": {
      "image/png": "[encoded data removed]",
      "text/plain": [
       "<Figure size 432x288 with 1 Axes>"
      ]
     },
     "metadata": {
      "needs_background": "light"
     },
     "output_type": "display_data"
    }
   ],
   "source": [
    "#plot accuracy in each epoch\n",
    "k_epoch = [0,1,2,3,4,5,6,7,8,9]\n",
    "plt.plot(k_epoch,Acc_list_Adagrad,label='Accuracy')\n",
    "\n",
    "plt.title('Accuracy with Adagrad optimizer')\n",
    "plt.xlabel('epoch')\n",
    "plt.ylabel('Accuracy')\n",
    "plt.legend()\n",
    "plt.show()"
   ]
  },
  {
   "cell_type": "code",
   "execution_count": 663,
   "id": "8a09b2a0",
   "metadata": {},
   "outputs": [
    {
     "data": {
      "image/png": "[encoded data removed]",
      "text/plain": [
       "<Figure size 432x288 with 1 Axes>"
      ]
     },
     "metadata": {
      "needs_background": "light"
     },
     "output_type": "display_data"
    }
   ],
   "source": [
    "#plot Avg loss in each epoch\n",
    "k_epoch = [0,1,2,3,4,5,6,7,8,9]\n",
    "plt.plot(k_epoch,Avg_list_Adagrad,label='Avg loss')\n",
    "\n",
    "plt.title('Average loss with Adagrad optimizer')\n",
    "plt.xlabel('epoch')\n",
    "plt.ylabel('Avg loss')\n",
    "plt.legend()\n",
    "plt.show()"
   ]
  },
  {
   "cell_type": "markdown",
   "id": "5cb74437",
   "metadata": {},
   "source": [
    "### Adam"
   ]
  },
  {
   "cell_type": "code",
   "execution_count": 664,
   "id": "4da51984",
   "metadata": {},
   "outputs": [
    {
     "name": "stdout",
     "output_type": "stream",
     "text": [
      "Epoch 1\n",
      "-------------------------------\n",
      "loss: 0.078125  [10000/60000]\n",
      "loss: 0.041640  [20000/60000]\n",
      "loss: 0.034680  [30000/60000]\n",
      "loss: 0.065984  [40000/60000]\n",
      "loss: 0.055223  [50000/60000]\n",
      "loss: 0.074604  [60000/60000]\n",
      "Test Error: \n",
      " Accuracy: 98.4%, Avg loss: 0.050932 \n",
      "\n",
      "Epoch 2\n",
      "-------------------------------\n",
      "loss: 0.030709  [10000/60000]\n",
      "loss: 0.055557  [20000/60000]\n",
      "loss: 0.013478  [30000/60000]\n",
      "loss: 0.030386  [40000/60000]\n",
      "loss: 0.011632  [50000/60000]\n",
      "loss: 0.012958  [60000/60000]\n",
      "Test Error: \n",
      " Accuracy: 98.6%, Avg loss: 0.047302 \n",
      "\n",
      "Epoch 3\n",
      "-------------------------------\n",
      "loss: 0.018066  [10000/60000]\n",
      "loss: 0.034786  [20000/60000]\n",
      "loss: 0.031755  [30000/60000]\n",
      "loss: 0.010692  [40000/60000]\n",
      "loss: 0.096309  [50000/60000]\n",
      "loss: 0.059471  [60000/60000]\n",
      "Test Error: \n",
      " Accuracy: 98.5%, Avg loss: 0.043619 \n",
      "\n",
      "Epoch 4\n",
      "-------------------------------\n",
      "loss: 0.041766  [10000/60000]\n",
      "loss: 0.051390  [20000/60000]\n",
      "loss: 0.008239  [30000/60000]\n",
      "loss: 0.024582  [40000/60000]\n",
      "loss: 0.017276  [50000/60000]\n",
      "loss: 0.000256  [60000/60000]\n",
      "Test Error: \n",
      " Accuracy: 98.7%, Avg loss: 0.039917 \n",
      "\n",
      "Epoch 5\n",
      "-------------------------------\n",
      "loss: 0.048530  [10000/60000]\n",
      "loss: 0.013615  [20000/60000]\n",
      "loss: 0.001060  [30000/60000]\n",
      "loss: 0.032418  [40000/60000]\n",
      "loss: 0.002201  [50000/60000]\n",
      "loss: 0.056751  [60000/60000]\n",
      "Test Error: \n",
      " Accuracy: 98.7%, Avg loss: 0.047010 \n",
      "\n",
      "Epoch 6\n",
      "-------------------------------\n",
      "loss: 0.136157  [10000/60000]\n",
      "loss: 0.016179  [20000/60000]\n",
      "loss: 0.006525  [30000/60000]\n",
      "loss: 0.011452  [40000/60000]\n",
      "loss: 0.016435  [50000/60000]\n",
      "loss: 0.012766  [60000/60000]\n",
      "Test Error: \n",
      " Accuracy: 98.4%, Avg loss: 0.058358 \n",
      "\n",
      "Epoch 7\n",
      "-------------------------------\n",
      "loss: 0.005119  [10000/60000]\n",
      "loss: 0.049745  [20000/60000]\n",
      "loss: 0.001081  [30000/60000]\n",
      "loss: 0.152680  [40000/60000]\n",
      "loss: 0.036294  [50000/60000]\n",
      "loss: 0.010825  [60000/60000]\n",
      "Test Error: \n",
      " Accuracy: 98.6%, Avg loss: 0.048553 \n",
      "\n",
      "Epoch 8\n",
      "-------------------------------\n",
      "loss: 0.009659  [10000/60000]\n",
      "loss: 0.002100  [20000/60000]\n",
      "loss: 0.000855  [30000/60000]\n",
      "loss: 0.001320  [40000/60000]\n",
      "loss: 0.060205  [50000/60000]\n",
      "loss: 0.000619  [60000/60000]\n",
      "Test Error: \n",
      " Accuracy: 98.6%, Avg loss: 0.051635 \n",
      "\n",
      "Epoch 9\n",
      "-------------------------------\n",
      "loss: 0.003048  [10000/60000]\n",
      "loss: 0.070705  [20000/60000]\n",
      "loss: 0.007821  [30000/60000]\n",
      "loss: 0.002282  [40000/60000]\n",
      "loss: 0.003141  [50000/60000]\n",
      "loss: 0.148355  [60000/60000]\n",
      "Test Error: \n",
      " Accuracy: 98.3%, Avg loss: 0.060154 \n",
      "\n",
      "Epoch 10\n",
      "-------------------------------\n",
      "loss: 0.009442  [10000/60000]\n",
      "loss: 0.002817  [20000/60000]\n",
      "loss: 0.054871  [30000/60000]\n",
      "loss: 0.035548  [40000/60000]\n",
      "loss: 0.085186  [50000/60000]\n",
      "loss: 0.127487  [60000/60000]\n",
      "Test Error: \n",
      " Accuracy: 98.5%, Avg loss: 0.063563 \n",
      "\n",
      "Done!\n"
     ]
    }
   ],
   "source": [
    "#conduct the train and test\n",
    "loss_fn = nn.CrossEntropyLoss()\n",
    "optimizer = torch.optim.Adam(model.parameters(), lr=learning_rate)\n",
    "\n",
    "Acc_list_Adam = []\n",
    "Avg_list_Adam = []\n",
    "optimizer_name = 'Adam'\n",
    "start = timeit.default_timer()\n",
    "\n",
    "epochs = 10\n",
    "for t in range(epochs):\n",
    "    print(f\"Epoch {t+1}\\n-------------------------------\")\n",
    "    train(loaders['train'], model, loss_fn, optimizer)\n",
    "\n",
    "    Acc_test , Avg_loss = test(loaders['test'], model, loss_fn)\n",
    "    Acc_list_Adam.append(Acc_test)\n",
    "    Avg_list_Adam.append(Avg_loss)\n",
    "    print(f\"Test Error: \\n Accuracy: {(Acc_test):>0.1f}%, Avg loss: { Avg_loss:>8f} \\n\")\n",
    "    result_list= store_result(result_list, optimizer_name, \n",
    "                               t, Acc_test,Avg_loss)\n",
    "    \n",
    "stop = timeit.default_timer()\n",
    "run_time = stop - start  \n",
    "run_time_list = store_time(run_time_list,optimizer_name,run_time)\n",
    "print(\"Done!\")"
   ]
  },
  {
   "cell_type": "code",
   "execution_count": 665,
   "id": "fba781e2",
   "metadata": {},
   "outputs": [
    {
     "data": {
      "image/png": "[encoded data removed]",
      "text/plain": [
       "<Figure size 432x288 with 1 Axes>"
      ]
     },
     "metadata": {
      "needs_background": "light"
     },
     "output_type": "display_data"
    }
   ],
   "source": [
    "#plot accuracy in each epoch\n",
    "k_epoch = [0,1,2,3,4,5,6,7,8,9]\n",
    "plt.plot(k_epoch,Acc_list_Adam,label='Accuracy')\n",
    "\n",
    "plt.title('Accuracy with Adam optimizer')\n",
    "plt.xlabel('epoch')\n",
    "plt.ylabel('Accuracy')\n",
    "plt.legend()\n",
    "plt.show()"
   ]
  },
  {
   "cell_type": "code",
   "execution_count": 666,
   "id": "acdb0d0e",
   "metadata": {},
   "outputs": [
    {
     "data": {
      "image/png": "[encoded data removed]",
      "text/plain": [
       "<Figure size 432x288 with 1 Axes>"
      ]
     },
     "metadata": {
      "needs_background": "light"
     },
     "output_type": "display_data"
    }
   ],
   "source": [
    "#plot Avg loss in each epoch\n",
    "k_epoch = [0,1,2,3,4,5,6,7,8,9]\n",
    "plt.plot(k_epoch,Avg_list_Adam,label='Avg loss')\n",
    "\n",
    "plt.title('Average loss with Adam optimizer')\n",
    "plt.xlabel('epoch')\n",
    "plt.ylabel('Avg loss')\n",
    "plt.legend()\n",
    "plt.show()"
   ]
  },
  {
   "cell_type": "markdown",
   "id": "aa7c753d",
   "metadata": {},
   "source": [
    "### NAdam"
   ]
  },
  {
   "cell_type": "code",
   "execution_count": 667,
   "id": "467221d1",
   "metadata": {},
   "outputs": [
    {
     "name": "stdout",
     "output_type": "stream",
     "text": [
      "Epoch 1\n",
      "-------------------------------\n",
      "loss: 0.003344  [10000/60000]\n",
      "loss: 0.008549  [20000/60000]\n",
      "loss: 0.004347  [30000/60000]\n",
      "loss: 0.001586  [40000/60000]\n",
      "loss: 0.243975  [50000/60000]\n",
      "loss: 0.074056  [60000/60000]\n",
      "Test Error: \n",
      " Accuracy: 98.8%, Avg loss: 0.056773 \n",
      "\n",
      "Epoch 2\n",
      "-------------------------------\n",
      "loss: 0.001526  [10000/60000]\n",
      "loss: 0.000434  [20000/60000]\n",
      "loss: 0.082022  [30000/60000]\n",
      "loss: 0.000528  [40000/60000]\n",
      "loss: 0.106612  [50000/60000]\n",
      "loss: 0.042075  [60000/60000]\n",
      "Test Error: \n",
      " Accuracy: 98.5%, Avg loss: 0.097738 \n",
      "\n",
      "Epoch 3\n",
      "-------------------------------\n",
      "loss: 0.004216  [10000/60000]\n",
      "loss: 0.010710  [20000/60000]\n",
      "loss: 0.000142  [30000/60000]\n",
      "loss: 0.003181  [40000/60000]\n",
      "loss: 0.039861  [50000/60000]\n",
      "loss: 0.074030  [60000/60000]\n",
      "Test Error: \n",
      " Accuracy: 98.5%, Avg loss: 0.091793 \n",
      "\n",
      "Epoch 4\n",
      "-------------------------------\n",
      "loss: 0.065772  [10000/60000]\n",
      "loss: 0.003071  [20000/60000]\n",
      "loss: 0.000102  [30000/60000]\n",
      "loss: 0.014659  [40000/60000]\n",
      "loss: 0.003328  [50000/60000]\n",
      "loss: 0.000000  [60000/60000]\n",
      "Test Error: \n",
      " Accuracy: 98.7%, Avg loss: 0.107708 \n",
      "\n",
      "Epoch 5\n",
      "-------------------------------\n",
      "loss: 0.000007  [10000/60000]\n",
      "loss: 0.000134  [20000/60000]\n",
      "loss: 0.022394  [30000/60000]\n",
      "loss: 0.058809  [40000/60000]\n",
      "loss: 0.000671  [50000/60000]\n",
      "loss: 0.106714  [60000/60000]\n",
      "Test Error: \n",
      " Accuracy: 98.6%, Avg loss: 0.119644 \n",
      "\n",
      "Epoch 6\n",
      "-------------------------------\n",
      "loss: 0.134030  [10000/60000]\n",
      "loss: 0.008603  [20000/60000]\n",
      "loss: 0.009956  [30000/60000]\n",
      "loss: 0.212350  [40000/60000]\n",
      "loss: 0.003660  [50000/60000]\n",
      "loss: 0.009282  [60000/60000]\n",
      "Test Error: \n",
      " Accuracy: 98.8%, Avg loss: 0.099970 \n",
      "\n",
      "Epoch 7\n",
      "-------------------------------\n",
      "loss: 0.013200  [10000/60000]\n",
      "loss: 0.000927  [20000/60000]\n",
      "loss: 0.000011  [30000/60000]\n",
      "loss: 0.003043  [40000/60000]\n",
      "loss: 0.000090  [50000/60000]\n",
      "loss: 0.141673  [60000/60000]\n",
      "Test Error: \n",
      " Accuracy: 98.8%, Avg loss: 0.086586 \n",
      "\n",
      "Epoch 8\n",
      "-------------------------------\n",
      "loss: 0.003919  [10000/60000]\n",
      "loss: 0.000003  [20000/60000]\n",
      "loss: 0.000005  [30000/60000]\n",
      "loss: 0.022913  [40000/60000]\n",
      "loss: 0.001857  [50000/60000]\n",
      "loss: 0.000112  [60000/60000]\n",
      "Test Error: \n",
      " Accuracy: 98.3%, Avg loss: 0.118038 \n",
      "\n",
      "Epoch 9\n",
      "-------------------------------\n",
      "loss: 0.000434  [10000/60000]\n",
      "loss: 0.000019  [20000/60000]\n",
      "loss: 0.000095  [30000/60000]\n",
      "loss: 0.042283  [40000/60000]\n",
      "loss: 0.000166  [50000/60000]\n",
      "loss: 0.101262  [60000/60000]\n",
      "Test Error: \n",
      " Accuracy: 98.4%, Avg loss: 0.141006 \n",
      "\n",
      "Epoch 10\n",
      "-------------------------------\n",
      "loss: 0.000052  [10000/60000]\n",
      "loss: 0.011095  [20000/60000]\n",
      "loss: 0.035479  [30000/60000]\n",
      "loss: 0.000127  [40000/60000]\n",
      "loss: 0.165248  [50000/60000]\n",
      "loss: 0.133798  [60000/60000]\n",
      "Test Error: \n",
      " Accuracy: 98.4%, Avg loss: 0.138394 \n",
      "\n",
      "Done!\n"
     ]
    }
   ],
   "source": [
    "#conduct the train and test\n",
    "loss_fn = nn.CrossEntropyLoss()\n",
    "optimizer = torch.optim.NAdam(model.parameters(), lr=learning_rate)\n",
    "\n",
    "Acc_list_NAdam = []\n",
    "Avg_list_NAdam = []\n",
    "optimizer_name = 'NAdam'\n",
    "start = timeit.default_timer()\n",
    "\n",
    "epochs = 10\n",
    "for t in range(epochs):\n",
    "    print(f\"Epoch {t+1}\\n-------------------------------\")\n",
    "    train(loaders['train'], model, loss_fn, optimizer)\n",
    "\n",
    "    Acc_test , Avg_loss = test(loaders['test'], model, loss_fn)\n",
    "    Acc_list_NAdam.append(Acc_test)\n",
    "    Avg_list_NAdam.append(Avg_loss)\n",
    "    print(f\"Test Error: \\n Accuracy: {(Acc_test):>0.1f}%, Avg loss: { Avg_loss:>8f} \\n\")\n",
    "    result_list= store_result(result_list, optimizer_name, \n",
    "                               t, Acc_test,Avg_loss)\n",
    "    \n",
    "stop = timeit.default_timer()\n",
    "run_time = stop - start  \n",
    "run_time_list = store_time(run_time_list,optimizer_name,run_time)\n",
    "print(\"Done!\")"
   ]
  },
  {
   "cell_type": "code",
   "execution_count": 668,
   "id": "3c58692e",
   "metadata": {},
   "outputs": [
    {
     "data": {
      "image/png": "[encoded data removed]",
      "text/plain": [
       "<Figure size 432x288 with 1 Axes>"
      ]
     },
     "metadata": {
      "needs_background": "light"
     },
     "output_type": "display_data"
    }
   ],
   "source": [
    "#plot accuracy in each epoch\n",
    "k_epoch = [0,1,2,3,4,5,6,7,8,9]\n",
    "plt.plot(k_epoch,Acc_list_NAdam,label='Accuracy')\n",
    "\n",
    "plt.title('Accuracy with NAdam optimizer')\n",
    "plt.xlabel('epoch')\n",
    "plt.ylabel('Accuracy')\n",
    "plt.legend()\n",
    "plt.show()"
   ]
  },
  {
   "cell_type": "code",
   "execution_count": 669,
   "id": "66cf1d53",
   "metadata": {},
   "outputs": [
    {
     "data": {
      "image/png": "[encoded data removed]",
      "text/plain": [
       "<Figure size 432x288 with 1 Axes>"
      ]
     },
     "metadata": {
      "needs_background": "light"
     },
     "output_type": "display_data"
    }
   ],
   "source": [
    "#plot Avg loss in each epoch\n",
    "k_epoch = [0,1,2,3,4,5,6,7,8,9]\n",
    "plt.plot(k_epoch,Avg_list_NAdam,label='Avg loss')\n",
    "\n",
    "plt.title('Average loss with NAdam optimizer')\n",
    "plt.xlabel('epoch')\n",
    "plt.ylabel('Avg loss')\n",
    "plt.legend()\n",
    "plt.show()"
   ]
  },
  {
   "cell_type": "markdown",
   "id": "18a0e83c",
   "metadata": {},
   "source": [
    "### RMSprop"
   ]
  },
  {
   "cell_type": "code",
   "execution_count": 670,
   "id": "4a070336",
   "metadata": {},
   "outputs": [
    {
     "name": "stdout",
     "output_type": "stream",
     "text": [
      "Epoch 1\n",
      "-------------------------------\n",
      "loss: 0.000000  [10000/60000]\n",
      "loss: 0.006725  [20000/60000]\n",
      "loss: 0.000000  [30000/60000]\n",
      "loss: 0.000935  [40000/60000]\n",
      "loss: 0.000000  [50000/60000]\n",
      "loss: 0.104846  [60000/60000]\n",
      "Test Error: \n",
      " Accuracy: 98.7%, Avg loss: 0.159396 \n",
      "\n",
      "Epoch 2\n",
      "-------------------------------\n",
      "loss: 0.000770  [10000/60000]\n",
      "loss: 0.000435  [20000/60000]\n",
      "loss: 0.000000  [30000/60000]\n",
      "loss: 0.249967  [40000/60000]\n",
      "loss: 0.000000  [50000/60000]\n",
      "loss: 0.249594  [60000/60000]\n",
      "Test Error: \n",
      " Accuracy: 98.7%, Avg loss: 0.168459 \n",
      "\n",
      "Epoch 3\n",
      "-------------------------------\n",
      "loss: 0.000001  [10000/60000]\n",
      "loss: 0.213859  [20000/60000]\n",
      "loss: 0.000004  [30000/60000]\n",
      "loss: 0.000000  [40000/60000]\n",
      "loss: 0.023448  [50000/60000]\n",
      "loss: 0.007967  [60000/60000]\n",
      "Test Error: \n",
      " Accuracy: 98.7%, Avg loss: 0.145208 \n",
      "\n",
      "Epoch 4\n",
      "-------------------------------\n",
      "loss: 0.000004  [10000/60000]\n",
      "loss: 0.000045  [20000/60000]\n",
      "loss: 0.000000  [30000/60000]\n",
      "loss: 0.047363  [40000/60000]\n",
      "loss: 0.048908  [50000/60000]\n",
      "loss: 0.261336  [60000/60000]\n",
      "Test Error: \n",
      " Accuracy: 98.7%, Avg loss: 0.152728 \n",
      "\n",
      "Epoch 5\n",
      "-------------------------------\n",
      "loss: 0.000001  [10000/60000]\n",
      "loss: 0.000076  [20000/60000]\n",
      "loss: 0.000004  [30000/60000]\n",
      "loss: 0.000470  [40000/60000]\n",
      "loss: 0.000000  [50000/60000]\n",
      "loss: 0.043247  [60000/60000]\n",
      "Test Error: \n",
      " Accuracy: 98.8%, Avg loss: 0.178694 \n",
      "\n",
      "Epoch 6\n",
      "-------------------------------\n",
      "loss: 0.000000  [10000/60000]\n",
      "loss: 0.000000  [20000/60000]\n",
      "loss: 0.000480  [30000/60000]\n",
      "loss: 0.000000  [40000/60000]\n",
      "loss: 0.224723  [50000/60000]\n",
      "loss: 0.143025  [60000/60000]\n",
      "Test Error: \n",
      " Accuracy: 98.4%, Avg loss: 0.296378 \n",
      "\n",
      "Epoch 7\n",
      "-------------------------------\n",
      "loss: 0.000000  [10000/60000]\n",
      "loss: 0.000000  [20000/60000]\n",
      "loss: 0.030275  [30000/60000]\n",
      "loss: 0.000000  [40000/60000]\n",
      "loss: 0.000000  [50000/60000]\n",
      "loss: 0.000000  [60000/60000]\n",
      "Test Error: \n",
      " Accuracy: 99.1%, Avg loss: 0.194421 \n",
      "\n",
      "Epoch 8\n",
      "-------------------------------\n",
      "loss: 0.005503  [10000/60000]\n",
      "loss: 0.031871  [20000/60000]\n",
      "loss: 0.000001  [30000/60000]\n",
      "loss: 0.000000  [40000/60000]\n",
      "loss: 0.090030  [50000/60000]\n",
      "loss: 0.000000  [60000/60000]\n",
      "Test Error: \n",
      " Accuracy: 98.8%, Avg loss: 0.263305 \n",
      "\n",
      "Epoch 9\n",
      "-------------------------------\n",
      "loss: 0.000000  [10000/60000]\n",
      "loss: 0.000000  [20000/60000]\n",
      "loss: 0.050599  [30000/60000]\n",
      "loss: 0.000003  [40000/60000]\n",
      "loss: 0.032090  [50000/60000]\n",
      "loss: 0.031679  [60000/60000]\n",
      "Test Error: \n",
      " Accuracy: 98.9%, Avg loss: 0.252299 \n",
      "\n",
      "Epoch 10\n",
      "-------------------------------\n",
      "loss: 0.000130  [10000/60000]\n",
      "loss: 0.000001  [20000/60000]\n",
      "loss: 0.000000  [30000/60000]\n",
      "loss: 0.000000  [40000/60000]\n",
      "loss: 0.000000  [50000/60000]\n",
      "loss: 0.000000  [60000/60000]\n",
      "Test Error: \n",
      " Accuracy: 98.8%, Avg loss: 0.337575 \n",
      "\n",
      "Done!\n"
     ]
    }
   ],
   "source": [
    "#conduct the train and test\n",
    "loss_fn = nn.CrossEntropyLoss()\n",
    "optimizer = torch.optim.RMSprop(model.parameters(), lr=learning_rate)\n",
    "\n",
    "Acc_list_RMSprop = []\n",
    "Avg_list_RMSprop = []\n",
    "optimizer_name = 'RMSprop'\n",
    "start = timeit.default_timer()\n",
    "\n",
    "epochs = 10\n",
    "for t in range(epochs):\n",
    "    print(f\"Epoch {t+1}\\n-------------------------------\")\n",
    "    train(loaders['train'], model, loss_fn, optimizer)\n",
    "\n",
    "    Acc_test , Avg_loss = test(loaders['test'], model, loss_fn)\n",
    "    Acc_list_RMSprop.append(Acc_test)\n",
    "    Avg_list_RMSprop.append(Avg_loss)\n",
    "    print(f\"Test Error: \\n Accuracy: {(Acc_test):>0.1f}%, Avg loss: { Avg_loss:>8f} \\n\")\n",
    "    result_list= store_result(result_list, optimizer_name, \n",
    "                               t, Acc_test,Avg_loss)\n",
    "    \n",
    "stop = timeit.default_timer()\n",
    "run_time = stop - start  \n",
    "run_time_list = store_time(run_time_list,optimizer_name,run_time)\n",
    "print(\"Done!\")"
   ]
  },
  {
   "cell_type": "code",
   "execution_count": 671,
   "id": "a7e0ec60",
   "metadata": {},
   "outputs": [
    {
     "data": {
      "image/png": "[encoded data removed]",
      "text/plain": [
       "<Figure size 432x288 with 1 Axes>"
      ]
     },
     "metadata": {
      "needs_background": "light"
     },
     "output_type": "display_data"
    }
   ],
   "source": [
    "#plot accuracy in each epoch\n",
    "k_epoch = [0,1,2,3,4,5,6,7,8,9]\n",
    "plt.plot(k_epoch,Acc_list_RMSprop,label='Accuracy')\n",
    "\n",
    "plt.title('Accuracy with RMSprop optimizer')\n",
    "plt.xlabel('epoch')\n",
    "plt.ylabel('Accuracy')\n",
    "plt.legend()\n",
    "plt.show()"
   ]
  },
  {
   "cell_type": "code",
   "execution_count": 672,
   "id": "eb6febbd",
   "metadata": {},
   "outputs": [
    {
     "data": {
      "image/png": "[encoded data removed]",
      "text/plain": [
       "<Figure size 432x288 with 1 Axes>"
      ]
     },
     "metadata": {
      "needs_background": "light"
     },
     "output_type": "display_data"
    }
   ],
   "source": [
    "#plot Avg loss in each epoch\n",
    "k_epoch = [0,1,2,3,4,5,6,7,8,9]\n",
    "plt.plot(k_epoch,Avg_list_RMSprop,label='Avg loss')\n",
    "\n",
    "plt.title('Average loss with RMSprop optimizer')\n",
    "plt.xlabel('epoch')\n",
    "plt.ylabel('Avg loss')\n",
    "plt.legend()\n",
    "plt.show()"
   ]
  },
  {
   "cell_type": "code",
   "execution_count": 673,
   "id": "44e53fc7",
   "metadata": {},
   "outputs": [
    {
     "data": {
      "text/html": [
       "<div>\n",
       "<style scoped>\n",
       "    .dataframe tbody tr th:only-of-type {\n",
       "        vertical-align: middle;\n",
       "    }\n",
       "\n",
       "    .dataframe tbody tr th {\n",
       "        vertical-align: top;\n",
       "    }\n",
       "\n",
       "    .dataframe thead th {\n",
       "        text-align: right;\n",
       "    }\n",
       "</style>\n",
       "<table border=\"1\" class=\"dataframe\">\n",
       "  <thead>\n",
       "    <tr style=\"text-align: right;\">\n",
       "      <th></th>\n",
       "      <th>Optimizer</th>\n",
       "      <th>epoch</th>\n",
       "      <th>Accuracy</th>\n",
       "      <th>Avg loss</th>\n",
       "    </tr>\n",
       "  </thead>\n",
       "  <tbody>\n",
       "    <tr>\n",
       "      <th>0</th>\n",
       "      <td>SGD</td>\n",
       "      <td>0</td>\n",
       "      <td>90.55</td>\n",
       "      <td>0.323557</td>\n",
       "    </tr>\n",
       "    <tr>\n",
       "      <th>1</th>\n",
       "      <td>SGD</td>\n",
       "      <td>1</td>\n",
       "      <td>93.97</td>\n",
       "      <td>0.211175</td>\n",
       "    </tr>\n",
       "    <tr>\n",
       "      <th>2</th>\n",
       "      <td>SGD</td>\n",
       "      <td>2</td>\n",
       "      <td>95.39</td>\n",
       "      <td>0.161027</td>\n",
       "    </tr>\n",
       "    <tr>\n",
       "      <th>3</th>\n",
       "      <td>SGD</td>\n",
       "      <td>3</td>\n",
       "      <td>96.16</td>\n",
       "      <td>0.131370</td>\n",
       "    </tr>\n",
       "    <tr>\n",
       "      <th>4</th>\n",
       "      <td>SGD</td>\n",
       "      <td>4</td>\n",
       "      <td>96.77</td>\n",
       "      <td>0.108751</td>\n",
       "    </tr>\n",
       "    <tr>\n",
       "      <th>5</th>\n",
       "      <td>SGD</td>\n",
       "      <td>5</td>\n",
       "      <td>97.17</td>\n",
       "      <td>0.096043</td>\n",
       "    </tr>\n",
       "    <tr>\n",
       "      <th>6</th>\n",
       "      <td>SGD</td>\n",
       "      <td>6</td>\n",
       "      <td>97.47</td>\n",
       "      <td>0.087410</td>\n",
       "    </tr>\n",
       "    <tr>\n",
       "      <th>7</th>\n",
       "      <td>SGD</td>\n",
       "      <td>7</td>\n",
       "      <td>97.67</td>\n",
       "      <td>0.080545</td>\n",
       "    </tr>\n",
       "    <tr>\n",
       "      <th>8</th>\n",
       "      <td>SGD</td>\n",
       "      <td>8</td>\n",
       "      <td>97.63</td>\n",
       "      <td>0.080053</td>\n",
       "    </tr>\n",
       "    <tr>\n",
       "      <th>9</th>\n",
       "      <td>SGD</td>\n",
       "      <td>9</td>\n",
       "      <td>97.98</td>\n",
       "      <td>0.067889</td>\n",
       "    </tr>\n",
       "    <tr>\n",
       "      <th>10</th>\n",
       "      <td>Momentum</td>\n",
       "      <td>0</td>\n",
       "      <td>98.26</td>\n",
       "      <td>0.058248</td>\n",
       "    </tr>\n",
       "    <tr>\n",
       "      <th>11</th>\n",
       "      <td>Momentum</td>\n",
       "      <td>1</td>\n",
       "      <td>98.58</td>\n",
       "      <td>0.043044</td>\n",
       "    </tr>\n",
       "    <tr>\n",
       "      <th>12</th>\n",
       "      <td>Momentum</td>\n",
       "      <td>2</td>\n",
       "      <td>98.69</td>\n",
       "      <td>0.043634</td>\n",
       "    </tr>\n",
       "    <tr>\n",
       "      <th>13</th>\n",
       "      <td>Momentum</td>\n",
       "      <td>3</td>\n",
       "      <td>98.42</td>\n",
       "      <td>0.049633</td>\n",
       "    </tr>\n",
       "    <tr>\n",
       "      <th>14</th>\n",
       "      <td>Momentum</td>\n",
       "      <td>4</td>\n",
       "      <td>98.93</td>\n",
       "      <td>0.031882</td>\n",
       "    </tr>\n",
       "    <tr>\n",
       "      <th>15</th>\n",
       "      <td>Momentum</td>\n",
       "      <td>5</td>\n",
       "      <td>98.79</td>\n",
       "      <td>0.037237</td>\n",
       "    </tr>\n",
       "    <tr>\n",
       "      <th>16</th>\n",
       "      <td>Momentum</td>\n",
       "      <td>6</td>\n",
       "      <td>98.84</td>\n",
       "      <td>0.033371</td>\n",
       "    </tr>\n",
       "    <tr>\n",
       "      <th>17</th>\n",
       "      <td>Momentum</td>\n",
       "      <td>7</td>\n",
       "      <td>98.83</td>\n",
       "      <td>0.035827</td>\n",
       "    </tr>\n",
       "    <tr>\n",
       "      <th>18</th>\n",
       "      <td>Momentum</td>\n",
       "      <td>8</td>\n",
       "      <td>98.90</td>\n",
       "      <td>0.032075</td>\n",
       "    </tr>\n",
       "    <tr>\n",
       "      <th>19</th>\n",
       "      <td>Momentum</td>\n",
       "      <td>9</td>\n",
       "      <td>98.93</td>\n",
       "      <td>0.032500</td>\n",
       "    </tr>\n",
       "    <tr>\n",
       "      <th>20</th>\n",
       "      <td>Adagrad</td>\n",
       "      <td>0</td>\n",
       "      <td>98.99</td>\n",
       "      <td>0.028548</td>\n",
       "    </tr>\n",
       "    <tr>\n",
       "      <th>21</th>\n",
       "      <td>Adagrad</td>\n",
       "      <td>1</td>\n",
       "      <td>99.00</td>\n",
       "      <td>0.027880</td>\n",
       "    </tr>\n",
       "    <tr>\n",
       "      <th>22</th>\n",
       "      <td>Adagrad</td>\n",
       "      <td>2</td>\n",
       "      <td>99.13</td>\n",
       "      <td>0.025996</td>\n",
       "    </tr>\n",
       "    <tr>\n",
       "      <th>23</th>\n",
       "      <td>Adagrad</td>\n",
       "      <td>3</td>\n",
       "      <td>99.07</td>\n",
       "      <td>0.027303</td>\n",
       "    </tr>\n",
       "    <tr>\n",
       "      <th>24</th>\n",
       "      <td>Adagrad</td>\n",
       "      <td>4</td>\n",
       "      <td>99.09</td>\n",
       "      <td>0.026151</td>\n",
       "    </tr>\n",
       "    <tr>\n",
       "      <th>25</th>\n",
       "      <td>Adagrad</td>\n",
       "      <td>5</td>\n",
       "      <td>99.03</td>\n",
       "      <td>0.026416</td>\n",
       "    </tr>\n",
       "    <tr>\n",
       "      <th>26</th>\n",
       "      <td>Adagrad</td>\n",
       "      <td>6</td>\n",
       "      <td>99.12</td>\n",
       "      <td>0.026152</td>\n",
       "    </tr>\n",
       "    <tr>\n",
       "      <th>27</th>\n",
       "      <td>Adagrad</td>\n",
       "      <td>7</td>\n",
       "      <td>99.10</td>\n",
       "      <td>0.025436</td>\n",
       "    </tr>\n",
       "    <tr>\n",
       "      <th>28</th>\n",
       "      <td>Adagrad</td>\n",
       "      <td>8</td>\n",
       "      <td>99.04</td>\n",
       "      <td>0.026748</td>\n",
       "    </tr>\n",
       "    <tr>\n",
       "      <th>29</th>\n",
       "      <td>Adagrad</td>\n",
       "      <td>9</td>\n",
       "      <td>99.10</td>\n",
       "      <td>0.026682</td>\n",
       "    </tr>\n",
       "    <tr>\n",
       "      <th>30</th>\n",
       "      <td>Adam</td>\n",
       "      <td>0</td>\n",
       "      <td>98.43</td>\n",
       "      <td>0.050932</td>\n",
       "    </tr>\n",
       "    <tr>\n",
       "      <th>31</th>\n",
       "      <td>Adam</td>\n",
       "      <td>1</td>\n",
       "      <td>98.57</td>\n",
       "      <td>0.047302</td>\n",
       "    </tr>\n",
       "    <tr>\n",
       "      <th>32</th>\n",
       "      <td>Adam</td>\n",
       "      <td>2</td>\n",
       "      <td>98.52</td>\n",
       "      <td>0.043619</td>\n",
       "    </tr>\n",
       "    <tr>\n",
       "      <th>33</th>\n",
       "      <td>Adam</td>\n",
       "      <td>3</td>\n",
       "      <td>98.74</td>\n",
       "      <td>0.039917</td>\n",
       "    </tr>\n",
       "    <tr>\n",
       "      <th>34</th>\n",
       "      <td>Adam</td>\n",
       "      <td>4</td>\n",
       "      <td>98.72</td>\n",
       "      <td>0.047010</td>\n",
       "    </tr>\n",
       "    <tr>\n",
       "      <th>35</th>\n",
       "      <td>Adam</td>\n",
       "      <td>5</td>\n",
       "      <td>98.38</td>\n",
       "      <td>0.058358</td>\n",
       "    </tr>\n",
       "    <tr>\n",
       "      <th>36</th>\n",
       "      <td>Adam</td>\n",
       "      <td>6</td>\n",
       "      <td>98.59</td>\n",
       "      <td>0.048553</td>\n",
       "    </tr>\n",
       "    <tr>\n",
       "      <th>37</th>\n",
       "      <td>Adam</td>\n",
       "      <td>7</td>\n",
       "      <td>98.64</td>\n",
       "      <td>0.051635</td>\n",
       "    </tr>\n",
       "    <tr>\n",
       "      <th>38</th>\n",
       "      <td>Adam</td>\n",
       "      <td>8</td>\n",
       "      <td>98.33</td>\n",
       "      <td>0.060154</td>\n",
       "    </tr>\n",
       "    <tr>\n",
       "      <th>39</th>\n",
       "      <td>Adam</td>\n",
       "      <td>9</td>\n",
       "      <td>98.48</td>\n",
       "      <td>0.063563</td>\n",
       "    </tr>\n",
       "    <tr>\n",
       "      <th>40</th>\n",
       "      <td>NAdam</td>\n",
       "      <td>0</td>\n",
       "      <td>98.84</td>\n",
       "      <td>0.056773</td>\n",
       "    </tr>\n",
       "    <tr>\n",
       "      <th>41</th>\n",
       "      <td>NAdam</td>\n",
       "      <td>1</td>\n",
       "      <td>98.51</td>\n",
       "      <td>0.097738</td>\n",
       "    </tr>\n",
       "    <tr>\n",
       "      <th>42</th>\n",
       "      <td>NAdam</td>\n",
       "      <td>2</td>\n",
       "      <td>98.51</td>\n",
       "      <td>0.091793</td>\n",
       "    </tr>\n",
       "    <tr>\n",
       "      <th>43</th>\n",
       "      <td>NAdam</td>\n",
       "      <td>3</td>\n",
       "      <td>98.67</td>\n",
       "      <td>0.107708</td>\n",
       "    </tr>\n",
       "    <tr>\n",
       "      <th>44</th>\n",
       "      <td>NAdam</td>\n",
       "      <td>4</td>\n",
       "      <td>98.63</td>\n",
       "      <td>0.119644</td>\n",
       "    </tr>\n",
       "    <tr>\n",
       "      <th>45</th>\n",
       "      <td>NAdam</td>\n",
       "      <td>5</td>\n",
       "      <td>98.77</td>\n",
       "      <td>0.099970</td>\n",
       "    </tr>\n",
       "    <tr>\n",
       "      <th>46</th>\n",
       "      <td>NAdam</td>\n",
       "      <td>6</td>\n",
       "      <td>98.79</td>\n",
       "      <td>0.086586</td>\n",
       "    </tr>\n",
       "    <tr>\n",
       "      <th>47</th>\n",
       "      <td>NAdam</td>\n",
       "      <td>7</td>\n",
       "      <td>98.33</td>\n",
       "      <td>0.118038</td>\n",
       "    </tr>\n",
       "    <tr>\n",
       "      <th>48</th>\n",
       "      <td>NAdam</td>\n",
       "      <td>8</td>\n",
       "      <td>98.43</td>\n",
       "      <td>0.141006</td>\n",
       "    </tr>\n",
       "    <tr>\n",
       "      <th>49</th>\n",
       "      <td>NAdam</td>\n",
       "      <td>9</td>\n",
       "      <td>98.40</td>\n",
       "      <td>0.138394</td>\n",
       "    </tr>\n",
       "    <tr>\n",
       "      <th>50</th>\n",
       "      <td>RMSprop</td>\n",
       "      <td>0</td>\n",
       "      <td>98.67</td>\n",
       "      <td>0.159396</td>\n",
       "    </tr>\n",
       "    <tr>\n",
       "      <th>51</th>\n",
       "      <td>RMSprop</td>\n",
       "      <td>1</td>\n",
       "      <td>98.72</td>\n",
       "      <td>0.168459</td>\n",
       "    </tr>\n",
       "    <tr>\n",
       "      <th>52</th>\n",
       "      <td>RMSprop</td>\n",
       "      <td>2</td>\n",
       "      <td>98.70</td>\n",
       "      <td>0.145208</td>\n",
       "    </tr>\n",
       "    <tr>\n",
       "      <th>53</th>\n",
       "      <td>RMSprop</td>\n",
       "      <td>3</td>\n",
       "      <td>98.74</td>\n",
       "      <td>0.152728</td>\n",
       "    </tr>\n",
       "    <tr>\n",
       "      <th>54</th>\n",
       "      <td>RMSprop</td>\n",
       "      <td>4</td>\n",
       "      <td>98.75</td>\n",
       "      <td>0.178694</td>\n",
       "    </tr>\n",
       "    <tr>\n",
       "      <th>55</th>\n",
       "      <td>RMSprop</td>\n",
       "      <td>5</td>\n",
       "      <td>98.35</td>\n",
       "      <td>0.296378</td>\n",
       "    </tr>\n",
       "    <tr>\n",
       "      <th>56</th>\n",
       "      <td>RMSprop</td>\n",
       "      <td>6</td>\n",
       "      <td>99.07</td>\n",
       "      <td>0.194421</td>\n",
       "    </tr>\n",
       "    <tr>\n",
       "      <th>57</th>\n",
       "      <td>RMSprop</td>\n",
       "      <td>7</td>\n",
       "      <td>98.84</td>\n",
       "      <td>0.263305</td>\n",
       "    </tr>\n",
       "    <tr>\n",
       "      <th>58</th>\n",
       "      <td>RMSprop</td>\n",
       "      <td>8</td>\n",
       "      <td>98.90</td>\n",
       "      <td>0.252299</td>\n",
       "    </tr>\n",
       "    <tr>\n",
       "      <th>59</th>\n",
       "      <td>RMSprop</td>\n",
       "      <td>9</td>\n",
       "      <td>98.81</td>\n",
       "      <td>0.337575</td>\n",
       "    </tr>\n",
       "  </tbody>\n",
       "</table>\n",
       "</div>"
      ],
      "text/plain": [
       "   Optimizer  epoch  Accuracy  Avg loss\n",
       "0        SGD      0     90.55  0.323557\n",
       "1        SGD      1     93.97  0.211175\n",
       "2        SGD      2     95.39  0.161027\n",
       "3        SGD      3     96.16  0.131370\n",
       "4        SGD      4     96.77  0.108751\n",
       "5        SGD      5     97.17  0.096043\n",
       "6        SGD      6     97.47  0.087410\n",
       "7        SGD      7     97.67  0.080545\n",
       "8        SGD      8     97.63  0.080053\n",
       "9        SGD      9     97.98  0.067889\n",
       "10  Momentum      0     98.26  0.058248\n",
       "11  Momentum      1     98.58  0.043044\n",
       "12  Momentum      2     98.69  0.043634\n",
       "13  Momentum      3     98.42  0.049633\n",
       "14  Momentum      4     98.93  0.031882\n",
       "15  Momentum      5     98.79  0.037237\n",
       "16  Momentum      6     98.84  0.033371\n",
       "17  Momentum      7     98.83  0.035827\n",
       "18  Momentum      8     98.90  0.032075\n",
       "19  Momentum      9     98.93  0.032500\n",
       "20   Adagrad      0     98.99  0.028548\n",
       "21   Adagrad      1     99.00  0.027880\n",
       "22   Adagrad      2     99.13  0.025996\n",
       "23   Adagrad      3     99.07  0.027303\n",
       "24   Adagrad      4     99.09  0.026151\n",
       "25   Adagrad      5     99.03  0.026416\n",
       "26   Adagrad      6     99.12  0.026152\n",
       "27   Adagrad      7     99.10  0.025436\n",
       "28   Adagrad      8     99.04  0.026748\n",
       "29   Adagrad      9     99.10  0.026682\n",
       "30      Adam      0     98.43  0.050932\n",
       "31      Adam      1     98.57  0.047302\n",
       "32      Adam      2     98.52  0.043619\n",
       "33      Adam      3     98.74  0.039917\n",
       "34      Adam      4     98.72  0.047010\n",
       "35      Adam      5     98.38  0.058358\n",
       "36      Adam      6     98.59  0.048553\n",
       "37      Adam      7     98.64  0.051635\n",
       "38      Adam      8     98.33  0.060154\n",
       "39      Adam      9     98.48  0.063563\n",
       "40     NAdam      0     98.84  0.056773\n",
       "41     NAdam      1     98.51  0.097738\n",
       "42     NAdam      2     98.51  0.091793\n",
       "43     NAdam      3     98.67  0.107708\n",
       "44     NAdam      4     98.63  0.119644\n",
       "45     NAdam      5     98.77  0.099970\n",
       "46     NAdam      6     98.79  0.086586\n",
       "47     NAdam      7     98.33  0.118038\n",
       "48     NAdam      8     98.43  0.141006\n",
       "49     NAdam      9     98.40  0.138394\n",
       "50   RMSprop      0     98.67  0.159396\n",
       "51   RMSprop      1     98.72  0.168459\n",
       "52   RMSprop      2     98.70  0.145208\n",
       "53   RMSprop      3     98.74  0.152728\n",
       "54   RMSprop      4     98.75  0.178694\n",
       "55   RMSprop      5     98.35  0.296378\n",
       "56   RMSprop      6     99.07  0.194421\n",
       "57   RMSprop      7     98.84  0.263305\n",
       "58   RMSprop      8     98.90  0.252299\n",
       "59   RMSprop      9     98.81  0.337575"
      ]
     },
     "execution_count": 673,
     "metadata": {},
     "output_type": "execute_result"
    }
   ],
   "source": [
    "result_df = pd.DataFrame.from_dict(result_list)\n",
    "result_df"
   ]
  },
  {
   "cell_type": "code",
   "execution_count": 674,
   "id": "7f082c22",
   "metadata": {},
   "outputs": [
    {
     "data": {
      "text/html": [
       "<div>\n",
       "<style scoped>\n",
       "    .dataframe tbody tr th:only-of-type {\n",
       "        vertical-align: middle;\n",
       "    }\n",
       "\n",
       "    .dataframe tbody tr th {\n",
       "        vertical-align: top;\n",
       "    }\n",
       "\n",
       "    .dataframe thead th {\n",
       "        text-align: right;\n",
       "    }\n",
       "</style>\n",
       "<table border=\"1\" class=\"dataframe\">\n",
       "  <thead>\n",
       "    <tr style=\"text-align: right;\">\n",
       "      <th></th>\n",
       "      <th>Optimizer</th>\n",
       "      <th>run time</th>\n",
       "    </tr>\n",
       "  </thead>\n",
       "  <tbody>\n",
       "    <tr>\n",
       "      <th>0</th>\n",
       "      <td>SGD</td>\n",
       "      <td>481.376192</td>\n",
       "    </tr>\n",
       "    <tr>\n",
       "      <th>1</th>\n",
       "      <td>Momentum</td>\n",
       "      <td>564.987673</td>\n",
       "    </tr>\n",
       "    <tr>\n",
       "      <th>2</th>\n",
       "      <td>Adagrad</td>\n",
       "      <td>588.204285</td>\n",
       "    </tr>\n",
       "    <tr>\n",
       "      <th>3</th>\n",
       "      <td>Adam</td>\n",
       "      <td>574.127774</td>\n",
       "    </tr>\n",
       "    <tr>\n",
       "      <th>4</th>\n",
       "      <td>NAdam</td>\n",
       "      <td>576.612297</td>\n",
       "    </tr>\n",
       "    <tr>\n",
       "      <th>5</th>\n",
       "      <td>RMSprop</td>\n",
       "      <td>570.779034</td>\n",
       "    </tr>\n",
       "  </tbody>\n",
       "</table>\n",
       "</div>"
      ],
      "text/plain": [
       "  Optimizer    run time\n",
       "0       SGD  481.376192\n",
       "1  Momentum  564.987673\n",
       "2   Adagrad  588.204285\n",
       "3      Adam  574.127774\n",
       "4     NAdam  576.612297\n",
       "5   RMSprop  570.779034"
      ]
     },
     "execution_count": 674,
     "metadata": {},
     "output_type": "execute_result"
    }
   ],
   "source": [
    "time_df = pd.DataFrame.from_dict(run_time_list)\n",
    "time_df"
   ]
  },
  {
   "cell_type": "code",
   "execution_count": 675,
   "id": "6799eccc",
   "metadata": {},
   "outputs": [
    {
     "data": {
      "text/plain": [
       "(0.9, 120.0)"
      ]
     },
     "execution_count": 675,
     "metadata": {},
     "output_type": "execute_result"
    },
    {
     "data": {
      "image/png": "[encoded data removed]",
      "text/plain": [
       "<Figure size 432x288 with 1 Axes>"
      ]
     },
     "metadata": {
      "needs_background": "light"
     },
     "output_type": "display_data"
    }
   ],
   "source": [
    "import seaborn as sns\n",
    "\n",
    "fig , ax  = plt.subplots()\n",
    "sns.barplot(x ='Optimizer',y='Accuracy' , data=result_df)\n",
    "ax.set_ylim(0.9,120)"
   ]
  },
  {
   "cell_type": "code",
   "execution_count": 676,
   "id": "88d6882f",
   "metadata": {},
   "outputs": [
    {
     "data": {
      "text/plain": [
       "(0.9, 600.0)"
      ]
     },
     "execution_count": 676,
     "metadata": {},
     "output_type": "execute_result"
    },
    {
     "data": {
      "image/png": "[encoded data removed]",
      "text/plain": [
       "<Figure size 432x288 with 1 Axes>"
      ]
     },
     "metadata": {
      "needs_background": "light"
     },
     "output_type": "display_data"
    }
   ],
   "source": [
    "import seaborn as sns\n",
    "\n",
    "fig , ax  = plt.subplots()\n",
    "sns.barplot(x ='Optimizer',y='run time' , data=time_df)\n",
    "ax.set_ylim(0.9,600)"
   ]
  },
  {
   "cell_type": "code",
   "execution_count": 677,
   "id": "acaa6b99",
   "metadata": {},
   "outputs": [
    {
     "data": {
      "image/png": "[encoded data removed]",
      "text/plain": [
       "<Figure size 432x288 with 1 Axes>"
      ]
     },
     "metadata": {
      "needs_background": "light"
     },
     "output_type": "display_data"
    }
   ],
   "source": [
    "plt.plot(k_epoch,Acc_list_SGD, label = 'SGD')\n",
    "plt.plot(k_epoch,Acc_list_Momentum, label = 'Momentum')\n",
    "plt.plot(k_epoch,Acc_list_Adagrad, label = 'Adagrad')\n",
    "plt.plot(k_epoch,Acc_list_Adam, label = 'Adam')\n",
    "plt.plot(k_epoch,Acc_list_NAdam, label = 'NAdam')\n",
    "plt.plot(k_epoch,Acc_list_NAdam, label = 'RMSprop')\n",
    "plt.xlabel('epoch')\n",
    "plt.ylabel('Accuracy')\n",
    "plt.legend()\n",
    "plt.show()"
   ]
  },
  {
   "cell_type": "code",
   "execution_count": 785,
   "id": "e37a9383",
   "metadata": {},
   "outputs": [
    {
     "data": {
      "image/png": "[encoded data removed]",
      "text/plain": [
       "<Figure size 432x288 with 1 Axes>"
      ]
     },
     "metadata": {
      "needs_background": "light"
     },
     "output_type": "display_data"
    }
   ],
   "source": [
    "plt.plot(k_epoch,Avg_list_SGD, label = 'SGD')\n",
    "plt.plot(k_epoch,Avg_list_Momentum, label = 'Momentum')\n",
    "plt.plot(k_epoch,Avg_list_Adagrad, label = 'Adagrad')\n",
    "plt.plot(k_epoch,Avg_list_Adam, label = 'Adam')\n",
    "plt.plot(k_epoch,Avg_list_NAdam, label = 'NAdam')\n",
    "plt.plot(k_epoch,Avg_list_NAdam, label = 'RMSprop')\n",
    "plt.xlabel('epoch')\n",
    "plt.ylabel('Avrage loss')\n",
    "plt.legend()\n",
    "plt.show()"
   ]
  },
  {
   "cell_type": "code",
   "execution_count": 932,
   "id": "93cc6b17",
   "metadata": {},
   "outputs": [
    {
     "data": {
      "text/plain": [
       "RMSprop (\n",
       "Parameter Group 0\n",
       "    alpha: 0.99\n",
       "    centered: False\n",
       "    eps: 1e-08\n",
       "    lr: 0.01\n",
       "    momentum: 0\n",
       "    weight_decay: 0\n",
       ")"
      ]
     },
     "execution_count": 932,
     "metadata": {},
     "output_type": "execute_result"
    }
   ],
   "source": [
    "#conduct the train and test\n",
    "loss_fn = nn.CrossEntropyLoss()\n",
    "optimizer = torch.optim.RMSprop(model.parameters(), lr=0.01)\n",
    "\n",
    "optimizer"
   ]
  },
  {
   "cell_type": "code",
   "execution_count": null,
   "id": "ff7d5881",
   "metadata": {},
   "outputs": [],
   "source": []
  }
 ],
 "metadata": {
  "kernelspec": {
   "display_name": "Python 3 (ipykernel)",
   "language": "python",
   "name": "python3"
  },
  "language_info": {
   "codemirror_mode": {
    "name": "ipython",
    "version": 3
   },
   "file_extension": ".py",
   "mimetype": "text/x-python",
   "name": "python",
   "nbconvert_exporter": "python",
   "pygments_lexer": "ipython3",
   "version": "3.8.12"
  }
 },
 "nbformat": 4,
 "nbformat_minor": 5
}
